{
 "cells": [
  {
   "cell_type": "markdown",
   "id": "e4d27872-ce5d-443b-8806-ef9890c0e44a",
   "metadata": {},
   "source": [
    "# Telco Churn"
   ]
  },
  {
   "cell_type": "markdown",
   "id": "c5e150c5-a22d-45f5-9182-6229b45d4976",
   "metadata": {
    "tags": []
   },
   "source": [
    "## Table of Contents"
   ]
  },
  {
   "cell_type": "markdown",
   "id": "e383a393-1fcb-48fa-83b6-e8bea60d3556",
   "metadata": {
    "jp-MarkdownHeadingCollapsed": true,
    "tags": []
   },
   "source": [
    "* [Package Imports](#packages_import)\n",
    "* [Acquire](#data_import)\n",
    "* [Prepare](#prepare)\n",
    "* [Explore Process](#explore1)\n",
    "    * [Question 1](#q_1)\n",
    "        * [Q1 Visualization](#q_1_viz)\n",
    "        * [Q1 Statistical Test](#q_1_stats)\n",
    "        * [Q1 Answer](#q_1_ans)\n",
    "    * [Question 2](#q_2)\n",
    "        * [Q2 Visualization](#q_2_viz)\n",
    "        * [Q2 Statistical Test](#q_2_stats)\n",
    "        * [Q2 Answer](#q_2_ans)    \n",
    "    * [Question 3](#q_3)\n",
    "        * [Q3 Visualization](#q_3_viz)\n",
    "        * [Q3 Statistical Test](#q_3_stats)\n",
    "        * [Q3 Answer](#q_3_ans)    \n",
    "    * [Question 4](#q_4)\n",
    "        * [Q4 Visualization](#q_4_viz)\n",
    "        * [Q4 Statistical Test](#q_4_stats)\n",
    "        * [Q4 Answer](#q_4_ans)\n",
    "* [Explore Summary](#explore2)\n",
    "* [Modeling](#modeling)\n",
    "    * [Introduction](#m_intro)\n",
    "    * [Baseline](#baseline)\n",
    "    * [Model 1](#mod_1)\n",
    "    * [Model 2](#mod_2)\n",
    "    * [Model 3](#mod_3)\n",
    "* [Conclusion](#conclusion)\n",
    "    * [Summery](#c_summery)\n",
    "    * [Recommendations](#c_recs)\n",
    "    * [Next Steps](#c_steps)\n",
    "* [ReadMe](#readme)"
   ]
  },
  {
   "cell_type": "markdown",
   "id": "9133cbfe-654c-466f-b6ac-dbb416fc7e48",
   "metadata": {
    "tags": []
   },
   "source": [
    "## Package Imports <a class=\"anchor\" id=\"packages_import\"></a>\n"
   ]
  },
  {
   "cell_type": "code",
   "execution_count": 1,
   "id": "e7beec32-88e4-4538-aef9-6b01f8e03f9b",
   "metadata": {},
   "outputs": [],
   "source": [
    "import pandas as pd\n",
    "import numpy as np\n",
    "from scipy import stats\n",
    "import matplotlib.pyplot as plt\n",
    "import seaborn as sns\n",
    "from acquire import get_telco_data\n",
    "from prepare import prep_telco, train_validate\n",
    "\n",
    "pd.options.display.max_columns = None"
   ]
  },
  {
   "cell_type": "markdown",
   "id": "f9bbbece-a2de-476c-8fd2-b6f92ab4d888",
   "metadata": {
    "tags": []
   },
   "source": [
    "## Acquire<a class=\"anchor\" id=\"data_import\"></a>"
   ]
  },
  {
   "cell_type": "code",
   "execution_count": 2,
   "id": "d1040a5f-c7eb-42c9-878c-7d1dc4a87fe1",
   "metadata": {},
   "outputs": [],
   "source": [
    "master_df = get_telco_data()"
   ]
  },
  {
   "cell_type": "code",
   "execution_count": 7,
   "id": "b65c3f57-cf07-41d7-9480-930e59a76ac6",
   "metadata": {},
   "outputs": [
    {
     "data": {
      "text/html": [
       "<div>\n",
       "<style scoped>\n",
       "    .dataframe tbody tr th:only-of-type {\n",
       "        vertical-align: middle;\n",
       "    }\n",
       "\n",
       "    .dataframe tbody tr th {\n",
       "        vertical-align: top;\n",
       "    }\n",
       "\n",
       "    .dataframe thead th {\n",
       "        text-align: right;\n",
       "    }\n",
       "</style>\n",
       "<table border=\"1\" class=\"dataframe\">\n",
       "  <thead>\n",
       "    <tr style=\"text-align: right;\">\n",
       "      <th></th>\n",
       "      <th>churn_month</th>\n",
       "      <th>paperless_billing</th>\n",
       "      <th>senior_citizen</th>\n",
       "      <th>partner</th>\n",
       "      <th>dependents</th>\n",
       "      <th>monthly_charges</th>\n",
       "      <th>total_charges</th>\n",
       "      <th>signup_date</th>\n",
       "      <th>churn</th>\n",
       "    </tr>\n",
       "  </thead>\n",
       "  <tbody>\n",
       "    <tr>\n",
       "      <th>0</th>\n",
       "      <td>NaN</td>\n",
       "      <td>1</td>\n",
       "      <td>0</td>\n",
       "      <td>1</td>\n",
       "      <td>1</td>\n",
       "      <td>65.6</td>\n",
       "      <td>593.30</td>\n",
       "      <td>2021-04-21 18:07:34</td>\n",
       "      <td>1</td>\n",
       "    </tr>\n",
       "    <tr>\n",
       "      <th>1</th>\n",
       "      <td>NaN</td>\n",
       "      <td>0</td>\n",
       "      <td>0</td>\n",
       "      <td>0</td>\n",
       "      <td>0</td>\n",
       "      <td>59.9</td>\n",
       "      <td>542.40</td>\n",
       "      <td>2021-04-21 18:07:34</td>\n",
       "      <td>1</td>\n",
       "    </tr>\n",
       "    <tr>\n",
       "      <th>2</th>\n",
       "      <td>2022-01-31</td>\n",
       "      <td>1</td>\n",
       "      <td>0</td>\n",
       "      <td>0</td>\n",
       "      <td>0</td>\n",
       "      <td>73.9</td>\n",
       "      <td>280.85</td>\n",
       "      <td>2021-09-21 18:07:34</td>\n",
       "      <td>0</td>\n",
       "    </tr>\n",
       "    <tr>\n",
       "      <th>3</th>\n",
       "      <td>2022-01-31</td>\n",
       "      <td>1</td>\n",
       "      <td>1</td>\n",
       "      <td>1</td>\n",
       "      <td>0</td>\n",
       "      <td>98.0</td>\n",
       "      <td>1237.85</td>\n",
       "      <td>2020-12-21 18:07:34</td>\n",
       "      <td>0</td>\n",
       "    </tr>\n",
       "    <tr>\n",
       "      <th>4</th>\n",
       "      <td>2022-01-31</td>\n",
       "      <td>1</td>\n",
       "      <td>1</td>\n",
       "      <td>1</td>\n",
       "      <td>0</td>\n",
       "      <td>83.9</td>\n",
       "      <td>267.40</td>\n",
       "      <td>2021-10-21 18:07:34</td>\n",
       "      <td>0</td>\n",
       "    </tr>\n",
       "  </tbody>\n",
       "</table>\n",
       "</div>"
      ],
      "text/plain": [
       "  churn_month  paperless_billing  senior_citizen  partner  dependents  \\\n",
       "0         NaN                  1               0        1           1   \n",
       "1         NaN                  0               0        0           0   \n",
       "2  2022-01-31                  1               0        0           0   \n",
       "3  2022-01-31                  1               1        1           0   \n",
       "4  2022-01-31                  1               1        1           0   \n",
       "\n",
       "   monthly_charges  total_charges          signup_date  churn  \n",
       "0             65.6         593.30  2021-04-21 18:07:34      1  \n",
       "1             59.9         542.40  2021-04-21 18:07:34      1  \n",
       "2             73.9         280.85  2021-09-21 18:07:34      0  \n",
       "3             98.0        1237.85  2020-12-21 18:07:34      0  \n",
       "4             83.9         267.40  2021-10-21 18:07:34      0  "
      ]
     },
     "execution_count": 7,
     "metadata": {},
     "output_type": "execute_result"
    }
   ],
   "source": [
    "master_df.head()"
   ]
  },
  {
   "cell_type": "markdown",
   "id": "82e56729-defd-45e1-bf87-e3b0239de0d7",
   "metadata": {
    "tags": []
   },
   "source": [
    "## Prepare <a class=\"anchor\" id=\"prepare\"></a>"
   ]
  },
  {
   "cell_type": "code",
   "execution_count": 4,
   "id": "4c524131-2ca0-423f-a36b-cec7f183d599",
   "metadata": {},
   "outputs": [],
   "source": [
    "working_df = prep_telco(master_df)"
   ]
  },
  {
   "cell_type": "code",
   "execution_count": 6,
   "id": "783fde9a-ba9b-4eb4-8794-03fd1593a065",
   "metadata": {},
   "outputs": [
    {
     "data": {
      "text/html": [
       "<div>\n",
       "<style scoped>\n",
       "    .dataframe tbody tr th:only-of-type {\n",
       "        vertical-align: middle;\n",
       "    }\n",
       "\n",
       "    .dataframe tbody tr th {\n",
       "        vertical-align: top;\n",
       "    }\n",
       "\n",
       "    .dataframe thead th {\n",
       "        text-align: right;\n",
       "    }\n",
       "</style>\n",
       "<table border=\"1\" class=\"dataframe\">\n",
       "  <thead>\n",
       "    <tr style=\"text-align: right;\">\n",
       "      <th></th>\n",
       "      <th>churn_month</th>\n",
       "      <th>paperless_billing</th>\n",
       "      <th>senior_citizen</th>\n",
       "      <th>partner</th>\n",
       "      <th>dependents</th>\n",
       "      <th>monthly_charges</th>\n",
       "      <th>total_charges</th>\n",
       "      <th>signup_date</th>\n",
       "      <th>churn</th>\n",
       "      <th>gender_Male</th>\n",
       "      <th>streaming_movies_No internet service</th>\n",
       "      <th>streaming_movies_Yes</th>\n",
       "      <th>streaming_tv_No internet service</th>\n",
       "      <th>streaming_tv_Yes</th>\n",
       "      <th>tech_support_No internet service</th>\n",
       "      <th>tech_support_Yes</th>\n",
       "      <th>multiple_lines_No phone service</th>\n",
       "      <th>multiple_lines_Yes</th>\n",
       "      <th>online_backup_No internet service</th>\n",
       "      <th>online_backup_Yes</th>\n",
       "      <th>online_security_No internet service</th>\n",
       "      <th>online_security_Yes</th>\n",
       "      <th>device_protection_No internet service</th>\n",
       "      <th>device_protection_Yes</th>\n",
       "      <th>payment_type_Credit card (automatic)</th>\n",
       "      <th>payment_type_Electronic check</th>\n",
       "      <th>payment_type_Mailed check</th>\n",
       "      <th>internet_service_type_Fiber optic</th>\n",
       "      <th>internet_service_type_None</th>\n",
       "      <th>contract_type_One year</th>\n",
       "      <th>contract_type_Two year</th>\n",
       "    </tr>\n",
       "  </thead>\n",
       "  <tbody>\n",
       "    <tr>\n",
       "      <th>0</th>\n",
       "      <td>NaN</td>\n",
       "      <td>1</td>\n",
       "      <td>0</td>\n",
       "      <td>1</td>\n",
       "      <td>1</td>\n",
       "      <td>65.6</td>\n",
       "      <td>593.30</td>\n",
       "      <td>2021-04-21 18:07:34</td>\n",
       "      <td>1</td>\n",
       "      <td>0</td>\n",
       "      <td>0</td>\n",
       "      <td>0</td>\n",
       "      <td>0</td>\n",
       "      <td>1</td>\n",
       "      <td>0</td>\n",
       "      <td>1</td>\n",
       "      <td>0</td>\n",
       "      <td>0</td>\n",
       "      <td>0</td>\n",
       "      <td>1</td>\n",
       "      <td>0</td>\n",
       "      <td>0</td>\n",
       "      <td>0</td>\n",
       "      <td>0</td>\n",
       "      <td>0</td>\n",
       "      <td>0</td>\n",
       "      <td>1</td>\n",
       "      <td>0</td>\n",
       "      <td>0</td>\n",
       "      <td>1</td>\n",
       "      <td>0</td>\n",
       "    </tr>\n",
       "    <tr>\n",
       "      <th>1</th>\n",
       "      <td>NaN</td>\n",
       "      <td>0</td>\n",
       "      <td>0</td>\n",
       "      <td>0</td>\n",
       "      <td>0</td>\n",
       "      <td>59.9</td>\n",
       "      <td>542.40</td>\n",
       "      <td>2021-04-21 18:07:34</td>\n",
       "      <td>1</td>\n",
       "      <td>1</td>\n",
       "      <td>0</td>\n",
       "      <td>1</td>\n",
       "      <td>0</td>\n",
       "      <td>0</td>\n",
       "      <td>0</td>\n",
       "      <td>0</td>\n",
       "      <td>0</td>\n",
       "      <td>1</td>\n",
       "      <td>0</td>\n",
       "      <td>0</td>\n",
       "      <td>0</td>\n",
       "      <td>0</td>\n",
       "      <td>0</td>\n",
       "      <td>0</td>\n",
       "      <td>0</td>\n",
       "      <td>0</td>\n",
       "      <td>1</td>\n",
       "      <td>0</td>\n",
       "      <td>0</td>\n",
       "      <td>0</td>\n",
       "      <td>0</td>\n",
       "    </tr>\n",
       "    <tr>\n",
       "      <th>2</th>\n",
       "      <td>2022-01-31</td>\n",
       "      <td>1</td>\n",
       "      <td>0</td>\n",
       "      <td>0</td>\n",
       "      <td>0</td>\n",
       "      <td>73.9</td>\n",
       "      <td>280.85</td>\n",
       "      <td>2021-09-21 18:07:34</td>\n",
       "      <td>0</td>\n",
       "      <td>1</td>\n",
       "      <td>0</td>\n",
       "      <td>0</td>\n",
       "      <td>0</td>\n",
       "      <td>0</td>\n",
       "      <td>0</td>\n",
       "      <td>0</td>\n",
       "      <td>0</td>\n",
       "      <td>0</td>\n",
       "      <td>0</td>\n",
       "      <td>0</td>\n",
       "      <td>0</td>\n",
       "      <td>0</td>\n",
       "      <td>0</td>\n",
       "      <td>1</td>\n",
       "      <td>0</td>\n",
       "      <td>1</td>\n",
       "      <td>0</td>\n",
       "      <td>1</td>\n",
       "      <td>0</td>\n",
       "      <td>0</td>\n",
       "      <td>0</td>\n",
       "    </tr>\n",
       "    <tr>\n",
       "      <th>3</th>\n",
       "      <td>2022-01-31</td>\n",
       "      <td>1</td>\n",
       "      <td>1</td>\n",
       "      <td>1</td>\n",
       "      <td>0</td>\n",
       "      <td>98.0</td>\n",
       "      <td>1237.85</td>\n",
       "      <td>2020-12-21 18:07:34</td>\n",
       "      <td>0</td>\n",
       "      <td>1</td>\n",
       "      <td>0</td>\n",
       "      <td>1</td>\n",
       "      <td>0</td>\n",
       "      <td>1</td>\n",
       "      <td>0</td>\n",
       "      <td>0</td>\n",
       "      <td>0</td>\n",
       "      <td>0</td>\n",
       "      <td>0</td>\n",
       "      <td>1</td>\n",
       "      <td>0</td>\n",
       "      <td>0</td>\n",
       "      <td>0</td>\n",
       "      <td>1</td>\n",
       "      <td>0</td>\n",
       "      <td>1</td>\n",
       "      <td>0</td>\n",
       "      <td>1</td>\n",
       "      <td>0</td>\n",
       "      <td>0</td>\n",
       "      <td>0</td>\n",
       "    </tr>\n",
       "    <tr>\n",
       "      <th>4</th>\n",
       "      <td>2022-01-31</td>\n",
       "      <td>1</td>\n",
       "      <td>1</td>\n",
       "      <td>1</td>\n",
       "      <td>0</td>\n",
       "      <td>83.9</td>\n",
       "      <td>267.40</td>\n",
       "      <td>2021-10-21 18:07:34</td>\n",
       "      <td>0</td>\n",
       "      <td>0</td>\n",
       "      <td>0</td>\n",
       "      <td>0</td>\n",
       "      <td>0</td>\n",
       "      <td>1</td>\n",
       "      <td>0</td>\n",
       "      <td>1</td>\n",
       "      <td>0</td>\n",
       "      <td>0</td>\n",
       "      <td>0</td>\n",
       "      <td>0</td>\n",
       "      <td>0</td>\n",
       "      <td>0</td>\n",
       "      <td>0</td>\n",
       "      <td>0</td>\n",
       "      <td>0</td>\n",
       "      <td>0</td>\n",
       "      <td>1</td>\n",
       "      <td>1</td>\n",
       "      <td>0</td>\n",
       "      <td>0</td>\n",
       "      <td>0</td>\n",
       "    </tr>\n",
       "  </tbody>\n",
       "</table>\n",
       "</div>"
      ],
      "text/plain": [
       "  churn_month  paperless_billing  senior_citizen  partner  dependents  \\\n",
       "0         NaN                  1               0        1           1   \n",
       "1         NaN                  0               0        0           0   \n",
       "2  2022-01-31                  1               0        0           0   \n",
       "3  2022-01-31                  1               1        1           0   \n",
       "4  2022-01-31                  1               1        1           0   \n",
       "\n",
       "   monthly_charges  total_charges          signup_date  churn  gender_Male  \\\n",
       "0             65.6         593.30  2021-04-21 18:07:34      1            0   \n",
       "1             59.9         542.40  2021-04-21 18:07:34      1            1   \n",
       "2             73.9         280.85  2021-09-21 18:07:34      0            1   \n",
       "3             98.0        1237.85  2020-12-21 18:07:34      0            1   \n",
       "4             83.9         267.40  2021-10-21 18:07:34      0            0   \n",
       "\n",
       "   streaming_movies_No internet service  streaming_movies_Yes  \\\n",
       "0                                     0                     0   \n",
       "1                                     0                     1   \n",
       "2                                     0                     0   \n",
       "3                                     0                     1   \n",
       "4                                     0                     0   \n",
       "\n",
       "   streaming_tv_No internet service  streaming_tv_Yes  \\\n",
       "0                                 0                 1   \n",
       "1                                 0                 0   \n",
       "2                                 0                 0   \n",
       "3                                 0                 1   \n",
       "4                                 0                 1   \n",
       "\n",
       "   tech_support_No internet service  tech_support_Yes  \\\n",
       "0                                 0                 1   \n",
       "1                                 0                 0   \n",
       "2                                 0                 0   \n",
       "3                                 0                 0   \n",
       "4                                 0                 1   \n",
       "\n",
       "   multiple_lines_No phone service  multiple_lines_Yes  \\\n",
       "0                                0                   0   \n",
       "1                                0                   1   \n",
       "2                                0                   0   \n",
       "3                                0                   0   \n",
       "4                                0                   0   \n",
       "\n",
       "   online_backup_No internet service  online_backup_Yes  \\\n",
       "0                                  0                  1   \n",
       "1                                  0                  0   \n",
       "2                                  0                  0   \n",
       "3                                  0                  1   \n",
       "4                                  0                  0   \n",
       "\n",
       "   online_security_No internet service  online_security_Yes  \\\n",
       "0                                    0                    0   \n",
       "1                                    0                    0   \n",
       "2                                    0                    0   \n",
       "3                                    0                    0   \n",
       "4                                    0                    0   \n",
       "\n",
       "   device_protection_No internet service  device_protection_Yes  \\\n",
       "0                                      0                      0   \n",
       "1                                      0                      0   \n",
       "2                                      0                      1   \n",
       "3                                      0                      1   \n",
       "4                                      0                      0   \n",
       "\n",
       "   payment_type_Credit card (automatic)  payment_type_Electronic check  \\\n",
       "0                                     0                              0   \n",
       "1                                     0                              0   \n",
       "2                                     0                              1   \n",
       "3                                     0                              1   \n",
       "4                                     0                              0   \n",
       "\n",
       "   payment_type_Mailed check  internet_service_type_Fiber optic  \\\n",
       "0                          1                                  0   \n",
       "1                          1                                  0   \n",
       "2                          0                                  1   \n",
       "3                          0                                  1   \n",
       "4                          1                                  1   \n",
       "\n",
       "   internet_service_type_None  contract_type_One year  contract_type_Two year  \n",
       "0                           0                       1                       0  \n",
       "1                           0                       0                       0  \n",
       "2                           0                       0                       0  \n",
       "3                           0                       0                       0  \n",
       "4                           0                       0                       0  "
      ]
     },
     "execution_count": 6,
     "metadata": {},
     "output_type": "execute_result"
    }
   ],
   "source": [
    "working_df.head()"
   ]
  },
  {
   "cell_type": "markdown",
   "id": "43e8c236-1d9b-49bf-beb8-d496d0413ea1",
   "metadata": {
    "tags": []
   },
   "source": [
    "## Explore process <a class=\"anchor\" id=\"explore1\"></a>"
   ]
  },
  {
   "cell_type": "code",
   "execution_count": 5,
   "id": "1e225ee2-9304-4579-853d-205a79c7e064",
   "metadata": {},
   "outputs": [],
   "source": [
    "#Split, Apply, Combine.\n",
    "#Split using a single column new_group = df.groupby(['column'])\n",
    "#get the new group new_group.get_group('group')\n",
    "\n",
    "#Useful bc you don't need a filter every time:\n",
    "#new_group['column'].value_counts().loc['any_group']\n",
    "#To see percentages versus numbers:\n",
    "#new_group['column'].value_counts(normalize=True).loc['any_group']\n",
    "\n",
    "\n",
    "#Alt way:\n",
    "#filt = df['column'] == 'group'\n",
    "#df.loc[filt]"
   ]
  },
  {
   "cell_type": "markdown",
   "id": "13a7a3da-94a6-408a-9137-16fb44c3277f",
   "metadata": {},
   "source": [
    "### Question 1 <a class=\"anchor\" id=\"q_1\"></a>"
   ]
  },
  {
   "cell_type": "markdown",
   "id": "9107f19c-9fda-48fa-bfb0-9b533aeab9a0",
   "metadata": {},
   "source": [
    "#### Q1 Visualization <a class=\"anchor\" id=\"q_1_viz\"></a>"
   ]
  },
  {
   "cell_type": "markdown",
   "id": "72803191-c7a9-40de-a99a-161473270279",
   "metadata": {},
   "source": [
    "#### Q1 Statistical Test <a class=\"anchor\" id=\"q_1_stats\"></a>"
   ]
  },
  {
   "cell_type": "markdown",
   "id": "fa653c8b-64e1-43e6-aa0d-3f26349d3c71",
   "metadata": {},
   "source": [
    "#### Q1 Answer <a class=\"anchor\" id=\"q_1_ans\"></a>"
   ]
  },
  {
   "cell_type": "markdown",
   "id": "d7f50487-e2e4-48a6-ab84-365256901d55",
   "metadata": {
    "tags": []
   },
   "source": [
    "### Question 2 <a class=\"anchor\" id=\"q_2\"></a>"
   ]
  },
  {
   "cell_type": "markdown",
   "id": "21704ac9-d833-40d7-9a7f-faff48974274",
   "metadata": {},
   "source": [
    "#### Q2 Visualization <a class=\"anchor\" id=\"q_2_viz\"></a>"
   ]
  },
  {
   "cell_type": "markdown",
   "id": "ad88babc-eda1-4d86-af9d-82fda2f6db3c",
   "metadata": {},
   "source": [
    "#### Q2 Statistical Test <a class=\"anchor\" id=\"q_2_stats\"></a>"
   ]
  },
  {
   "cell_type": "markdown",
   "id": "85e896d4-ea08-42ee-bf2d-f4739fcd3248",
   "metadata": {},
   "source": [
    "#### Q2 Answer <a class=\"anchor\" id=\"q_2_ans\"></a>"
   ]
  },
  {
   "cell_type": "markdown",
   "id": "0e76b94f-568b-467c-8fa6-6374f080bbc2",
   "metadata": {},
   "source": [
    "### Question 3 <a class=\"anchor\" id=\"q_3\"></a>"
   ]
  },
  {
   "cell_type": "markdown",
   "id": "59f03859-7917-40fa-852f-c19a17b816ab",
   "metadata": {},
   "source": [
    "#### Q3 Visualization <a class=\"anchor\" id=\"q_3_viz\"></a>"
   ]
  },
  {
   "cell_type": "markdown",
   "id": "4de1d165-5a61-4a80-b921-27d96c56f749",
   "metadata": {},
   "source": [
    "#### Q3 Statistical Test <a class=\"anchor\" id=\"q_3_stats\"></a>"
   ]
  },
  {
   "cell_type": "markdown",
   "id": "66f9719e-14a6-44aa-b680-d769c95e48c7",
   "metadata": {},
   "source": [
    "#### Q3 Answer <a class=\"anchor\" id=\"q_3_ans\"></a>"
   ]
  },
  {
   "cell_type": "markdown",
   "id": "58e36f34-7b37-474c-a91f-1e87c5ddbe9c",
   "metadata": {},
   "source": [
    "### Question 4 <a class=\"anchor\" id=\"q_4\"></a>"
   ]
  },
  {
   "cell_type": "markdown",
   "id": "1ef53f71-f308-4fcd-b395-ba624049572e",
   "metadata": {},
   "source": [
    "#### Q4 Visualization <a class=\"anchor\" id=\"q_4_viz\"></a>"
   ]
  },
  {
   "cell_type": "markdown",
   "id": "4de85212-4e22-43ee-940d-b14716cc4d74",
   "metadata": {},
   "source": [
    "#### Q4 Statistical Test <a class=\"anchor\" id=\"q_4_stats\"></a>"
   ]
  },
  {
   "cell_type": "markdown",
   "id": "01a09f03-5a1d-4bff-b071-2b13f26abd1b",
   "metadata": {},
   "source": [
    "#### Q4 Answer <a class=\"anchor\" id=\"q_4_ans\"></a>"
   ]
  },
  {
   "cell_type": "markdown",
   "id": "6e69a5bd-9e53-4fcb-85fc-12a4e1f743fb",
   "metadata": {
    "tags": []
   },
   "source": [
    "## Explore summary <a class=\"anchor\" id=\"explore2\"></a>"
   ]
  },
  {
   "cell_type": "markdown",
   "id": "7588c745-69e2-47d4-a4c9-aa52cadba7f7",
   "metadata": {},
   "source": [
    "## Modeling <a class=\"anchor\" id=\"modeling\"></a>"
   ]
  },
  {
   "cell_type": "markdown",
   "id": "6d6b595c-5434-4bdd-8a5d-3fc9b1c6a570",
   "metadata": {},
   "source": [
    "### Introduction <a class=\"anchor\" id=\"m_intro\"></a>"
   ]
  },
  {
   "cell_type": "markdown",
   "id": "c4789371-a1c2-42fc-a269-908883997e9d",
   "metadata": {},
   "source": [
    "### Baseline <a class=\"anchor\" id=\"baseline\"></a>"
   ]
  },
  {
   "cell_type": "markdown",
   "id": "d82a1d76-d892-4568-bab9-5278742f5ae9",
   "metadata": {},
   "source": [
    "### Model 1 <a class=\"anchor\" id=\"mod_1\"></a>"
   ]
  },
  {
   "cell_type": "markdown",
   "id": "1f561660-a9dc-4f7a-95c2-731ef8be1971",
   "metadata": {},
   "source": [
    "### Model 2 <a class=\"anchor\" id=\"mod_2\"></a>"
   ]
  },
  {
   "cell_type": "markdown",
   "id": "41c2ebe1-b3ff-42ca-b1cb-daad9f7ad780",
   "metadata": {},
   "source": [
    "### Model 3 <a class=\"anchor\" id=\"mod_3\"></a>"
   ]
  },
  {
   "cell_type": "markdown",
   "id": "5821af27-797e-4d21-a622-585e34d8837d",
   "metadata": {},
   "source": [
    "## Conclusion <a class=\"anchor\" id=\"conclusion\"></a>"
   ]
  },
  {
   "cell_type": "markdown",
   "id": "08146521-cf0d-444c-ab80-8b6a49f0fffd",
   "metadata": {},
   "source": [
    "### Summery <a class=\"anchor\" id=\"c_summery\"></a>"
   ]
  },
  {
   "cell_type": "markdown",
   "id": "4d9f15e6-dfb6-477a-b5e8-6089a5bf53c5",
   "metadata": {},
   "source": [
    "### Recommendations <a class=\"anchor\" id=\"c_recs\"></a>"
   ]
  },
  {
   "cell_type": "markdown",
   "id": "975b79df-d0c7-4736-994b-b79f787568c2",
   "metadata": {},
   "source": [
    "### Next Steps <a class=\"anchor\" id=\"c_steps\"></a>"
   ]
  },
  {
   "cell_type": "markdown",
   "id": "9c4963c6-3a98-4ca2-9e8c-22e29986b323",
   "metadata": {
    "tags": []
   },
   "source": [
    "## ReadMe <a class=\"anchor\" id=\"readme\"></a>"
   ]
  },
  {
   "cell_type": "markdown",
   "id": "0ee8a8b0-2725-4c39-a578-42385d0c39de",
   "metadata": {
    "tags": []
   },
   "source": [
    "Your README should contain all of the following elements:\n",
    "\n",
    "* **Title** Gives the name of your project\n",
    "* **Project Description** Describes what your project is and why it is important \n",
    "* **Project Goal** Clearly states what your project sets out to do and how the information gained can be applied to the real world\n",
    "* **Initial Hypotheses** Initial questions used to focus your project \n",
    "* **Project Plan** Guides the reader through the different stages of the pipeline as they relate to your project\n",
    "* **Data Dictionary** Gives a definition for each of the features used in your report and the units they are measured in, if applicable\n",
    "* **Steps to Reproduce** Gives instructions for reproducing your work. i.e. Running your notebook on someone else's computer."
   ]
  },
  {
   "cell_type": "code",
   "execution_count": null,
   "id": "d8f58811-0a53-4fe6-94c2-cfb7debc63ab",
   "metadata": {},
   "outputs": [],
   "source": []
  },
  {
   "cell_type": "code",
   "execution_count": null,
   "id": "54df4856-acb2-4061-ad94-981ae74283cc",
   "metadata": {},
   "outputs": [],
   "source": []
  },
  {
   "cell_type": "code",
   "execution_count": null,
   "id": "3ec4d9a4-8232-4bbe-925b-3656cd3ce84c",
   "metadata": {},
   "outputs": [],
   "source": []
  }
 ],
 "metadata": {
  "kernelspec": {
   "display_name": "Python 3 (ipykernel)",
   "language": "python",
   "name": "python3"
  },
  "language_info": {
   "codemirror_mode": {
    "name": "ipython",
    "version": 3
   },
   "file_extension": ".py",
   "mimetype": "text/x-python",
   "name": "python",
   "nbconvert_exporter": "python",
   "pygments_lexer": "ipython3",
   "version": "3.9.15"
  }
 },
 "nbformat": 4,
 "nbformat_minor": 5
}
