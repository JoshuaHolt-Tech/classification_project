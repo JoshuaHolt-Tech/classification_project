{
 "cells": [
  {
   "cell_type": "markdown",
   "id": "e4d27872-ce5d-443b-8806-ef9890c0e44a",
   "metadata": {},
   "source": [
    "# Classification Project: Telco Churn"
   ]
  },
  {
   "cell_type": "markdown",
   "id": "c5e150c5-a22d-45f5-9182-6229b45d4976",
   "metadata": {
    "tags": []
   },
   "source": [
    "## Table of Contents"
   ]
  },
  {
   "cell_type": "markdown",
   "id": "e383a393-1fcb-48fa-83b6-e8bea60d3556",
   "metadata": {
    "jp-MarkdownHeadingCollapsed": true,
    "tags": []
   },
   "source": [
    "* [Package Imports](#packages_import)\n",
    "* [Acquire](#data_import)\n",
    "* [Prepare](#prepare)\n",
    "* [Explore Process](#explore1)\n",
    "    * [Question 1](#q_1)\n",
    "        * [Q1 Visualization](#q_1_viz)\n",
    "        * [Q1 Statistical Test](#q_1_stats)\n",
    "        * [Q1 Answer](#q_1_ans)\n",
    "    * [Question 2](#q_2)\n",
    "        * [Q2 Visualization](#q_2_viz)\n",
    "        * [Q2 Statistical Test](#q_2_stats)\n",
    "        * [Q2 Answer](#q_2_ans)    \n",
    "    * [Question 3](#q_3)\n",
    "        * [Q3 Visualization](#q_3_viz)\n",
    "        * [Q3 Statistical Test](#q_3_stats)\n",
    "        * [Q3 Answer](#q_3_ans)    \n",
    "    * [Question 4](#q_4)\n",
    "        * [Q4 Visualization](#q_4_viz)\n",
    "        * [Q4 Statistical Test](#q_4_stats)\n",
    "        * [Q4 Answer](#q_4_ans)\n",
    "    * [Question 5](#q_5)\n",
    "        * [Q5 Visualization](#q_5_viz)\n",
    "        * [Q5 Statistical Test](#q_5_stats)\n",
    "        * [Q5 Answer](#q_5_ans)\n",
    "    * [Question 6](#q_6)\n",
    "        * [Q6 Visualization](#q_6_viz)\n",
    "        * [Q6 Statistical Test](#q_6_stats)\n",
    "        * [Q6 Answer](#q_6_ans)\n",
    "* [Explore Summary](#explore2)\n",
    "* [Modeling](#modeling)\n",
    "    * [Introduction](#m_intro)\n",
    "    * [Baseline](#baseline)\n",
    "    * [Model 1](#mod_1)\n",
    "    * [Model 2](#mod_2)\n",
    "    * [Model 3](#mod_3)\n",
    "* [Conclusion](#conclusion)\n",
    "    * [Summery](#c_summery)\n",
    "    * [Recommendations](#c_recs)\n",
    "    * [Next Steps](#c_steps)"
   ]
  },
  {
   "cell_type": "markdown",
   "id": "9133cbfe-654c-466f-b6ac-dbb416fc7e48",
   "metadata": {
    "tags": []
   },
   "source": [
    "## Package Imports <a class=\"anchor\" id=\"packages_import\"></a>\n"
   ]
  },
  {
   "cell_type": "code",
   "execution_count": 1,
   "id": "e7beec32-88e4-4538-aef9-6b01f8e03f9b",
   "metadata": {},
   "outputs": [],
   "source": [
    "#Importing required packages and files\n",
    "import pandas as pd\n",
    "import numpy as np\n",
    "from scipy import stats\n",
    "import matplotlib.pyplot as plt\n",
    "import seaborn as sns\n",
    "\n",
    "#These imports were constructed\n",
    "from acquire import get_telco_data\n",
    "from prepare import prep_telco, train_validate\n",
    "\n",
    "#Tools to build machine learning models and reports\n",
    "from sklearn.metrics import classification_report, confusion_matrix\n",
    "from sklearn.model_selection import train_test_split\n",
    "from sklearn.tree import DecisionTreeClassifier, plot_tree\n",
    "from sklearn.ensemble import RandomForestClassifier\n",
    "from sklearn.neighbors import KNeighborsClassifier\n",
    "from sklearn.linear_model import LogisticRegression\n",
    "\n",
    "#Removes warnings and imporves asthenics\n",
    "import warnings\n",
    "warnings.filterwarnings(\"ignore\")\n",
    "\n",
    "#Sets an option to show all columns\n",
    "pd.options.display.max_columns = None"
   ]
  },
  {
   "cell_type": "markdown",
   "id": "f9bbbece-a2de-476c-8fd2-b6f92ab4d888",
   "metadata": {
    "tags": []
   },
   "source": [
    "## Acquire<a class=\"anchor\" id=\"data_import\"></a>"
   ]
  },
  {
   "cell_type": "code",
   "execution_count": 2,
   "id": "d1040a5f-c7eb-42c9-878c-7d1dc4a87fe1",
   "metadata": {},
   "outputs": [],
   "source": [
    "#First tries to get telco data from catche or aquires new data from MySQL database and assigns it to the master Data Frame: \n",
    "master_df = get_telco_data()"
   ]
  },
  {
   "cell_type": "markdown",
   "id": "82e56729-defd-45e1-bf87-e3b0239de0d7",
   "metadata": {
    "tags": []
   },
   "source": [
    "## Prepare <a class=\"anchor\" id=\"prepare\"></a>"
   ]
  },
  {
   "cell_type": "code",
   "execution_count": 3,
   "id": "4c524131-2ca0-423f-a36b-cec7f183d599",
   "metadata": {},
   "outputs": [
    {
     "data": {
      "text/html": [
       "<div>\n",
       "<style scoped>\n",
       "    .dataframe tbody tr th:only-of-type {\n",
       "        vertical-align: middle;\n",
       "    }\n",
       "\n",
       "    .dataframe tbody tr th {\n",
       "        vertical-align: top;\n",
       "    }\n",
       "\n",
       "    .dataframe thead th {\n",
       "        text-align: right;\n",
       "    }\n",
       "</style>\n",
       "<table border=\"1\" class=\"dataframe\">\n",
       "  <thead>\n",
       "    <tr style=\"text-align: right;\">\n",
       "      <th></th>\n",
       "      <th>paperless_billing</th>\n",
       "      <th>senior_citizen</th>\n",
       "      <th>partner</th>\n",
       "      <th>dependents</th>\n",
       "      <th>monthly_charges</th>\n",
       "      <th>total_charges</th>\n",
       "      <th>churn</th>\n",
       "      <th>tenure</th>\n",
       "      <th>gender_Female</th>\n",
       "      <th>gender_Male</th>\n",
       "      <th>streaming_movies_No</th>\n",
       "      <th>streaming_movies_No internet service</th>\n",
       "      <th>streaming_movies_Yes</th>\n",
       "      <th>streaming_tv_No</th>\n",
       "      <th>streaming_tv_No internet service</th>\n",
       "      <th>streaming_tv_Yes</th>\n",
       "      <th>tech_support_No</th>\n",
       "      <th>tech_support_No internet service</th>\n",
       "      <th>tech_support_Yes</th>\n",
       "      <th>multiple_lines_No</th>\n",
       "      <th>multiple_lines_No phone service</th>\n",
       "      <th>multiple_lines_Yes</th>\n",
       "      <th>online_backup_No</th>\n",
       "      <th>online_backup_No internet service</th>\n",
       "      <th>online_backup_Yes</th>\n",
       "      <th>online_security_No</th>\n",
       "      <th>online_security_No internet service</th>\n",
       "      <th>online_security_Yes</th>\n",
       "      <th>device_protection_No</th>\n",
       "      <th>device_protection_No internet service</th>\n",
       "      <th>device_protection_Yes</th>\n",
       "      <th>payment_type_Bank transfer (automatic)</th>\n",
       "      <th>payment_type_Credit card (automatic)</th>\n",
       "      <th>payment_type_Electronic check</th>\n",
       "      <th>payment_type_Mailed check</th>\n",
       "      <th>internet_service_type_DSL</th>\n",
       "      <th>internet_service_type_Fiber optic</th>\n",
       "      <th>internet_service_type_None</th>\n",
       "      <th>contract_type_Month-to-month</th>\n",
       "      <th>contract_type_One year</th>\n",
       "      <th>contract_type_Two year</th>\n",
       "    </tr>\n",
       "  </thead>\n",
       "  <tbody>\n",
       "    <tr>\n",
       "      <th>0</th>\n",
       "      <td>1</td>\n",
       "      <td>0</td>\n",
       "      <td>1</td>\n",
       "      <td>1</td>\n",
       "      <td>65.6</td>\n",
       "      <td>593.30</td>\n",
       "      <td>0</td>\n",
       "      <td>9.0</td>\n",
       "      <td>1</td>\n",
       "      <td>0</td>\n",
       "      <td>1</td>\n",
       "      <td>0</td>\n",
       "      <td>0</td>\n",
       "      <td>0</td>\n",
       "      <td>0</td>\n",
       "      <td>1</td>\n",
       "      <td>0</td>\n",
       "      <td>0</td>\n",
       "      <td>1</td>\n",
       "      <td>1</td>\n",
       "      <td>0</td>\n",
       "      <td>0</td>\n",
       "      <td>0</td>\n",
       "      <td>0</td>\n",
       "      <td>1</td>\n",
       "      <td>1</td>\n",
       "      <td>0</td>\n",
       "      <td>0</td>\n",
       "      <td>1</td>\n",
       "      <td>0</td>\n",
       "      <td>0</td>\n",
       "      <td>0</td>\n",
       "      <td>0</td>\n",
       "      <td>0</td>\n",
       "      <td>1</td>\n",
       "      <td>1</td>\n",
       "      <td>0</td>\n",
       "      <td>0</td>\n",
       "      <td>0</td>\n",
       "      <td>1</td>\n",
       "      <td>0</td>\n",
       "    </tr>\n",
       "    <tr>\n",
       "      <th>1</th>\n",
       "      <td>0</td>\n",
       "      <td>0</td>\n",
       "      <td>0</td>\n",
       "      <td>0</td>\n",
       "      <td>59.9</td>\n",
       "      <td>542.40</td>\n",
       "      <td>0</td>\n",
       "      <td>9.0</td>\n",
       "      <td>0</td>\n",
       "      <td>1</td>\n",
       "      <td>0</td>\n",
       "      <td>0</td>\n",
       "      <td>1</td>\n",
       "      <td>1</td>\n",
       "      <td>0</td>\n",
       "      <td>0</td>\n",
       "      <td>1</td>\n",
       "      <td>0</td>\n",
       "      <td>0</td>\n",
       "      <td>0</td>\n",
       "      <td>0</td>\n",
       "      <td>1</td>\n",
       "      <td>1</td>\n",
       "      <td>0</td>\n",
       "      <td>0</td>\n",
       "      <td>1</td>\n",
       "      <td>0</td>\n",
       "      <td>0</td>\n",
       "      <td>1</td>\n",
       "      <td>0</td>\n",
       "      <td>0</td>\n",
       "      <td>0</td>\n",
       "      <td>0</td>\n",
       "      <td>0</td>\n",
       "      <td>1</td>\n",
       "      <td>1</td>\n",
       "      <td>0</td>\n",
       "      <td>0</td>\n",
       "      <td>1</td>\n",
       "      <td>0</td>\n",
       "      <td>0</td>\n",
       "    </tr>\n",
       "    <tr>\n",
       "      <th>2</th>\n",
       "      <td>1</td>\n",
       "      <td>0</td>\n",
       "      <td>0</td>\n",
       "      <td>0</td>\n",
       "      <td>73.9</td>\n",
       "      <td>280.85</td>\n",
       "      <td>1</td>\n",
       "      <td>4.0</td>\n",
       "      <td>0</td>\n",
       "      <td>1</td>\n",
       "      <td>1</td>\n",
       "      <td>0</td>\n",
       "      <td>0</td>\n",
       "      <td>1</td>\n",
       "      <td>0</td>\n",
       "      <td>0</td>\n",
       "      <td>1</td>\n",
       "      <td>0</td>\n",
       "      <td>0</td>\n",
       "      <td>1</td>\n",
       "      <td>0</td>\n",
       "      <td>0</td>\n",
       "      <td>1</td>\n",
       "      <td>0</td>\n",
       "      <td>0</td>\n",
       "      <td>1</td>\n",
       "      <td>0</td>\n",
       "      <td>0</td>\n",
       "      <td>0</td>\n",
       "      <td>0</td>\n",
       "      <td>1</td>\n",
       "      <td>0</td>\n",
       "      <td>0</td>\n",
       "      <td>1</td>\n",
       "      <td>0</td>\n",
       "      <td>0</td>\n",
       "      <td>1</td>\n",
       "      <td>0</td>\n",
       "      <td>1</td>\n",
       "      <td>0</td>\n",
       "      <td>0</td>\n",
       "    </tr>\n",
       "    <tr>\n",
       "      <th>3</th>\n",
       "      <td>1</td>\n",
       "      <td>1</td>\n",
       "      <td>1</td>\n",
       "      <td>0</td>\n",
       "      <td>98.0</td>\n",
       "      <td>1237.85</td>\n",
       "      <td>1</td>\n",
       "      <td>13.0</td>\n",
       "      <td>0</td>\n",
       "      <td>1</td>\n",
       "      <td>0</td>\n",
       "      <td>0</td>\n",
       "      <td>1</td>\n",
       "      <td>0</td>\n",
       "      <td>0</td>\n",
       "      <td>1</td>\n",
       "      <td>1</td>\n",
       "      <td>0</td>\n",
       "      <td>0</td>\n",
       "      <td>1</td>\n",
       "      <td>0</td>\n",
       "      <td>0</td>\n",
       "      <td>0</td>\n",
       "      <td>0</td>\n",
       "      <td>1</td>\n",
       "      <td>1</td>\n",
       "      <td>0</td>\n",
       "      <td>0</td>\n",
       "      <td>0</td>\n",
       "      <td>0</td>\n",
       "      <td>1</td>\n",
       "      <td>0</td>\n",
       "      <td>0</td>\n",
       "      <td>1</td>\n",
       "      <td>0</td>\n",
       "      <td>0</td>\n",
       "      <td>1</td>\n",
       "      <td>0</td>\n",
       "      <td>1</td>\n",
       "      <td>0</td>\n",
       "      <td>0</td>\n",
       "    </tr>\n",
       "    <tr>\n",
       "      <th>4</th>\n",
       "      <td>1</td>\n",
       "      <td>1</td>\n",
       "      <td>1</td>\n",
       "      <td>0</td>\n",
       "      <td>83.9</td>\n",
       "      <td>267.40</td>\n",
       "      <td>1</td>\n",
       "      <td>3.0</td>\n",
       "      <td>1</td>\n",
       "      <td>0</td>\n",
       "      <td>1</td>\n",
       "      <td>0</td>\n",
       "      <td>0</td>\n",
       "      <td>0</td>\n",
       "      <td>0</td>\n",
       "      <td>1</td>\n",
       "      <td>0</td>\n",
       "      <td>0</td>\n",
       "      <td>1</td>\n",
       "      <td>1</td>\n",
       "      <td>0</td>\n",
       "      <td>0</td>\n",
       "      <td>1</td>\n",
       "      <td>0</td>\n",
       "      <td>0</td>\n",
       "      <td>1</td>\n",
       "      <td>0</td>\n",
       "      <td>0</td>\n",
       "      <td>1</td>\n",
       "      <td>0</td>\n",
       "      <td>0</td>\n",
       "      <td>0</td>\n",
       "      <td>0</td>\n",
       "      <td>0</td>\n",
       "      <td>1</td>\n",
       "      <td>0</td>\n",
       "      <td>1</td>\n",
       "      <td>0</td>\n",
       "      <td>1</td>\n",
       "      <td>0</td>\n",
       "      <td>0</td>\n",
       "    </tr>\n",
       "  </tbody>\n",
       "</table>\n",
       "</div>"
      ],
      "text/plain": [
       "   paperless_billing  senior_citizen  partner  dependents  monthly_charges  \\\n",
       "0                  1               0        1           1             65.6   \n",
       "1                  0               0        0           0             59.9   \n",
       "2                  1               0        0           0             73.9   \n",
       "3                  1               1        1           0             98.0   \n",
       "4                  1               1        1           0             83.9   \n",
       "\n",
       "   total_charges  churn  tenure  gender_Female  gender_Male  \\\n",
       "0         593.30      0     9.0              1            0   \n",
       "1         542.40      0     9.0              0            1   \n",
       "2         280.85      1     4.0              0            1   \n",
       "3        1237.85      1    13.0              0            1   \n",
       "4         267.40      1     3.0              1            0   \n",
       "\n",
       "   streaming_movies_No  streaming_movies_No internet service  \\\n",
       "0                    1                                     0   \n",
       "1                    0                                     0   \n",
       "2                    1                                     0   \n",
       "3                    0                                     0   \n",
       "4                    1                                     0   \n",
       "\n",
       "   streaming_movies_Yes  streaming_tv_No  streaming_tv_No internet service  \\\n",
       "0                     0                0                                 0   \n",
       "1                     1                1                                 0   \n",
       "2                     0                1                                 0   \n",
       "3                     1                0                                 0   \n",
       "4                     0                0                                 0   \n",
       "\n",
       "   streaming_tv_Yes  tech_support_No  tech_support_No internet service  \\\n",
       "0                 1                0                                 0   \n",
       "1                 0                1                                 0   \n",
       "2                 0                1                                 0   \n",
       "3                 1                1                                 0   \n",
       "4                 1                0                                 0   \n",
       "\n",
       "   tech_support_Yes  multiple_lines_No  multiple_lines_No phone service  \\\n",
       "0                 1                  1                                0   \n",
       "1                 0                  0                                0   \n",
       "2                 0                  1                                0   \n",
       "3                 0                  1                                0   \n",
       "4                 1                  1                                0   \n",
       "\n",
       "   multiple_lines_Yes  online_backup_No  online_backup_No internet service  \\\n",
       "0                   0                 0                                  0   \n",
       "1                   1                 1                                  0   \n",
       "2                   0                 1                                  0   \n",
       "3                   0                 0                                  0   \n",
       "4                   0                 1                                  0   \n",
       "\n",
       "   online_backup_Yes  online_security_No  online_security_No internet service  \\\n",
       "0                  1                   1                                    0   \n",
       "1                  0                   1                                    0   \n",
       "2                  0                   1                                    0   \n",
       "3                  1                   1                                    0   \n",
       "4                  0                   1                                    0   \n",
       "\n",
       "   online_security_Yes  device_protection_No  \\\n",
       "0                    0                     1   \n",
       "1                    0                     1   \n",
       "2                    0                     0   \n",
       "3                    0                     0   \n",
       "4                    0                     1   \n",
       "\n",
       "   device_protection_No internet service  device_protection_Yes  \\\n",
       "0                                      0                      0   \n",
       "1                                      0                      0   \n",
       "2                                      0                      1   \n",
       "3                                      0                      1   \n",
       "4                                      0                      0   \n",
       "\n",
       "   payment_type_Bank transfer (automatic)  \\\n",
       "0                                       0   \n",
       "1                                       0   \n",
       "2                                       0   \n",
       "3                                       0   \n",
       "4                                       0   \n",
       "\n",
       "   payment_type_Credit card (automatic)  payment_type_Electronic check  \\\n",
       "0                                     0                              0   \n",
       "1                                     0                              0   \n",
       "2                                     0                              1   \n",
       "3                                     0                              1   \n",
       "4                                     0                              0   \n",
       "\n",
       "   payment_type_Mailed check  internet_service_type_DSL  \\\n",
       "0                          1                          1   \n",
       "1                          1                          1   \n",
       "2                          0                          0   \n",
       "3                          0                          0   \n",
       "4                          1                          0   \n",
       "\n",
       "   internet_service_type_Fiber optic  internet_service_type_None  \\\n",
       "0                                  0                           0   \n",
       "1                                  0                           0   \n",
       "2                                  1                           0   \n",
       "3                                  1                           0   \n",
       "4                                  1                           0   \n",
       "\n",
       "   contract_type_Month-to-month  contract_type_One year  \\\n",
       "0                             0                       1   \n",
       "1                             1                       0   \n",
       "2                             1                       0   \n",
       "3                             1                       0   \n",
       "4                             1                       0   \n",
       "\n",
       "   contract_type_Two year  \n",
       "0                       0  \n",
       "1                       0  \n",
       "2                       0  \n",
       "3                       0  \n",
       "4                       0  "
      ]
     },
     "execution_count": 3,
     "metadata": {},
     "output_type": "execute_result"
    }
   ],
   "source": [
    "#Takes the master_df and prepares the data for statistical and machine learning analysis:\n",
    "working_df = prep_telco(master_df)\n",
    "working_df.head()"
   ]
  },
  {
   "cell_type": "code",
   "execution_count": 4,
   "id": "8cbf7a9f-d7a6-4dab-bb79-5c90358e105a",
   "metadata": {},
   "outputs": [
    {
     "data": {
      "text/plain": [
       "0.2652802434694395"
      ]
     },
     "execution_count": 4,
     "metadata": {},
     "output_type": "execute_result"
    }
   ],
   "source": [
    "#Seperate data into train(80%), validate(14%) and test(6%) Data Frames:\n",
    "#Random seed of 1969\n",
    "train_df, val_df, test_df = train_validate(working_df, stratify_col='churn')\n",
    "sum(train_df.churn) / len(train_df.churn)"
   ]
  },
  {
   "cell_type": "code",
   "execution_count": 5,
   "id": "33e004af-ac79-4413-bd55-39a3bf142e46",
   "metadata": {},
   "outputs": [
    {
     "data": {
      "text/html": [
       "<div>\n",
       "<style scoped>\n",
       "    .dataframe tbody tr th:only-of-type {\n",
       "        vertical-align: middle;\n",
       "    }\n",
       "\n",
       "    .dataframe tbody tr th {\n",
       "        vertical-align: top;\n",
       "    }\n",
       "\n",
       "    .dataframe thead th {\n",
       "        text-align: right;\n",
       "    }\n",
       "</style>\n",
       "<table border=\"1\" class=\"dataframe\">\n",
       "  <thead>\n",
       "    <tr style=\"text-align: right;\">\n",
       "      <th></th>\n",
       "      <th>paperless_billing</th>\n",
       "      <th>senior_citizen</th>\n",
       "      <th>partner</th>\n",
       "      <th>dependents</th>\n",
       "      <th>monthly_charges</th>\n",
       "      <th>total_charges</th>\n",
       "      <th>churn</th>\n",
       "      <th>tenure</th>\n",
       "      <th>gender_Female</th>\n",
       "      <th>gender_Male</th>\n",
       "      <th>streaming_movies_No</th>\n",
       "      <th>streaming_movies_No internet service</th>\n",
       "      <th>streaming_movies_Yes</th>\n",
       "      <th>streaming_tv_No</th>\n",
       "      <th>streaming_tv_No internet service</th>\n",
       "      <th>streaming_tv_Yes</th>\n",
       "      <th>tech_support_No</th>\n",
       "      <th>tech_support_No internet service</th>\n",
       "      <th>tech_support_Yes</th>\n",
       "      <th>multiple_lines_No</th>\n",
       "      <th>multiple_lines_No phone service</th>\n",
       "      <th>multiple_lines_Yes</th>\n",
       "      <th>online_backup_No</th>\n",
       "      <th>online_backup_No internet service</th>\n",
       "      <th>online_backup_Yes</th>\n",
       "      <th>online_security_No</th>\n",
       "      <th>online_security_No internet service</th>\n",
       "      <th>online_security_Yes</th>\n",
       "      <th>device_protection_No</th>\n",
       "      <th>device_protection_No internet service</th>\n",
       "      <th>device_protection_Yes</th>\n",
       "      <th>payment_type_Bank transfer (automatic)</th>\n",
       "      <th>payment_type_Credit card (automatic)</th>\n",
       "      <th>payment_type_Electronic check</th>\n",
       "      <th>payment_type_Mailed check</th>\n",
       "      <th>internet_service_type_DSL</th>\n",
       "      <th>internet_service_type_Fiber optic</th>\n",
       "      <th>internet_service_type_None</th>\n",
       "      <th>contract_type_Month-to-month</th>\n",
       "      <th>contract_type_One year</th>\n",
       "      <th>contract_type_Two year</th>\n",
       "    </tr>\n",
       "  </thead>\n",
       "  <tbody>\n",
       "    <tr>\n",
       "      <th>2904</th>\n",
       "      <td>0</td>\n",
       "      <td>0</td>\n",
       "      <td>0</td>\n",
       "      <td>0</td>\n",
       "      <td>90.75</td>\n",
       "      <td>174.75</td>\n",
       "      <td>0</td>\n",
       "      <td>2.0</td>\n",
       "      <td>0</td>\n",
       "      <td>1</td>\n",
       "      <td>0</td>\n",
       "      <td>0</td>\n",
       "      <td>1</td>\n",
       "      <td>1</td>\n",
       "      <td>0</td>\n",
       "      <td>0</td>\n",
       "      <td>1</td>\n",
       "      <td>0</td>\n",
       "      <td>0</td>\n",
       "      <td>0</td>\n",
       "      <td>0</td>\n",
       "      <td>1</td>\n",
       "      <td>1</td>\n",
       "      <td>0</td>\n",
       "      <td>0</td>\n",
       "      <td>0</td>\n",
       "      <td>0</td>\n",
       "      <td>1</td>\n",
       "      <td>1</td>\n",
       "      <td>0</td>\n",
       "      <td>0</td>\n",
       "      <td>0</td>\n",
       "      <td>0</td>\n",
       "      <td>0</td>\n",
       "      <td>1</td>\n",
       "      <td>0</td>\n",
       "      <td>1</td>\n",
       "      <td>0</td>\n",
       "      <td>1</td>\n",
       "      <td>0</td>\n",
       "      <td>0</td>\n",
       "    </tr>\n",
       "    <tr>\n",
       "      <th>4584</th>\n",
       "      <td>1</td>\n",
       "      <td>0</td>\n",
       "      <td>1</td>\n",
       "      <td>1</td>\n",
       "      <td>99.35</td>\n",
       "      <td>4749.15</td>\n",
       "      <td>1</td>\n",
       "      <td>48.0</td>\n",
       "      <td>0</td>\n",
       "      <td>1</td>\n",
       "      <td>0</td>\n",
       "      <td>0</td>\n",
       "      <td>1</td>\n",
       "      <td>0</td>\n",
       "      <td>0</td>\n",
       "      <td>1</td>\n",
       "      <td>1</td>\n",
       "      <td>0</td>\n",
       "      <td>0</td>\n",
       "      <td>0</td>\n",
       "      <td>0</td>\n",
       "      <td>1</td>\n",
       "      <td>0</td>\n",
       "      <td>0</td>\n",
       "      <td>1</td>\n",
       "      <td>1</td>\n",
       "      <td>0</td>\n",
       "      <td>0</td>\n",
       "      <td>1</td>\n",
       "      <td>0</td>\n",
       "      <td>0</td>\n",
       "      <td>0</td>\n",
       "      <td>0</td>\n",
       "      <td>1</td>\n",
       "      <td>0</td>\n",
       "      <td>0</td>\n",
       "      <td>1</td>\n",
       "      <td>0</td>\n",
       "      <td>1</td>\n",
       "      <td>0</td>\n",
       "      <td>0</td>\n",
       "    </tr>\n",
       "    <tr>\n",
       "      <th>6709</th>\n",
       "      <td>1</td>\n",
       "      <td>0</td>\n",
       "      <td>0</td>\n",
       "      <td>0</td>\n",
       "      <td>87.75</td>\n",
       "      <td>1242.20</td>\n",
       "      <td>0</td>\n",
       "      <td>14.0</td>\n",
       "      <td>0</td>\n",
       "      <td>1</td>\n",
       "      <td>1</td>\n",
       "      <td>0</td>\n",
       "      <td>0</td>\n",
       "      <td>0</td>\n",
       "      <td>0</td>\n",
       "      <td>1</td>\n",
       "      <td>1</td>\n",
       "      <td>0</td>\n",
       "      <td>0</td>\n",
       "      <td>0</td>\n",
       "      <td>0</td>\n",
       "      <td>1</td>\n",
       "      <td>1</td>\n",
       "      <td>0</td>\n",
       "      <td>0</td>\n",
       "      <td>0</td>\n",
       "      <td>0</td>\n",
       "      <td>1</td>\n",
       "      <td>1</td>\n",
       "      <td>0</td>\n",
       "      <td>0</td>\n",
       "      <td>1</td>\n",
       "      <td>0</td>\n",
       "      <td>0</td>\n",
       "      <td>0</td>\n",
       "      <td>0</td>\n",
       "      <td>1</td>\n",
       "      <td>0</td>\n",
       "      <td>1</td>\n",
       "      <td>0</td>\n",
       "      <td>0</td>\n",
       "    </tr>\n",
       "    <tr>\n",
       "      <th>657</th>\n",
       "      <td>1</td>\n",
       "      <td>0</td>\n",
       "      <td>0</td>\n",
       "      <td>1</td>\n",
       "      <td>109.20</td>\n",
       "      <td>5290.45</td>\n",
       "      <td>0</td>\n",
       "      <td>48.0</td>\n",
       "      <td>0</td>\n",
       "      <td>1</td>\n",
       "      <td>0</td>\n",
       "      <td>0</td>\n",
       "      <td>1</td>\n",
       "      <td>0</td>\n",
       "      <td>0</td>\n",
       "      <td>1</td>\n",
       "      <td>1</td>\n",
       "      <td>0</td>\n",
       "      <td>0</td>\n",
       "      <td>0</td>\n",
       "      <td>0</td>\n",
       "      <td>1</td>\n",
       "      <td>0</td>\n",
       "      <td>0</td>\n",
       "      <td>1</td>\n",
       "      <td>0</td>\n",
       "      <td>0</td>\n",
       "      <td>1</td>\n",
       "      <td>0</td>\n",
       "      <td>0</td>\n",
       "      <td>1</td>\n",
       "      <td>0</td>\n",
       "      <td>1</td>\n",
       "      <td>0</td>\n",
       "      <td>0</td>\n",
       "      <td>0</td>\n",
       "      <td>1</td>\n",
       "      <td>0</td>\n",
       "      <td>0</td>\n",
       "      <td>1</td>\n",
       "      <td>0</td>\n",
       "    </tr>\n",
       "    <tr>\n",
       "      <th>164</th>\n",
       "      <td>0</td>\n",
       "      <td>0</td>\n",
       "      <td>1</td>\n",
       "      <td>1</td>\n",
       "      <td>100.70</td>\n",
       "      <td>1522.70</td>\n",
       "      <td>0</td>\n",
       "      <td>15.0</td>\n",
       "      <td>1</td>\n",
       "      <td>0</td>\n",
       "      <td>0</td>\n",
       "      <td>0</td>\n",
       "      <td>1</td>\n",
       "      <td>0</td>\n",
       "      <td>0</td>\n",
       "      <td>1</td>\n",
       "      <td>1</td>\n",
       "      <td>0</td>\n",
       "      <td>0</td>\n",
       "      <td>1</td>\n",
       "      <td>0</td>\n",
       "      <td>0</td>\n",
       "      <td>1</td>\n",
       "      <td>0</td>\n",
       "      <td>0</td>\n",
       "      <td>0</td>\n",
       "      <td>0</td>\n",
       "      <td>1</td>\n",
       "      <td>0</td>\n",
       "      <td>0</td>\n",
       "      <td>1</td>\n",
       "      <td>1</td>\n",
       "      <td>0</td>\n",
       "      <td>0</td>\n",
       "      <td>0</td>\n",
       "      <td>0</td>\n",
       "      <td>1</td>\n",
       "      <td>0</td>\n",
       "      <td>1</td>\n",
       "      <td>0</td>\n",
       "      <td>0</td>\n",
       "    </tr>\n",
       "  </tbody>\n",
       "</table>\n",
       "</div>"
      ],
      "text/plain": [
       "      paperless_billing  senior_citizen  partner  dependents  monthly_charges  \\\n",
       "2904                  0               0        0           0            90.75   \n",
       "4584                  1               0        1           1            99.35   \n",
       "6709                  1               0        0           0            87.75   \n",
       "657                   1               0        0           1           109.20   \n",
       "164                   0               0        1           1           100.70   \n",
       "\n",
       "      total_charges  churn  tenure  gender_Female  gender_Male  \\\n",
       "2904         174.75      0     2.0              0            1   \n",
       "4584        4749.15      1    48.0              0            1   \n",
       "6709        1242.20      0    14.0              0            1   \n",
       "657         5290.45      0    48.0              0            1   \n",
       "164         1522.70      0    15.0              1            0   \n",
       "\n",
       "      streaming_movies_No  streaming_movies_No internet service  \\\n",
       "2904                    0                                     0   \n",
       "4584                    0                                     0   \n",
       "6709                    1                                     0   \n",
       "657                     0                                     0   \n",
       "164                     0                                     0   \n",
       "\n",
       "      streaming_movies_Yes  streaming_tv_No  streaming_tv_No internet service  \\\n",
       "2904                     1                1                                 0   \n",
       "4584                     1                0                                 0   \n",
       "6709                     0                0                                 0   \n",
       "657                      1                0                                 0   \n",
       "164                      1                0                                 0   \n",
       "\n",
       "      streaming_tv_Yes  tech_support_No  tech_support_No internet service  \\\n",
       "2904                 0                1                                 0   \n",
       "4584                 1                1                                 0   \n",
       "6709                 1                1                                 0   \n",
       "657                  1                1                                 0   \n",
       "164                  1                1                                 0   \n",
       "\n",
       "      tech_support_Yes  multiple_lines_No  multiple_lines_No phone service  \\\n",
       "2904                 0                  0                                0   \n",
       "4584                 0                  0                                0   \n",
       "6709                 0                  0                                0   \n",
       "657                  0                  0                                0   \n",
       "164                  0                  1                                0   \n",
       "\n",
       "      multiple_lines_Yes  online_backup_No  online_backup_No internet service  \\\n",
       "2904                   1                 1                                  0   \n",
       "4584                   1                 0                                  0   \n",
       "6709                   1                 1                                  0   \n",
       "657                    1                 0                                  0   \n",
       "164                    0                 1                                  0   \n",
       "\n",
       "      online_backup_Yes  online_security_No  \\\n",
       "2904                  0                   0   \n",
       "4584                  1                   1   \n",
       "6709                  0                   0   \n",
       "657                   1                   0   \n",
       "164                   0                   0   \n",
       "\n",
       "      online_security_No internet service  online_security_Yes  \\\n",
       "2904                                    0                    1   \n",
       "4584                                    0                    0   \n",
       "6709                                    0                    1   \n",
       "657                                     0                    1   \n",
       "164                                     0                    1   \n",
       "\n",
       "      device_protection_No  device_protection_No internet service  \\\n",
       "2904                     1                                      0   \n",
       "4584                     1                                      0   \n",
       "6709                     1                                      0   \n",
       "657                      0                                      0   \n",
       "164                      0                                      0   \n",
       "\n",
       "      device_protection_Yes  payment_type_Bank transfer (automatic)  \\\n",
       "2904                      0                                       0   \n",
       "4584                      0                                       0   \n",
       "6709                      0                                       1   \n",
       "657                       1                                       0   \n",
       "164                       1                                       1   \n",
       "\n",
       "      payment_type_Credit card (automatic)  payment_type_Electronic check  \\\n",
       "2904                                     0                              0   \n",
       "4584                                     0                              1   \n",
       "6709                                     0                              0   \n",
       "657                                      1                              0   \n",
       "164                                      0                              0   \n",
       "\n",
       "      payment_type_Mailed check  internet_service_type_DSL  \\\n",
       "2904                          1                          0   \n",
       "4584                          0                          0   \n",
       "6709                          0                          0   \n",
       "657                           0                          0   \n",
       "164                           0                          0   \n",
       "\n",
       "      internet_service_type_Fiber optic  internet_service_type_None  \\\n",
       "2904                                  1                           0   \n",
       "4584                                  1                           0   \n",
       "6709                                  1                           0   \n",
       "657                                   1                           0   \n",
       "164                                   1                           0   \n",
       "\n",
       "      contract_type_Month-to-month  contract_type_One year  \\\n",
       "2904                             1                       0   \n",
       "4584                             1                       0   \n",
       "6709                             1                       0   \n",
       "657                              0                       1   \n",
       "164                              1                       0   \n",
       "\n",
       "      contract_type_Two year  \n",
       "2904                       0  \n",
       "4584                       0  \n",
       "6709                       0  \n",
       "657                        0  \n",
       "164                        0  "
      ]
     },
     "execution_count": 5,
     "metadata": {},
     "output_type": "execute_result"
    }
   ],
   "source": [
    "#Looking at columns\n",
    "train_df.head()"
   ]
  },
  {
   "cell_type": "markdown",
   "id": "43e8c236-1d9b-49bf-beb8-d496d0413ea1",
   "metadata": {
    "tags": []
   },
   "source": [
    "## Explore process <a class=\"anchor\" id=\"explore1\"></a>"
   ]
  },
  {
   "cell_type": "code",
   "execution_count": 6,
   "id": "ba9fb6af-5396-4343-8949-72d188412c0a",
   "metadata": {},
   "outputs": [
    {
     "name": "stdout",
     "output_type": "stream",
     "text": [
      "churn_df length: 1046\n",
      "no_churn length: 2897\n"
     ]
    }
   ],
   "source": [
    "#Split into a churn and not churn DataFrame to explore:\n",
    "churn_df = train_df[train_df.churn == 1]\n",
    "print(f'churn_df length: {len(churn_df)}')\n",
    "no_churn = train_df[train_df.churn == 0]\n",
    "print(f'no_churn length: {len(no_churn)}')"
   ]
  },
  {
   "cell_type": "markdown",
   "id": "90afb128-f2eb-4734-93e5-49b7d4d2acbf",
   "metadata": {},
   "source": [
    "Takeaway: there are 26.5% of people that churned and 73.5% have not churned."
   ]
  },
  {
   "cell_type": "code",
   "execution_count": 7,
   "id": "055f15c6-512d-4d88-ac16-30de7ea29b21",
   "metadata": {},
   "outputs": [],
   "source": [
    "#Removing target and non categorical columns\n",
    "cols_to_drop = ['monthly_charges', 'tenure', 'total_charges', 'churn']\n",
    "churn_df.drop(columns=cols_to_drop, inplace = True)\n",
    "no_churn.drop(columns=cols_to_drop, inplace = True)"
   ]
  },
  {
   "cell_type": "code",
   "execution_count": 8,
   "id": "c0350035-b21c-427c-9fa6-97efaf9dc115",
   "metadata": {},
   "outputs": [
    {
     "data": {
      "text/html": [
       "<div>\n",
       "<style scoped>\n",
       "    .dataframe tbody tr th:only-of-type {\n",
       "        vertical-align: middle;\n",
       "    }\n",
       "\n",
       "    .dataframe tbody tr th {\n",
       "        vertical-align: top;\n",
       "    }\n",
       "\n",
       "    .dataframe thead th {\n",
       "        text-align: right;\n",
       "    }\n",
       "</style>\n",
       "<table border=\"1\" class=\"dataframe\">\n",
       "  <thead>\n",
       "    <tr style=\"text-align: right;\">\n",
       "      <th></th>\n",
       "      <th>Churn %</th>\n",
       "      <th>Churn Diff %</th>\n",
       "      <th>Baseline %</th>\n",
       "      <th>No_Churn Diff %</th>\n",
       "      <th>Not Churn %</th>\n",
       "      <th>Churn Indication</th>\n",
       "    </tr>\n",
       "    <tr>\n",
       "      <th>Column</th>\n",
       "      <th></th>\n",
       "      <th></th>\n",
       "      <th></th>\n",
       "      <th></th>\n",
       "      <th></th>\n",
       "      <th></th>\n",
       "    </tr>\n",
       "  </thead>\n",
       "  <tbody>\n",
       "    <tr>\n",
       "      <th>paperless_billing</th>\n",
       "      <td>75.1</td>\n",
       "      <td>15.6</td>\n",
       "      <td>59.5</td>\n",
       "      <td>-5.7</td>\n",
       "      <td>53.8</td>\n",
       "      <td>9.9</td>\n",
       "    </tr>\n",
       "    <tr>\n",
       "      <th>senior_citizen</th>\n",
       "      <td>24.6</td>\n",
       "      <td>8.8</td>\n",
       "      <td>15.8</td>\n",
       "      <td>-3.2</td>\n",
       "      <td>12.6</td>\n",
       "      <td>5.6</td>\n",
       "    </tr>\n",
       "    <tr>\n",
       "      <th>partner</th>\n",
       "      <td>35.6</td>\n",
       "      <td>-12.8</td>\n",
       "      <td>48.4</td>\n",
       "      <td>4.7</td>\n",
       "      <td>53.1</td>\n",
       "      <td>-8.1</td>\n",
       "    </tr>\n",
       "    <tr>\n",
       "      <th>dependents</th>\n",
       "      <td>19.0</td>\n",
       "      <td>-11.6</td>\n",
       "      <td>30.6</td>\n",
       "      <td>4.2</td>\n",
       "      <td>34.8</td>\n",
       "      <td>-7.4</td>\n",
       "    </tr>\n",
       "    <tr>\n",
       "      <th>gender_Female</th>\n",
       "      <td>51.1</td>\n",
       "      <td>1.0</td>\n",
       "      <td>50.1</td>\n",
       "      <td>-0.3</td>\n",
       "      <td>49.8</td>\n",
       "      <td>0.7</td>\n",
       "    </tr>\n",
       "    <tr>\n",
       "      <th>gender_Male</th>\n",
       "      <td>48.9</td>\n",
       "      <td>-1.0</td>\n",
       "      <td>49.9</td>\n",
       "      <td>0.3</td>\n",
       "      <td>50.2</td>\n",
       "      <td>-0.7</td>\n",
       "    </tr>\n",
       "    <tr>\n",
       "      <th>streaming_movies_No</th>\n",
       "      <td>50.7</td>\n",
       "      <td>10.6</td>\n",
       "      <td>40.1</td>\n",
       "      <td>-3.8</td>\n",
       "      <td>36.3</td>\n",
       "      <td>6.8</td>\n",
       "    </tr>\n",
       "    <tr>\n",
       "      <th>streaming_movies_No internet service</th>\n",
       "      <td>5.8</td>\n",
       "      <td>-15.6</td>\n",
       "      <td>21.4</td>\n",
       "      <td>5.6</td>\n",
       "      <td>27.0</td>\n",
       "      <td>-10.0</td>\n",
       "    </tr>\n",
       "    <tr>\n",
       "      <th>streaming_movies_Yes</th>\n",
       "      <td>43.5</td>\n",
       "      <td>5.1</td>\n",
       "      <td>38.4</td>\n",
       "      <td>-1.8</td>\n",
       "      <td>36.6</td>\n",
       "      <td>3.3</td>\n",
       "    </tr>\n",
       "    <tr>\n",
       "      <th>streaming_tv_No</th>\n",
       "      <td>52.2</td>\n",
       "      <td>11.2</td>\n",
       "      <td>41.0</td>\n",
       "      <td>-4.0</td>\n",
       "      <td>37.0</td>\n",
       "      <td>7.2</td>\n",
       "    </tr>\n",
       "    <tr>\n",
       "      <th>streaming_tv_No internet service</th>\n",
       "      <td>5.8</td>\n",
       "      <td>-15.6</td>\n",
       "      <td>21.4</td>\n",
       "      <td>5.6</td>\n",
       "      <td>27.0</td>\n",
       "      <td>-10.0</td>\n",
       "    </tr>\n",
       "    <tr>\n",
       "      <th>streaming_tv_Yes</th>\n",
       "      <td>42.0</td>\n",
       "      <td>4.4</td>\n",
       "      <td>37.6</td>\n",
       "      <td>-1.6</td>\n",
       "      <td>36.0</td>\n",
       "      <td>2.8</td>\n",
       "    </tr>\n",
       "    <tr>\n",
       "      <th>tech_support_No</th>\n",
       "      <td>78.0</td>\n",
       "      <td>28.5</td>\n",
       "      <td>49.5</td>\n",
       "      <td>-10.3</td>\n",
       "      <td>39.2</td>\n",
       "      <td>18.2</td>\n",
       "    </tr>\n",
       "    <tr>\n",
       "      <th>tech_support_No internet service</th>\n",
       "      <td>5.8</td>\n",
       "      <td>-15.6</td>\n",
       "      <td>21.4</td>\n",
       "      <td>5.6</td>\n",
       "      <td>27.0</td>\n",
       "      <td>-10.0</td>\n",
       "    </tr>\n",
       "    <tr>\n",
       "      <th>tech_support_Yes</th>\n",
       "      <td>16.2</td>\n",
       "      <td>-12.9</td>\n",
       "      <td>29.1</td>\n",
       "      <td>4.7</td>\n",
       "      <td>33.8</td>\n",
       "      <td>-8.2</td>\n",
       "    </tr>\n",
       "    <tr>\n",
       "      <th>multiple_lines_No</th>\n",
       "      <td>45.9</td>\n",
       "      <td>-2.8</td>\n",
       "      <td>48.7</td>\n",
       "      <td>1.0</td>\n",
       "      <td>49.7</td>\n",
       "      <td>-1.8</td>\n",
       "    </tr>\n",
       "    <tr>\n",
       "      <th>multiple_lines_No phone service</th>\n",
       "      <td>8.9</td>\n",
       "      <td>-0.8</td>\n",
       "      <td>9.7</td>\n",
       "      <td>0.3</td>\n",
       "      <td>10.0</td>\n",
       "      <td>-0.5</td>\n",
       "    </tr>\n",
       "    <tr>\n",
       "      <th>multiple_lines_Yes</th>\n",
       "      <td>45.2</td>\n",
       "      <td>3.6</td>\n",
       "      <td>41.6</td>\n",
       "      <td>-1.3</td>\n",
       "      <td>40.3</td>\n",
       "      <td>2.3</td>\n",
       "    </tr>\n",
       "    <tr>\n",
       "      <th>online_backup_No</th>\n",
       "      <td>65.5</td>\n",
       "      <td>21.5</td>\n",
       "      <td>44.0</td>\n",
       "      <td>-7.7</td>\n",
       "      <td>36.3</td>\n",
       "      <td>13.8</td>\n",
       "    </tr>\n",
       "    <tr>\n",
       "      <th>online_backup_No internet service</th>\n",
       "      <td>5.8</td>\n",
       "      <td>-15.6</td>\n",
       "      <td>21.4</td>\n",
       "      <td>5.6</td>\n",
       "      <td>27.0</td>\n",
       "      <td>-10.0</td>\n",
       "    </tr>\n",
       "    <tr>\n",
       "      <th>online_backup_Yes</th>\n",
       "      <td>28.7</td>\n",
       "      <td>-5.9</td>\n",
       "      <td>34.6</td>\n",
       "      <td>2.1</td>\n",
       "      <td>36.7</td>\n",
       "      <td>-3.8</td>\n",
       "    </tr>\n",
       "    <tr>\n",
       "      <th>online_security_No</th>\n",
       "      <td>76.6</td>\n",
       "      <td>27.1</td>\n",
       "      <td>49.5</td>\n",
       "      <td>-9.8</td>\n",
       "      <td>39.7</td>\n",
       "      <td>17.3</td>\n",
       "    </tr>\n",
       "    <tr>\n",
       "      <th>online_security_No internet service</th>\n",
       "      <td>5.8</td>\n",
       "      <td>-15.6</td>\n",
       "      <td>21.4</td>\n",
       "      <td>5.6</td>\n",
       "      <td>27.0</td>\n",
       "      <td>-10.0</td>\n",
       "    </tr>\n",
       "    <tr>\n",
       "      <th>online_security_Yes</th>\n",
       "      <td>17.6</td>\n",
       "      <td>-11.5</td>\n",
       "      <td>29.1</td>\n",
       "      <td>4.2</td>\n",
       "      <td>33.3</td>\n",
       "      <td>-7.3</td>\n",
       "    </tr>\n",
       "    <tr>\n",
       "      <th>device_protection_No</th>\n",
       "      <td>66.4</td>\n",
       "      <td>21.4</td>\n",
       "      <td>45.0</td>\n",
       "      <td>-7.8</td>\n",
       "      <td>37.2</td>\n",
       "      <td>13.6</td>\n",
       "    </tr>\n",
       "    <tr>\n",
       "      <th>device_protection_No internet service</th>\n",
       "      <td>5.8</td>\n",
       "      <td>-15.6</td>\n",
       "      <td>21.4</td>\n",
       "      <td>5.6</td>\n",
       "      <td>27.0</td>\n",
       "      <td>-10.0</td>\n",
       "    </tr>\n",
       "    <tr>\n",
       "      <th>device_protection_Yes</th>\n",
       "      <td>27.7</td>\n",
       "      <td>-5.9</td>\n",
       "      <td>33.6</td>\n",
       "      <td>2.1</td>\n",
       "      <td>35.7</td>\n",
       "      <td>-3.8</td>\n",
       "    </tr>\n",
       "    <tr>\n",
       "      <th>payment_type_Bank transfer (automatic)</th>\n",
       "      <td>12.9</td>\n",
       "      <td>-9.4</td>\n",
       "      <td>22.3</td>\n",
       "      <td>3.4</td>\n",
       "      <td>25.7</td>\n",
       "      <td>-6.0</td>\n",
       "    </tr>\n",
       "    <tr>\n",
       "      <th>payment_type_Credit card (automatic)</th>\n",
       "      <td>13.2</td>\n",
       "      <td>-8.7</td>\n",
       "      <td>21.9</td>\n",
       "      <td>3.2</td>\n",
       "      <td>25.1</td>\n",
       "      <td>-5.5</td>\n",
       "    </tr>\n",
       "    <tr>\n",
       "      <th>payment_type_Electronic check</th>\n",
       "      <td>57.9</td>\n",
       "      <td>24.3</td>\n",
       "      <td>33.6</td>\n",
       "      <td>-8.8</td>\n",
       "      <td>24.8</td>\n",
       "      <td>15.5</td>\n",
       "    </tr>\n",
       "    <tr>\n",
       "      <th>payment_type_Mailed check</th>\n",
       "      <td>16.0</td>\n",
       "      <td>-6.2</td>\n",
       "      <td>22.2</td>\n",
       "      <td>2.3</td>\n",
       "      <td>24.5</td>\n",
       "      <td>-3.9</td>\n",
       "    </tr>\n",
       "    <tr>\n",
       "      <th>internet_service_type_DSL</th>\n",
       "      <td>24.6</td>\n",
       "      <td>-10.1</td>\n",
       "      <td>34.7</td>\n",
       "      <td>3.6</td>\n",
       "      <td>38.3</td>\n",
       "      <td>-6.5</td>\n",
       "    </tr>\n",
       "    <tr>\n",
       "      <th>internet_service_type_Fiber optic</th>\n",
       "      <td>69.6</td>\n",
       "      <td>25.7</td>\n",
       "      <td>43.9</td>\n",
       "      <td>-9.2</td>\n",
       "      <td>34.7</td>\n",
       "      <td>16.5</td>\n",
       "    </tr>\n",
       "    <tr>\n",
       "      <th>internet_service_type_None</th>\n",
       "      <td>5.8</td>\n",
       "      <td>-15.6</td>\n",
       "      <td>21.4</td>\n",
       "      <td>5.6</td>\n",
       "      <td>27.0</td>\n",
       "      <td>-10.0</td>\n",
       "    </tr>\n",
       "    <tr>\n",
       "      <th>contract_type_Month-to-month</th>\n",
       "      <td>89.5</td>\n",
       "      <td>34.6</td>\n",
       "      <td>54.9</td>\n",
       "      <td>-12.5</td>\n",
       "      <td>42.4</td>\n",
       "      <td>22.1</td>\n",
       "    </tr>\n",
       "    <tr>\n",
       "      <th>contract_type_One year</th>\n",
       "      <td>7.9</td>\n",
       "      <td>-13.1</td>\n",
       "      <td>21.0</td>\n",
       "      <td>4.8</td>\n",
       "      <td>25.8</td>\n",
       "      <td>-8.3</td>\n",
       "    </tr>\n",
       "    <tr>\n",
       "      <th>contract_type_Two year</th>\n",
       "      <td>2.6</td>\n",
       "      <td>-21.5</td>\n",
       "      <td>24.1</td>\n",
       "      <td>7.8</td>\n",
       "      <td>31.9</td>\n",
       "      <td>-13.7</td>\n",
       "    </tr>\n",
       "  </tbody>\n",
       "</table>\n",
       "</div>"
      ],
      "text/plain": [
       "                                        Churn %  Churn Diff %  Baseline %  \\\n",
       "Column                                                                      \n",
       "paperless_billing                          75.1          15.6        59.5   \n",
       "senior_citizen                             24.6           8.8        15.8   \n",
       "partner                                    35.6         -12.8        48.4   \n",
       "dependents                                 19.0         -11.6        30.6   \n",
       "gender_Female                              51.1           1.0        50.1   \n",
       "gender_Male                                48.9          -1.0        49.9   \n",
       "streaming_movies_No                        50.7          10.6        40.1   \n",
       "streaming_movies_No internet service        5.8         -15.6        21.4   \n",
       "streaming_movies_Yes                       43.5           5.1        38.4   \n",
       "streaming_tv_No                            52.2          11.2        41.0   \n",
       "streaming_tv_No internet service            5.8         -15.6        21.4   \n",
       "streaming_tv_Yes                           42.0           4.4        37.6   \n",
       "tech_support_No                            78.0          28.5        49.5   \n",
       "tech_support_No internet service            5.8         -15.6        21.4   \n",
       "tech_support_Yes                           16.2         -12.9        29.1   \n",
       "multiple_lines_No                          45.9          -2.8        48.7   \n",
       "multiple_lines_No phone service             8.9          -0.8         9.7   \n",
       "multiple_lines_Yes                         45.2           3.6        41.6   \n",
       "online_backup_No                           65.5          21.5        44.0   \n",
       "online_backup_No internet service           5.8         -15.6        21.4   \n",
       "online_backup_Yes                          28.7          -5.9        34.6   \n",
       "online_security_No                         76.6          27.1        49.5   \n",
       "online_security_No internet service         5.8         -15.6        21.4   \n",
       "online_security_Yes                        17.6         -11.5        29.1   \n",
       "device_protection_No                       66.4          21.4        45.0   \n",
       "device_protection_No internet service       5.8         -15.6        21.4   \n",
       "device_protection_Yes                      27.7          -5.9        33.6   \n",
       "payment_type_Bank transfer (automatic)     12.9          -9.4        22.3   \n",
       "payment_type_Credit card (automatic)       13.2          -8.7        21.9   \n",
       "payment_type_Electronic check              57.9          24.3        33.6   \n",
       "payment_type_Mailed check                  16.0          -6.2        22.2   \n",
       "internet_service_type_DSL                  24.6         -10.1        34.7   \n",
       "internet_service_type_Fiber optic          69.6          25.7        43.9   \n",
       "internet_service_type_None                  5.8         -15.6        21.4   \n",
       "contract_type_Month-to-month               89.5          34.6        54.9   \n",
       "contract_type_One year                      7.9         -13.1        21.0   \n",
       "contract_type_Two year                      2.6         -21.5        24.1   \n",
       "\n",
       "                                        No_Churn Diff %  Not Churn %  \\\n",
       "Column                                                                 \n",
       "paperless_billing                                  -5.7         53.8   \n",
       "senior_citizen                                     -3.2         12.6   \n",
       "partner                                             4.7         53.1   \n",
       "dependents                                          4.2         34.8   \n",
       "gender_Female                                      -0.3         49.8   \n",
       "gender_Male                                         0.3         50.2   \n",
       "streaming_movies_No                                -3.8         36.3   \n",
       "streaming_movies_No internet service                5.6         27.0   \n",
       "streaming_movies_Yes                               -1.8         36.6   \n",
       "streaming_tv_No                                    -4.0         37.0   \n",
       "streaming_tv_No internet service                    5.6         27.0   \n",
       "streaming_tv_Yes                                   -1.6         36.0   \n",
       "tech_support_No                                   -10.3         39.2   \n",
       "tech_support_No internet service                    5.6         27.0   \n",
       "tech_support_Yes                                    4.7         33.8   \n",
       "multiple_lines_No                                   1.0         49.7   \n",
       "multiple_lines_No phone service                     0.3         10.0   \n",
       "multiple_lines_Yes                                 -1.3         40.3   \n",
       "online_backup_No                                   -7.7         36.3   \n",
       "online_backup_No internet service                   5.6         27.0   \n",
       "online_backup_Yes                                   2.1         36.7   \n",
       "online_security_No                                 -9.8         39.7   \n",
       "online_security_No internet service                 5.6         27.0   \n",
       "online_security_Yes                                 4.2         33.3   \n",
       "device_protection_No                               -7.8         37.2   \n",
       "device_protection_No internet service               5.6         27.0   \n",
       "device_protection_Yes                               2.1         35.7   \n",
       "payment_type_Bank transfer (automatic)              3.4         25.7   \n",
       "payment_type_Credit card (automatic)                3.2         25.1   \n",
       "payment_type_Electronic check                      -8.8         24.8   \n",
       "payment_type_Mailed check                           2.3         24.5   \n",
       "internet_service_type_DSL                           3.6         38.3   \n",
       "internet_service_type_Fiber optic                  -9.2         34.7   \n",
       "internet_service_type_None                          5.6         27.0   \n",
       "contract_type_Month-to-month                      -12.5         42.4   \n",
       "contract_type_One year                              4.8         25.8   \n",
       "contract_type_Two year                              7.8         31.9   \n",
       "\n",
       "                                        Churn Indication  \n",
       "Column                                                    \n",
       "paperless_billing                                    9.9  \n",
       "senior_citizen                                       5.6  \n",
       "partner                                             -8.1  \n",
       "dependents                                          -7.4  \n",
       "gender_Female                                        0.7  \n",
       "gender_Male                                         -0.7  \n",
       "streaming_movies_No                                  6.8  \n",
       "streaming_movies_No internet service               -10.0  \n",
       "streaming_movies_Yes                                 3.3  \n",
       "streaming_tv_No                                      7.2  \n",
       "streaming_tv_No internet service                   -10.0  \n",
       "streaming_tv_Yes                                     2.8  \n",
       "tech_support_No                                     18.2  \n",
       "tech_support_No internet service                   -10.0  \n",
       "tech_support_Yes                                    -8.2  \n",
       "multiple_lines_No                                   -1.8  \n",
       "multiple_lines_No phone service                     -0.5  \n",
       "multiple_lines_Yes                                   2.3  \n",
       "online_backup_No                                    13.8  \n",
       "online_backup_No internet service                  -10.0  \n",
       "online_backup_Yes                                   -3.8  \n",
       "online_security_No                                  17.3  \n",
       "online_security_No internet service                -10.0  \n",
       "online_security_Yes                                 -7.3  \n",
       "device_protection_No                                13.6  \n",
       "device_protection_No internet service              -10.0  \n",
       "device_protection_Yes                               -3.8  \n",
       "payment_type_Bank transfer (automatic)              -6.0  \n",
       "payment_type_Credit card (automatic)                -5.5  \n",
       "payment_type_Electronic check                       15.5  \n",
       "payment_type_Mailed check                           -3.9  \n",
       "internet_service_type_DSL                           -6.5  \n",
       "internet_service_type_Fiber optic                   16.5  \n",
       "internet_service_type_None                         -10.0  \n",
       "contract_type_Month-to-month                        22.1  \n",
       "contract_type_One year                              -8.3  \n",
       "contract_type_Two year                             -13.7  "
      ]
     },
     "execution_count": 8,
     "metadata": {},
     "output_type": "execute_result"
    }
   ],
   "source": [
    "#Printing a comparison between the baseline and the churn/no_churn DataFrames:\n",
    "distros = []\n",
    "for item in churn_df:\n",
    "    bl = round(sum(train_df[item]) / len(train_df[item]) * 100,1)\n",
    "    churn = round(sum(churn_df[item]) / len(churn_df[item]) * 100,1)\n",
    "    no_c = round(sum(no_churn[item]) / len(no_churn[item]) * 100,1)\n",
    "    \n",
    "    output = {\"Column\" : item,\n",
    "              \"Churn %\": churn, \n",
    "              \"Churn Diff %\": churn - bl, \n",
    "              \"Baseline %\" : bl , \n",
    "              \"No_Churn Diff %\": no_c - bl, \n",
    "              \"Not Churn %\": no_c,\n",
    "              \"Churn Indication\":(churn - bl) + (no_c - bl) }\n",
    "              \n",
    "    distros.append(output)\n",
    "dis_df = pd.DataFrame(distros)              \n",
    "dis_df = dis_df.set_index('Column')\n",
    "churn_ind = dis_df.sort_values(\"Churn Indication\", ascending=False).head(4)\n",
    "anti_churn = dis_df.sort_values(\"Churn Indication\", ascending=True).head(4)\n",
    "dis_df"
   ]
  },
  {
   "cell_type": "markdown",
   "id": "f42ea002-69cb-4832-b487-0150150c79cb",
   "metadata": {},
   "source": [
    "Features with a high or low deviation from the baseline to focus on: "
   ]
  },
  {
   "cell_type": "code",
   "execution_count": 9,
   "id": "bf2c373c-daf5-4936-9073-0bf884052310",
   "metadata": {},
   "outputs": [
    {
     "data": {
      "text/plain": [
       "Column\n",
       "contract_type_Month-to-month         22.1\n",
       "tech_support_No                      18.2\n",
       "online_security_No                   17.3\n",
       "internet_service_type_Fiber optic    16.5\n",
       "Name: Churn Indication, dtype: float64"
      ]
     },
     "execution_count": 9,
     "metadata": {},
     "output_type": "execute_result"
    }
   ],
   "source": [
    "#Indicators of churn\n",
    "churn_ind[\"Churn Indication\"]"
   ]
  },
  {
   "cell_type": "code",
   "execution_count": 10,
   "id": "96535fc0-1e4d-4001-9e61-9d133ece3a43",
   "metadata": {},
   "outputs": [
    {
     "data": {
      "text/plain": [
       "Column\n",
       "contract_type_Two year                  -13.7\n",
       "device_protection_No internet service   -10.0\n",
       "online_security_No internet service     -10.0\n",
       "online_backup_No internet service       -10.0\n",
       "Name: Churn Indication, dtype: float64"
      ]
     },
     "execution_count": 10,
     "metadata": {},
     "output_type": "execute_result"
    }
   ],
   "source": [
    "#Indicators that a customer won't churn\n",
    "anti_churn[\"Churn Indication\"]"
   ]
  },
  {
   "cell_type": "code",
   "execution_count": 11,
   "id": "ca50e98b-bf75-4c24-8398-4a861123eb94",
   "metadata": {},
   "outputs": [
    {
     "data": {
      "text/plain": [
       "<matplotlib.lines.Line2D at 0x7fcb295ab250>"
      ]
     },
     "execution_count": 11,
     "metadata": {},
     "output_type": "execute_result"
    },
    {
     "data": {
      "image/png": "[encoded data removed]",
      "text/plain": [
       "<Figure size 640x480 with 1 Axes>"
      ]
     },
     "metadata": {},
     "output_type": "display_data"
    }
   ],
   "source": [
    "#building a plot to show a relationship between tenure, monthly_charges and churn\n",
    "sns.scatterplot(data = train_df, \n",
    "                y = 'tenure', \n",
    "                x = 'monthly_charges', \n",
    "                hue='churn')\n",
    "month_ave = train_df.monthly_charges.mean()\n",
    "tenure_ave = train_df.tenure.mean()\n",
    "plt.axhline(tenure_ave, label=\"Tenure Average\", c='tomato')\n",
    "plt.axvline(month_ave, label=\"Monthly Charges Average\", c='tomato')"
   ]
  },
  {
   "cell_type": "markdown",
   "id": "4622e845-0ce3-4f90-b554-af085a00b21a",
   "metadata": {},
   "source": [
    "Takeaway: It appears that a low tenure and high monthly charge have a relationship with churn."
   ]
  },
  {
   "cell_type": "code",
   "execution_count": 12,
   "id": "24ab23e4-8d03-41b0-8b4f-9f98ef66476d",
   "metadata": {},
   "outputs": [
    {
     "data": {
      "text/plain": [
       "<AxesSubplot:xlabel='tenure', ylabel='Count'>"
      ]
     },
     "execution_count": 12,
     "metadata": {},
     "output_type": "execute_result"
    },
    {
     "data": {
      "image/png": "[encoded data removed]",
      "text/plain": [
       "<Figure size 640x480 with 1 Axes>"
      ]
     },
     "metadata": {},
     "output_type": "display_data"
    }
   ],
   "source": [
    "#Visualizing tenure and churn\n",
    "sns.histplot(x='tenure', data=train_df, hue='churn',hue_order=[1,0])"
   ]
  },
  {
   "cell_type": "markdown",
   "id": "8da5bdcd-4a05-487a-a286-c92089ba5a7a",
   "metadata": {},
   "source": [
    "Customers who churn tend to have much shorter tenure."
   ]
  },
  {
   "cell_type": "code",
   "execution_count": 13,
   "id": "3b6ef834-2318-4cee-b9bf-8edbaf34848d",
   "metadata": {},
   "outputs": [
    {
     "data": {
      "text/plain": [
       "<AxesSubplot:xlabel='monthly_charges', ylabel='Count'>"
      ]
     },
     "execution_count": 13,
     "metadata": {},
     "output_type": "execute_result"
    },
    {
     "data": {
      "image/png": "[encoded data removed]",
      "text/plain": [
       "<Figure size 640x480 with 1 Axes>"
      ]
     },
     "metadata": {},
     "output_type": "display_data"
    }
   ],
   "source": [
    "#Visualizing churn and monthly_charges\n",
    "sns.histplot(x='monthly_charges', data=train_df, hue='churn', hue_order=[1,0])"
   ]
  },
  {
   "cell_type": "markdown",
   "id": "2a16a125-ebc0-49d2-bd65-9a74bc140431",
   "metadata": {},
   "source": [
    "Customers who churn tend to have much shorter tenure."
   ]
  },
  {
   "cell_type": "markdown",
   "id": "13a7a3da-94a6-408a-9137-16fb44c3277f",
   "metadata": {},
   "source": [
    "### Question 1 <a class=\"anchor\" id=\"q_1\"></a>"
   ]
  },
  {
   "cell_type": "markdown",
   "id": "bb6f119c-3b0d-4c93-97db-8920fbc00cf5",
   "metadata": {},
   "source": [
    "What is the relatiohship between having a contract type of Month-to-month and churn?"
   ]
  },
  {
   "cell_type": "markdown",
   "id": "9107f19c-9fda-48fa-bfb0-9b533aeab9a0",
   "metadata": {},
   "source": [
    "#### Q1 Visualization <a class=\"anchor\" id=\"q_1_viz\"></a>"
   ]
  },
  {
   "cell_type": "code",
   "execution_count": 14,
   "id": "73b8c1e3-5670-404d-9683-870155a8d067",
   "metadata": {},
   "outputs": [
    {
     "data": {
      "image/png": "[encoded data removed]",
      "text/plain": [
       "<Figure size 640x480 with 1 Axes>"
      ]
     },
     "metadata": {},
     "output_type": "display_data"
    }
   ],
   "source": [
    "#building a plot to show a relationship\n",
    "plt.title(\"It pays to be more committed\")\n",
    "sns.barplot(x='contract_type_Month-to-month', y='churn', data=train_df)\n",
    "pop_churn_rate = train_df.churn.mean()\n",
    "plt.axhline(pop_churn_rate, label=\"Population churn rate\")\n",
    "plt.legend()\n",
    "plt.show()"
   ]
  },
  {
   "cell_type": "markdown",
   "id": "72803191-c7a9-40de-a99a-161473270279",
   "metadata": {},
   "source": [
    "#### Q1 Statistical Test <a class=\"anchor\" id=\"q_1_stats\"></a>"
   ]
  },
  {
   "cell_type": "code",
   "execution_count": 15,
   "id": "063bdb0e-51e7-43f1-a565-d5557eec3b1e",
   "metadata": {},
   "outputs": [],
   "source": [
    "# Let's run a chi squared to compare proportions, to have more confidence\n",
    "alpha = 0.05\n",
    "null_hypothesis = \"customers with Month-to-month contracts and that churn are independent\"\n",
    "alternative_hypothesis = \"there is a relationship between customers with Month-to-month contracts and that churn\"\n",
    "\n",
    "# Setup a crosstab of observed churn to contract_type_Month-to-month\n",
    "observed = pd.crosstab(train_df.churn, train_df['contract_type_Month-to-month'])\n",
    "\n",
    "chi2, p1, degf, expected = stats.chi2_contingency(observed)"
   ]
  },
  {
   "cell_type": "markdown",
   "id": "fa653c8b-64e1-43e6-aa0d-3f26349d3c71",
   "metadata": {},
   "source": [
    "#### Q1 Answer <a class=\"anchor\" id=\"q_1_ans\"></a>"
   ]
  },
  {
   "cell_type": "code",
   "execution_count": 16,
   "id": "fc99d141-4c0d-4c56-9f9b-315120d97cdb",
   "metadata": {},
   "outputs": [
    {
     "name": "stdout",
     "output_type": "stream",
     "text": [
      "Reject the null hypothesis that customers with Month-to-month contracts and that churn are independent\n",
      "Sufficient evidence to move forward understanding that there is a relationship between customers with Month-to-month contracts and that churn\n"
     ]
    },
    {
     "data": {
      "text/plain": [
       "2.6129757677254923e-151"
      ]
     },
     "execution_count": 16,
     "metadata": {},
     "output_type": "execute_result"
    }
   ],
   "source": [
    "#Answer logic\n",
    "if p1 < alpha:\n",
    "    print(\"Reject the null hypothesis that\", null_hypothesis)\n",
    "    print(\"Sufficient evidence to move forward understanding that\", alternative_hypothesis)\n",
    "else:\n",
    "    print(\"Fail to reject the null\")\n",
    "    print(\"Insufficient evidence to reject the null\")\n",
    "p1"
   ]
  },
  {
   "cell_type": "markdown",
   "id": "d7f50487-e2e4-48a6-ab84-365256901d55",
   "metadata": {
    "tags": []
   },
   "source": [
    "### Question 2 <a class=\"anchor\" id=\"q_2\"></a>"
   ]
  },
  {
   "cell_type": "markdown",
   "id": "c774a368-5310-4227-a3a4-94d5d17cd829",
   "metadata": {},
   "source": [
    "Is there a relationship between having Fiber optic internet service type and churn?"
   ]
  },
  {
   "cell_type": "markdown",
   "id": "21704ac9-d833-40d7-9a7f-faff48974274",
   "metadata": {},
   "source": [
    "#### Q2 Visualization <a class=\"anchor\" id=\"q_2_viz\"></a>"
   ]
  },
  {
   "cell_type": "code",
   "execution_count": 17,
   "id": "9cc7e868-5acf-4abe-9ff2-be2b6c50c1aa",
   "metadata": {},
   "outputs": [
    {
     "data": {
      "image/png": "[encoded data removed]",
      "text/plain": [
       "<Figure size 640x480 with 1 Axes>"
      ]
     },
     "metadata": {},
     "output_type": "display_data"
    }
   ],
   "source": [
    "#building a plot to show a relationship\n",
    "plt.title(\"It pays to have slower internet\")\n",
    "sns.barplot(x='internet_service_type_Fiber optic', y='churn', data=train_df)\n",
    "pop_churn_rate = train_df.churn.mean()\n",
    "plt.axhline(pop_churn_rate, label=\"Population churn rate\")\n",
    "plt.legend()\n",
    "plt.show()"
   ]
  },
  {
   "cell_type": "markdown",
   "id": "ad88babc-eda1-4d86-af9d-82fda2f6db3c",
   "metadata": {},
   "source": [
    "#### Q2 Statistical Test <a class=\"anchor\" id=\"q_2_stats\"></a>"
   ]
  },
  {
   "cell_type": "code",
   "execution_count": 18,
   "id": "8679d637-6b81-4394-9271-504ccc69648b",
   "metadata": {},
   "outputs": [],
   "source": [
    "# Let's run a chi squared to compare proportions, to have more confidence\n",
    "alpha = 0.05\n",
    "null_hypothesis = \"customers with fiber optic internet service and that churn are independent\"\n",
    "alternative_hypothesis = \"there is a relationship between customers with fiber optic internet service and that churn\"\n",
    "\n",
    "# Setup a crosstab of observed churn to internet_service_type_Fiber optic\n",
    "observed = pd.crosstab(train_df.churn, train_df['internet_service_type_Fiber optic'])\n",
    "\n",
    "chi2, p2, degf, expected = stats.chi2_contingency(observed)"
   ]
  },
  {
   "cell_type": "markdown",
   "id": "85e896d4-ea08-42ee-bf2d-f4739fcd3248",
   "metadata": {},
   "source": [
    "#### Q2 Answer <a class=\"anchor\" id=\"q_2_ans\"></a>"
   ]
  },
  {
   "cell_type": "code",
   "execution_count": 19,
   "id": "18e6985a-0a39-4982-8754-e120f18470db",
   "metadata": {},
   "outputs": [
    {
     "name": "stdout",
     "output_type": "stream",
     "text": [
      "Reject the null hypothesis that customers with fiber optic internet service and that churn are independent\n",
      "Sufficient evidence to move forward understanding that there is a relationship between customers with fiber optic internet service and that churn\n"
     ]
    },
    {
     "data": {
      "text/plain": [
       "1.5755854888703442e-84"
      ]
     },
     "execution_count": 19,
     "metadata": {},
     "output_type": "execute_result"
    }
   ],
   "source": [
    "#Answer logic\n",
    "if p2 < alpha:\n",
    "    print(\"Reject the null hypothesis that\", null_hypothesis)\n",
    "    print(\"Sufficient evidence to move forward understanding that\", alternative_hypothesis)\n",
    "else:\n",
    "    print(\"Fail to reject the null\")\n",
    "    print(\"Insufficient evidence to reject the null\")\n",
    "p2"
   ]
  },
  {
   "cell_type": "markdown",
   "id": "0e76b94f-568b-467c-8fa6-6374f080bbc2",
   "metadata": {},
   "source": [
    "### Question 3 <a class=\"anchor\" id=\"q_3\"></a>"
   ]
  },
  {
   "cell_type": "markdown",
   "id": "70ad1191-ba45-4971-a85d-03676b6a0a5d",
   "metadata": {
    "tags": []
   },
   "source": [
    "Is there a relationship between not having tech support and churn?"
   ]
  },
  {
   "cell_type": "markdown",
   "id": "59f03859-7917-40fa-852f-c19a17b816ab",
   "metadata": {},
   "source": [
    "#### Q3 Visualization <a class=\"anchor\" id=\"q_3_viz\"></a>"
   ]
  },
  {
   "cell_type": "code",
   "execution_count": 20,
   "id": "2af15b0b-85d8-489e-990e-ea045ae482f6",
   "metadata": {},
   "outputs": [
    {
     "data": {
      "image/png": "[encoded data removed]",
      "text/plain": [
       "<Figure size 640x480 with 1 Axes>"
      ]
     },
     "metadata": {},
     "output_type": "display_data"
    }
   ],
   "source": [
    "#building a plot to show a relationship\n",
    "plt.title(\"Customers that stay have support (tech)\")\n",
    "sns.barplot(x='tech_support_No', y='churn', data=train_df)\n",
    "pop_churn_rate = train_df.churn.mean()\n",
    "plt.axhline(pop_churn_rate, label=\"Population churn rate\")\n",
    "plt.legend()\n",
    "plt.show()"
   ]
  },
  {
   "cell_type": "markdown",
   "id": "4de1d165-5a61-4a80-b921-27d96c56f749",
   "metadata": {},
   "source": [
    "#### Q3 Statistical Test <a class=\"anchor\" id=\"q_3_stats\"></a>"
   ]
  },
  {
   "cell_type": "code",
   "execution_count": 21,
   "id": "296ae93b-bf5e-4ea7-9a31-74a5bc82efd0",
   "metadata": {},
   "outputs": [],
   "source": [
    "# Let's run a chi squared to compare proportions, to have more confidence\n",
    "alpha = 0.05\n",
    "null_hypothesis = \"customers who don't have tech support and that churn are independent\"\n",
    "alternative_hypothesis = \"there is a relationship between customers that without tech support and that churn\"\n",
    "\n",
    "# Setup a crosstab of observed churn to payment_type_Electronic check\n",
    "observed = pd.crosstab(train_df.churn, train_df['tech_support_No'])\n",
    "\n",
    "chi2, p3, degf, expected = stats.chi2_contingency(observed)"
   ]
  },
  {
   "cell_type": "markdown",
   "id": "66f9719e-14a6-44aa-b680-d769c95e48c7",
   "metadata": {},
   "source": [
    "#### Q3 Answer <a class=\"anchor\" id=\"q_3_ans\"></a>"
   ]
  },
  {
   "cell_type": "code",
   "execution_count": 22,
   "id": "724a53bb-226a-4fde-9139-1c51cb90b16e",
   "metadata": {},
   "outputs": [
    {
     "name": "stdout",
     "output_type": "stream",
     "text": [
      "Reject the null hypothesis that customers who don't have tech support and that churn are independent\n",
      "Sufficient evidence to move forward understanding that there is a relationship between customers that without tech support and that churn\n"
     ]
    },
    {
     "data": {
      "text/plain": [
       "2.581300101624473e-102"
      ]
     },
     "execution_count": 22,
     "metadata": {},
     "output_type": "execute_result"
    }
   ],
   "source": [
    "#Answer logic\n",
    "if p3 < alpha:\n",
    "    print(\"Reject the null hypothesis that\", null_hypothesis)\n",
    "    print(\"Sufficient evidence to move forward understanding that\", alternative_hypothesis)\n",
    "else:\n",
    "    print(\"Fail to reject the null\")\n",
    "    print(\"Insufficient evidence to reject the null\")\n",
    "p3"
   ]
  },
  {
   "cell_type": "markdown",
   "id": "58e36f34-7b37-474c-a91f-1e87c5ddbe9c",
   "metadata": {},
   "source": [
    "### Question 4 <a class=\"anchor\" id=\"q_4\"></a>"
   ]
  },
  {
   "cell_type": "markdown",
   "id": "e6e3de60-e44b-458c-9343-19c4bcade2b6",
   "metadata": {},
   "source": [
    "Is there a relationship between having no internet service and churn?"
   ]
  },
  {
   "cell_type": "markdown",
   "id": "1ef53f71-f308-4fcd-b395-ba624049572e",
   "metadata": {},
   "source": [
    "#### Q4 Visualization <a class=\"anchor\" id=\"q_4_viz\"></a>"
   ]
  },
  {
   "cell_type": "code",
   "execution_count": 23,
   "id": "ad6eac81-62fa-457c-a3e0-688eb1f2c3a4",
   "metadata": {},
   "outputs": [
    {
     "data": {
      "image/png": "[encoded data removed]",
      "text/plain": [
       "<Figure size 640x480 with 1 Axes>"
      ]
     },
     "metadata": {},
     "output_type": "display_data"
    }
   ],
   "source": [
    "#building a plot to show a relationship\n",
    "plt.title(\"No internet = no churn\")\n",
    "sns.barplot(x='internet_service_type_None', y='churn', data=train_df)\n",
    "pop_churn_rate = train_df.churn.mean()\n",
    "plt.axhline(pop_churn_rate, label=\"Population churn rate\")\n",
    "plt.legend()\n",
    "plt.show()"
   ]
  },
  {
   "cell_type": "markdown",
   "id": "4de85212-4e22-43ee-940d-b14716cc4d74",
   "metadata": {},
   "source": [
    "#### Q4 Statistical Test <a class=\"anchor\" id=\"q_4_stats\"></a>"
   ]
  },
  {
   "cell_type": "code",
   "execution_count": 24,
   "id": "9fea414d-4930-4e86-a0b7-0fc075e7254b",
   "metadata": {},
   "outputs": [],
   "source": [
    "# Let's run a chi squared to compare proportions, to have more confidence\n",
    "alpha = 0.05\n",
    "null_hypothesis = \"customers with no internet service and that churn are independent\"\n",
    "alternative_hypothesis = \"there is a relationship between customers with no internet service and that churn\"\n",
    "\n",
    "# Setup a crosstab of observed churn to having no internet service\n",
    "observed = pd.crosstab(train_df.churn, train_df['internet_service_type_None'])\n",
    "\n",
    "chi2, p4, degf, expected = stats.chi2_contingency(observed)"
   ]
  },
  {
   "cell_type": "markdown",
   "id": "01a09f03-5a1d-4bff-b071-2b13f26abd1b",
   "metadata": {},
   "source": [
    "#### Q4 Answer <a class=\"anchor\" id=\"q_4_ans\"></a>"
   ]
  },
  {
   "cell_type": "code",
   "execution_count": 25,
   "id": "ec1872a4-2cf7-4424-8af7-14a5884ebe6d",
   "metadata": {},
   "outputs": [
    {
     "name": "stdout",
     "output_type": "stream",
     "text": [
      "Reject the null hypothesis that customers with no internet service and that churn are independent\n",
      "Sufficient evidence to move forward understanding that there is a relationship between customers with no internet service and that churn\n"
     ]
    },
    {
     "data": {
      "text/plain": [
       "2.8258083144357664e-46"
      ]
     },
     "execution_count": 25,
     "metadata": {},
     "output_type": "execute_result"
    }
   ],
   "source": [
    "#Answer logic\n",
    "if p4 < alpha:\n",
    "    print(\"Reject the null hypothesis that\", null_hypothesis)\n",
    "    print(\"Sufficient evidence to move forward understanding that\", alternative_hypothesis)\n",
    "else:\n",
    "    print(\"Fail to reject the null\")\n",
    "    print(\"Insufficient evidence to reject the null\")\n",
    "p4"
   ]
  },
  {
   "cell_type": "markdown",
   "id": "2599cad4-c3a6-4ca4-8bd4-3b83daa36e3e",
   "metadata": {},
   "source": [
    "### Question 5 <a class=\"anchor\" id=\"q_5\"></a>"
   ]
  },
  {
   "cell_type": "code",
   "execution_count": 26,
   "id": "13432415-5346-4136-b3be-61596c989200",
   "metadata": {},
   "outputs": [],
   "source": [
    "#Doing MVP first"
   ]
  },
  {
   "cell_type": "markdown",
   "id": "cf340679-457d-4c77-b348-ed297bafb7a5",
   "metadata": {},
   "source": [
    "#### Q5 Visualization <a class=\"anchor\" id=\"q_5_viz\"></a>"
   ]
  },
  {
   "cell_type": "code",
   "execution_count": null,
   "id": "d649d03d-70ca-4db4-9d96-98908ab2f81e",
   "metadata": {},
   "outputs": [],
   "source": []
  },
  {
   "cell_type": "markdown",
   "id": "dcf49e92-e7f6-4007-ad90-e65e26f212b1",
   "metadata": {},
   "source": [
    "#### Q5 Statistical Test <a class=\"anchor\" id=\"q_5_stats\"></a>"
   ]
  },
  {
   "cell_type": "code",
   "execution_count": 27,
   "id": "6eadb919-f117-4aa9-b6c5-879309f635b5",
   "metadata": {},
   "outputs": [],
   "source": [
    "#One sample T-Test for monthly_charges and churn"
   ]
  },
  {
   "cell_type": "markdown",
   "id": "84be2c6c-06fa-40d4-a1cb-3fa343d4386a",
   "metadata": {},
   "source": [
    "#### Q5 Answer <a class=\"anchor\" id=\"q_5_ans\"></a>"
   ]
  },
  {
   "cell_type": "code",
   "execution_count": null,
   "id": "7063e535-d277-4fbf-8d73-1c07a71bd857",
   "metadata": {},
   "outputs": [],
   "source": []
  },
  {
   "cell_type": "markdown",
   "id": "1f388064-66ff-430b-8c0b-e794e9a8dc15",
   "metadata": {},
   "source": [
    "### Question 6 <a class=\"anchor\" id=\"q_6\"></a>"
   ]
  },
  {
   "cell_type": "code",
   "execution_count": 28,
   "id": "d56d8f8b-42e9-4446-9e5a-cf4f1c9d8321",
   "metadata": {},
   "outputs": [],
   "source": [
    "#Doing MVP first"
   ]
  },
  {
   "cell_type": "markdown",
   "id": "f27a28c8-99c2-4ceb-989f-adec29037dab",
   "metadata": {},
   "source": [
    "#### Q6 Visualization <a class=\"anchor\" id=\"q_6_viz\"></a>"
   ]
  },
  {
   "cell_type": "code",
   "execution_count": null,
   "id": "f69dba79-b779-4f9b-bbf9-ed5cadd104c0",
   "metadata": {},
   "outputs": [],
   "source": []
  },
  {
   "cell_type": "markdown",
   "id": "51d39373-cd61-4def-8472-65d5ae164a03",
   "metadata": {},
   "source": [
    "#### Q6 Statistical Test <a class=\"anchor\" id=\"q_6_stats\"></a>"
   ]
  },
  {
   "cell_type": "code",
   "execution_count": 29,
   "id": "2136aec4-9903-4add-a2c0-683bb2e58e4a",
   "metadata": {},
   "outputs": [],
   "source": [
    "#One sample T-Test for total_charges and churn"
   ]
  },
  {
   "cell_type": "markdown",
   "id": "0077a281-f92a-4151-87c8-be407d7ab2a9",
   "metadata": {},
   "source": [
    "#### Q6 Answer <a class=\"anchor\" id=\"q_6_ans\"></a>"
   ]
  },
  {
   "cell_type": "code",
   "execution_count": null,
   "id": "18b95a48-1c12-44f7-b9ad-988b84cbab52",
   "metadata": {},
   "outputs": [],
   "source": []
  },
  {
   "cell_type": "markdown",
   "id": "6e69a5bd-9e53-4fcb-85fc-12a4e1f743fb",
   "metadata": {
    "tags": []
   },
   "source": [
    "## Explore summary <a class=\"anchor\" id=\"explore2\"></a>"
   ]
  },
  {
   "cell_type": "markdown",
   "id": "e22a0137-100d-417a-8ca2-c4b617619a84",
   "metadata": {},
   "source": [
    "During the explore process there were four categorical features which were shown to have a relationship with customer churn. Those are:\n",
    "1. contract_type_Month-to-month (higher than baseline)\n",
    "2. internet_service_type_Fiber optic (higher than baseline)\n",
    "3. tech_support_No (higher than baseline)\n",
    "4. internet_service_type_None (lower than baseline)"
   ]
  },
  {
   "cell_type": "markdown",
   "id": "7588c745-69e2-47d4-a4c9-aa52cadba7f7",
   "metadata": {},
   "source": [
    "## Modeling <a class=\"anchor\" id=\"modeling\"></a>"
   ]
  },
  {
   "cell_type": "code",
   "execution_count": 30,
   "id": "5e357ff0-36e8-4c42-89fb-53257722d196",
   "metadata": {},
   "outputs": [],
   "source": [
    "#Seperating out the target variable\n",
    "X_train = train_df.drop(columns=['churn'])\n",
    "y_train = train_df.churn\n",
    "\n",
    "X_val = val_df.drop(columns = ['churn'])\n",
    "y_val = val_df.churn\n",
    "\n",
    "X_test = test_df.drop(columns = ['churn'])\n",
    "y_test = test_df.churn"
   ]
  },
  {
   "cell_type": "markdown",
   "id": "6d6b595c-5434-4bdd-8a5d-3fc9b1c6a570",
   "metadata": {},
   "source": [
    "### Introduction <a class=\"anchor\" id=\"m_intro\"></a>"
   ]
  },
  {
   "cell_type": "markdown",
   "id": "c4789371-a1c2-42fc-a269-908883997e9d",
   "metadata": {},
   "source": [
    "### Baseline <a class=\"anchor\" id=\"baseline\"></a>"
   ]
  },
  {
   "cell_type": "code",
   "execution_count": 31,
   "id": "df6e99a8-42f8-44e0-a98d-5b994b9141f8",
   "metadata": {},
   "outputs": [
    {
     "data": {
      "text/plain": [
       "0.27"
      ]
     },
     "execution_count": 31,
     "metadata": {},
     "output_type": "execute_result"
    }
   ],
   "source": [
    "#Finding the churn baseline\n",
    "baseline = round(sum(train_df.churn) / len(train_df.churn), 2)\n",
    "baseline"
   ]
  },
  {
   "cell_type": "markdown",
   "id": "d82a1d76-d892-4568-bab9-5278742f5ae9",
   "metadata": {},
   "source": [
    "### Model 1 <a class=\"anchor\" id=\"mod_1\"></a>"
   ]
  },
  {
   "cell_type": "code",
   "execution_count": 32,
   "id": "5a69361e-ffb6-4627-a357-ffd65b63b560",
   "metadata": {},
   "outputs": [],
   "source": [
    "#Create the model\n",
    "clf = DecisionTreeClassifier(max_depth=3, random_state=1969)"
   ]
  },
  {
   "cell_type": "code",
   "execution_count": 33,
   "id": "8229ab39-549a-41e2-ad10-a3f95fc1cd95",
   "metadata": {},
   "outputs": [],
   "source": [
    "#Train the model\n",
    "clf = clf.fit(X_train, y_train)"
   ]
  },
  {
   "cell_type": "code",
   "execution_count": 34,
   "id": "33053396-9d0c-4d08-af5c-6353d0a6e483",
   "metadata": {},
   "outputs": [],
   "source": [
    "#Make prediction on train DataFrame\n",
    "y_pred1 = clf.predict(X_train)"
   ]
  },
  {
   "cell_type": "code",
   "execution_count": 35,
   "id": "888ea5ef-b4b2-43d3-9737-878126eb52f7",
   "metadata": {},
   "outputs": [],
   "source": [
    "#Estimate probability\n",
    "y_pred_proba1 = clf.predict_proba(X_train)"
   ]
  },
  {
   "cell_type": "code",
   "execution_count": 36,
   "id": "918ebaeb-54ab-4d50-b44e-717a8c82325d",
   "metadata": {
    "tags": []
   },
   "outputs": [
    {
     "name": "stdout",
     "output_type": "stream",
     "text": [
      "Accuracy of Decision Tree classifier on training set: 0.79\n"
     ]
    }
   ],
   "source": [
    "#Finding the Accuracy\n",
    "print(f'Accuracy of Decision Tree classifier on training set: {clf.score(X_train, y_train):.2f}')"
   ]
  },
  {
   "cell_type": "code",
   "execution_count": 37,
   "id": "9cf48e9b-38ad-4731-bc14-6cdaab62d8ce",
   "metadata": {},
   "outputs": [
    {
     "name": "stdout",
     "output_type": "stream",
     "text": [
      "              precision    recall  f1-score   support\n",
      "\n",
      "           0       0.81      0.95      0.87      2897\n",
      "           1       0.71      0.37      0.49      1046\n",
      "\n",
      "    accuracy                           0.79      3943\n",
      "   macro avg       0.76      0.66      0.68      3943\n",
      "weighted avg       0.78      0.79      0.77      3943\n",
      "\n"
     ]
    }
   ],
   "source": [
    "#classification report\n",
    "print(classification_report(y_train, y_pred1))"
   ]
  },
  {
   "cell_type": "code",
   "execution_count": 38,
   "id": "d2131d44-a51e-4753-80d9-543517a05185",
   "metadata": {},
   "outputs": [
    {
     "data": {
      "text/html": [
       "<div>\n",
       "<style scoped>\n",
       "    .dataframe tbody tr th:only-of-type {\n",
       "        vertical-align: middle;\n",
       "    }\n",
       "\n",
       "    .dataframe tbody tr th {\n",
       "        vertical-align: top;\n",
       "    }\n",
       "\n",
       "    .dataframe thead th {\n",
       "        text-align: right;\n",
       "    }\n",
       "</style>\n",
       "<table border=\"1\" class=\"dataframe\">\n",
       "  <thead>\n",
       "    <tr style=\"text-align: right;\">\n",
       "      <th></th>\n",
       "      <th>Importance</th>\n",
       "    </tr>\n",
       "    <tr>\n",
       "      <th>Column</th>\n",
       "      <th></th>\n",
       "    </tr>\n",
       "  </thead>\n",
       "  <tbody>\n",
       "    <tr>\n",
       "      <th>paperless_billing</th>\n",
       "      <td>0.000000</td>\n",
       "    </tr>\n",
       "    <tr>\n",
       "      <th>senior_citizen</th>\n",
       "      <td>0.000000</td>\n",
       "    </tr>\n",
       "    <tr>\n",
       "      <th>partner</th>\n",
       "      <td>0.000000</td>\n",
       "    </tr>\n",
       "    <tr>\n",
       "      <th>dependents</th>\n",
       "      <td>0.000000</td>\n",
       "    </tr>\n",
       "    <tr>\n",
       "      <th>monthly_charges</th>\n",
       "      <td>0.011238</td>\n",
       "    </tr>\n",
       "    <tr>\n",
       "      <th>total_charges</th>\n",
       "      <td>0.116251</td>\n",
       "    </tr>\n",
       "    <tr>\n",
       "      <th>tenure</th>\n",
       "      <td>0.056988</td>\n",
       "    </tr>\n",
       "    <tr>\n",
       "      <th>gender_Female</th>\n",
       "      <td>0.000000</td>\n",
       "    </tr>\n",
       "    <tr>\n",
       "      <th>gender_Male</th>\n",
       "      <td>0.000000</td>\n",
       "    </tr>\n",
       "    <tr>\n",
       "      <th>streaming_movies_No</th>\n",
       "      <td>0.000000</td>\n",
       "    </tr>\n",
       "    <tr>\n",
       "      <th>streaming_movies_No internet service</th>\n",
       "      <td>0.000000</td>\n",
       "    </tr>\n",
       "    <tr>\n",
       "      <th>streaming_movies_Yes</th>\n",
       "      <td>0.000000</td>\n",
       "    </tr>\n",
       "    <tr>\n",
       "      <th>streaming_tv_No</th>\n",
       "      <td>0.000000</td>\n",
       "    </tr>\n",
       "    <tr>\n",
       "      <th>streaming_tv_No internet service</th>\n",
       "      <td>0.000000</td>\n",
       "    </tr>\n",
       "    <tr>\n",
       "      <th>streaming_tv_Yes</th>\n",
       "      <td>0.000000</td>\n",
       "    </tr>\n",
       "    <tr>\n",
       "      <th>tech_support_No</th>\n",
       "      <td>0.000000</td>\n",
       "    </tr>\n",
       "    <tr>\n",
       "      <th>tech_support_No internet service</th>\n",
       "      <td>0.000000</td>\n",
       "    </tr>\n",
       "    <tr>\n",
       "      <th>tech_support_Yes</th>\n",
       "      <td>0.000000</td>\n",
       "    </tr>\n",
       "    <tr>\n",
       "      <th>multiple_lines_No</th>\n",
       "      <td>0.000000</td>\n",
       "    </tr>\n",
       "    <tr>\n",
       "      <th>multiple_lines_No phone service</th>\n",
       "      <td>0.000000</td>\n",
       "    </tr>\n",
       "    <tr>\n",
       "      <th>multiple_lines_Yes</th>\n",
       "      <td>0.000000</td>\n",
       "    </tr>\n",
       "    <tr>\n",
       "      <th>online_backup_No</th>\n",
       "      <td>0.000000</td>\n",
       "    </tr>\n",
       "    <tr>\n",
       "      <th>online_backup_No internet service</th>\n",
       "      <td>0.000000</td>\n",
       "    </tr>\n",
       "    <tr>\n",
       "      <th>online_backup_Yes</th>\n",
       "      <td>0.000000</td>\n",
       "    </tr>\n",
       "    <tr>\n",
       "      <th>online_security_No</th>\n",
       "      <td>0.000000</td>\n",
       "    </tr>\n",
       "    <tr>\n",
       "      <th>online_security_No internet service</th>\n",
       "      <td>0.000000</td>\n",
       "    </tr>\n",
       "    <tr>\n",
       "      <th>online_security_Yes</th>\n",
       "      <td>0.000000</td>\n",
       "    </tr>\n",
       "    <tr>\n",
       "      <th>device_protection_No</th>\n",
       "      <td>0.000000</td>\n",
       "    </tr>\n",
       "    <tr>\n",
       "      <th>device_protection_No internet service</th>\n",
       "      <td>0.000000</td>\n",
       "    </tr>\n",
       "    <tr>\n",
       "      <th>device_protection_Yes</th>\n",
       "      <td>0.000000</td>\n",
       "    </tr>\n",
       "    <tr>\n",
       "      <th>payment_type_Bank transfer (automatic)</th>\n",
       "      <td>0.000000</td>\n",
       "    </tr>\n",
       "    <tr>\n",
       "      <th>payment_type_Credit card (automatic)</th>\n",
       "      <td>0.000000</td>\n",
       "    </tr>\n",
       "    <tr>\n",
       "      <th>payment_type_Electronic check</th>\n",
       "      <td>0.000000</td>\n",
       "    </tr>\n",
       "    <tr>\n",
       "      <th>payment_type_Mailed check</th>\n",
       "      <td>0.000000</td>\n",
       "    </tr>\n",
       "    <tr>\n",
       "      <th>internet_service_type_DSL</th>\n",
       "      <td>0.000000</td>\n",
       "    </tr>\n",
       "    <tr>\n",
       "      <th>internet_service_type_Fiber optic</th>\n",
       "      <td>0.192633</td>\n",
       "    </tr>\n",
       "    <tr>\n",
       "      <th>internet_service_type_None</th>\n",
       "      <td>0.000000</td>\n",
       "    </tr>\n",
       "    <tr>\n",
       "      <th>contract_type_Month-to-month</th>\n",
       "      <td>0.616330</td>\n",
       "    </tr>\n",
       "    <tr>\n",
       "      <th>contract_type_One year</th>\n",
       "      <td>0.006559</td>\n",
       "    </tr>\n",
       "    <tr>\n",
       "      <th>contract_type_Two year</th>\n",
       "      <td>0.000000</td>\n",
       "    </tr>\n",
       "  </tbody>\n",
       "</table>\n",
       "</div>"
      ],
      "text/plain": [
       "                                        Importance\n",
       "Column                                            \n",
       "paperless_billing                         0.000000\n",
       "senior_citizen                            0.000000\n",
       "partner                                   0.000000\n",
       "dependents                                0.000000\n",
       "monthly_charges                           0.011238\n",
       "total_charges                             0.116251\n",
       "tenure                                    0.056988\n",
       "gender_Female                             0.000000\n",
       "gender_Male                               0.000000\n",
       "streaming_movies_No                       0.000000\n",
       "streaming_movies_No internet service      0.000000\n",
       "streaming_movies_Yes                      0.000000\n",
       "streaming_tv_No                           0.000000\n",
       "streaming_tv_No internet service          0.000000\n",
       "streaming_tv_Yes                          0.000000\n",
       "tech_support_No                           0.000000\n",
       "tech_support_No internet service          0.000000\n",
       "tech_support_Yes                          0.000000\n",
       "multiple_lines_No                         0.000000\n",
       "multiple_lines_No phone service           0.000000\n",
       "multiple_lines_Yes                        0.000000\n",
       "online_backup_No                          0.000000\n",
       "online_backup_No internet service         0.000000\n",
       "online_backup_Yes                         0.000000\n",
       "online_security_No                        0.000000\n",
       "online_security_No internet service       0.000000\n",
       "online_security_Yes                       0.000000\n",
       "device_protection_No                      0.000000\n",
       "device_protection_No internet service     0.000000\n",
       "device_protection_Yes                     0.000000\n",
       "payment_type_Bank transfer (automatic)    0.000000\n",
       "payment_type_Credit card (automatic)      0.000000\n",
       "payment_type_Electronic check             0.000000\n",
       "payment_type_Mailed check                 0.000000\n",
       "internet_service_type_DSL                 0.000000\n",
       "internet_service_type_Fiber optic         0.192633\n",
       "internet_service_type_None                0.000000\n",
       "contract_type_Month-to-month              0.616330\n",
       "contract_type_One year                    0.006559\n",
       "contract_type_Two year                    0.000000"
      ]
     },
     "execution_count": 38,
     "metadata": {},
     "output_type": "execute_result"
    }
   ],
   "source": [
    "#Feature importance\n",
    "feat = []\n",
    "for i in range(0,len(X_train.columns)):    \n",
    "    output = {\"Column\" : X_train.columns[i],\n",
    "          \"Importance\": clf.feature_importances_[i]}\n",
    "              \n",
    "    feat.append(output)\n",
    "import1_df = pd.DataFrame(feat)              \n",
    "import1_df = import1_df.set_index('Column')\n",
    "import1_df"
   ]
  },
  {
   "cell_type": "code",
   "execution_count": 39,
   "id": "cbb40df3-677a-445a-802c-10e0bb7bbe2c",
   "metadata": {},
   "outputs": [],
   "source": [
    "#Finding the best max_depth for decision tree\n",
    "metrics = []\n",
    "\n",
    "for i in range(1, 25):\n",
    "    trees = DecisionTreeClassifier(max_depth=i, random_state=1969)\n",
    "    trees = trees.fit(X_train, y_train)\n",
    "    in_sample_accuracy = trees.score(X_train, y_train)\n",
    "    out_of_sample_accuracy = trees.score(X_val, y_val)\n",
    "\n",
    "    output = {\"max_depth\" : i, \"train_accuracy\": in_sample_accuracy, \"validate_accuracy\": out_of_sample_accuracy}\n",
    "              \n",
    "    metrics.append(output)\n",
    "\n",
    "tree_df = pd.DataFrame(metrics)              \n",
    "tree_df['difference'] = tree_df.train_accuracy - tree_df.validate_accuracy                           "
   ]
  },
  {
   "cell_type": "code",
   "execution_count": 40,
   "id": "8bffb861-8534-47d2-8a08-7182978a5570",
   "metadata": {},
   "outputs": [
    {
     "data": {
      "image/png": "[encoded data removed]",
      "text/plain": [
       "<Figure size 1000x400 with 1 Axes>"
      ]
     },
     "metadata": {},
     "output_type": "display_data"
    }
   ],
   "source": [
    "#Plotting the decision tree scores\n",
    "plt.figure(figsize=(10,4))\n",
    "plt.plot(tree_df.max_depth, tree_df.train_accuracy, marker = 'o', label= 'Train')\n",
    "plt.plot(tree_df.max_depth, tree_df.validate_accuracy, marker = 'o', label= 'Validate')\n",
    "plt.legend()\n",
    "plt.title(\"Decision Tree scores while adjusting max_depth\")\n",
    "plt.show()\n"
   ]
  },
  {
   "cell_type": "markdown",
   "id": "1f561660-a9dc-4f7a-95c2-731ef8be1971",
   "metadata": {},
   "source": [
    "### Model 2 <a class=\"anchor\" id=\"mod_2\"></a>"
   ]
  },
  {
   "cell_type": "code",
   "execution_count": 41,
   "id": "8f433cf8-2b30-4b3d-8f26-beaea84280e8",
   "metadata": {
    "tags": []
   },
   "outputs": [],
   "source": [
    "#Creating the random forest object\n",
    "rf = RandomForestClassifier(bootstrap=True,\n",
    "                            class_weight=None,\n",
    "                            criterion='gini',\n",
    "                            min_samples_leaf=3,\n",
    "                            n_estimators=100,\n",
    "                            max_depth=3,\n",
    "                            random_state=1969)"
   ]
  },
  {
   "cell_type": "code",
   "execution_count": 42,
   "id": "0644ad65-3287-4bb9-b413-4f86258850e5",
   "metadata": {},
   "outputs": [
    {
     "data": {
      "text/plain": [
       "RandomForestClassifier(max_depth=3, min_samples_leaf=3, random_state=1969)"
      ]
     },
     "execution_count": 42,
     "metadata": {},
     "output_type": "execute_result"
    }
   ],
   "source": [
    "#Fit the model to the train data\n",
    "rf.fit(X_train, y_train)"
   ]
  },
  {
   "cell_type": "code",
   "execution_count": 43,
   "id": "ec70b829-9969-4750-917c-5edc948018c9",
   "metadata": {},
   "outputs": [
    {
     "data": {
      "text/html": [
       "<div>\n",
       "<style scoped>\n",
       "    .dataframe tbody tr th:only-of-type {\n",
       "        vertical-align: middle;\n",
       "    }\n",
       "\n",
       "    .dataframe tbody tr th {\n",
       "        vertical-align: top;\n",
       "    }\n",
       "\n",
       "    .dataframe thead th {\n",
       "        text-align: right;\n",
       "    }\n",
       "</style>\n",
       "<table border=\"1\" class=\"dataframe\">\n",
       "  <thead>\n",
       "    <tr style=\"text-align: right;\">\n",
       "      <th></th>\n",
       "      <th>Importance</th>\n",
       "    </tr>\n",
       "    <tr>\n",
       "      <th>Column</th>\n",
       "      <th></th>\n",
       "    </tr>\n",
       "  </thead>\n",
       "  <tbody>\n",
       "    <tr>\n",
       "      <th>paperless_billing</th>\n",
       "      <td>0.002869</td>\n",
       "    </tr>\n",
       "    <tr>\n",
       "      <th>senior_citizen</th>\n",
       "      <td>0.000247</td>\n",
       "    </tr>\n",
       "    <tr>\n",
       "      <th>partner</th>\n",
       "      <td>0.001483</td>\n",
       "    </tr>\n",
       "    <tr>\n",
       "      <th>dependents</th>\n",
       "      <td>0.001346</td>\n",
       "    </tr>\n",
       "    <tr>\n",
       "      <th>monthly_charges</th>\n",
       "      <td>0.026729</td>\n",
       "    </tr>\n",
       "    <tr>\n",
       "      <th>total_charges</th>\n",
       "      <td>0.061614</td>\n",
       "    </tr>\n",
       "    <tr>\n",
       "      <th>tenure</th>\n",
       "      <td>0.133616</td>\n",
       "    </tr>\n",
       "    <tr>\n",
       "      <th>gender_Female</th>\n",
       "      <td>0.000216</td>\n",
       "    </tr>\n",
       "    <tr>\n",
       "      <th>gender_Male</th>\n",
       "      <td>0.000000</td>\n",
       "    </tr>\n",
       "    <tr>\n",
       "      <th>streaming_movies_No</th>\n",
       "      <td>0.001197</td>\n",
       "    </tr>\n",
       "    <tr>\n",
       "      <th>streaming_movies_No internet service</th>\n",
       "      <td>0.008280</td>\n",
       "    </tr>\n",
       "    <tr>\n",
       "      <th>streaming_movies_Yes</th>\n",
       "      <td>0.000437</td>\n",
       "    </tr>\n",
       "    <tr>\n",
       "      <th>streaming_tv_No</th>\n",
       "      <td>0.000420</td>\n",
       "    </tr>\n",
       "    <tr>\n",
       "      <th>streaming_tv_No internet service</th>\n",
       "      <td>0.011166</td>\n",
       "    </tr>\n",
       "    <tr>\n",
       "      <th>streaming_tv_Yes</th>\n",
       "      <td>0.000204</td>\n",
       "    </tr>\n",
       "    <tr>\n",
       "      <th>tech_support_No</th>\n",
       "      <td>0.087569</td>\n",
       "    </tr>\n",
       "    <tr>\n",
       "      <th>tech_support_No internet service</th>\n",
       "      <td>0.017124</td>\n",
       "    </tr>\n",
       "    <tr>\n",
       "      <th>tech_support_Yes</th>\n",
       "      <td>0.004666</td>\n",
       "    </tr>\n",
       "    <tr>\n",
       "      <th>multiple_lines_No</th>\n",
       "      <td>0.000231</td>\n",
       "    </tr>\n",
       "    <tr>\n",
       "      <th>multiple_lines_No phone service</th>\n",
       "      <td>0.000053</td>\n",
       "    </tr>\n",
       "    <tr>\n",
       "      <th>multiple_lines_Yes</th>\n",
       "      <td>0.000341</td>\n",
       "    </tr>\n",
       "    <tr>\n",
       "      <th>online_backup_No</th>\n",
       "      <td>0.017783</td>\n",
       "    </tr>\n",
       "    <tr>\n",
       "      <th>online_backup_No internet service</th>\n",
       "      <td>0.010754</td>\n",
       "    </tr>\n",
       "    <tr>\n",
       "      <th>online_backup_Yes</th>\n",
       "      <td>0.002042</td>\n",
       "    </tr>\n",
       "    <tr>\n",
       "      <th>online_security_No</th>\n",
       "      <td>0.091980</td>\n",
       "    </tr>\n",
       "    <tr>\n",
       "      <th>online_security_No internet service</th>\n",
       "      <td>0.007134</td>\n",
       "    </tr>\n",
       "    <tr>\n",
       "      <th>online_security_Yes</th>\n",
       "      <td>0.009486</td>\n",
       "    </tr>\n",
       "    <tr>\n",
       "      <th>device_protection_No</th>\n",
       "      <td>0.018831</td>\n",
       "    </tr>\n",
       "    <tr>\n",
       "      <th>device_protection_No internet service</th>\n",
       "      <td>0.013232</td>\n",
       "    </tr>\n",
       "    <tr>\n",
       "      <th>device_protection_Yes</th>\n",
       "      <td>0.003374</td>\n",
       "    </tr>\n",
       "    <tr>\n",
       "      <th>payment_type_Bank transfer (automatic)</th>\n",
       "      <td>0.001732</td>\n",
       "    </tr>\n",
       "    <tr>\n",
       "      <th>payment_type_Credit card (automatic)</th>\n",
       "      <td>0.001312</td>\n",
       "    </tr>\n",
       "    <tr>\n",
       "      <th>payment_type_Electronic check</th>\n",
       "      <td>0.077677</td>\n",
       "    </tr>\n",
       "    <tr>\n",
       "      <th>payment_type_Mailed check</th>\n",
       "      <td>0.000752</td>\n",
       "    </tr>\n",
       "    <tr>\n",
       "      <th>internet_service_type_DSL</th>\n",
       "      <td>0.010809</td>\n",
       "    </tr>\n",
       "    <tr>\n",
       "      <th>internet_service_type_Fiber optic</th>\n",
       "      <td>0.107073</td>\n",
       "    </tr>\n",
       "    <tr>\n",
       "      <th>internet_service_type_None</th>\n",
       "      <td>0.005922</td>\n",
       "    </tr>\n",
       "    <tr>\n",
       "      <th>contract_type_Month-to-month</th>\n",
       "      <td>0.178501</td>\n",
       "    </tr>\n",
       "    <tr>\n",
       "      <th>contract_type_One year</th>\n",
       "      <td>0.017780</td>\n",
       "    </tr>\n",
       "    <tr>\n",
       "      <th>contract_type_Two year</th>\n",
       "      <td>0.064016</td>\n",
       "    </tr>\n",
       "  </tbody>\n",
       "</table>\n",
       "</div>"
      ],
      "text/plain": [
       "                                        Importance\n",
       "Column                                            \n",
       "paperless_billing                         0.002869\n",
       "senior_citizen                            0.000247\n",
       "partner                                   0.001483\n",
       "dependents                                0.001346\n",
       "monthly_charges                           0.026729\n",
       "total_charges                             0.061614\n",
       "tenure                                    0.133616\n",
       "gender_Female                             0.000216\n",
       "gender_Male                               0.000000\n",
       "streaming_movies_No                       0.001197\n",
       "streaming_movies_No internet service      0.008280\n",
       "streaming_movies_Yes                      0.000437\n",
       "streaming_tv_No                           0.000420\n",
       "streaming_tv_No internet service          0.011166\n",
       "streaming_tv_Yes                          0.000204\n",
       "tech_support_No                           0.087569\n",
       "tech_support_No internet service          0.017124\n",
       "tech_support_Yes                          0.004666\n",
       "multiple_lines_No                         0.000231\n",
       "multiple_lines_No phone service           0.000053\n",
       "multiple_lines_Yes                        0.000341\n",
       "online_backup_No                          0.017783\n",
       "online_backup_No internet service         0.010754\n",
       "online_backup_Yes                         0.002042\n",
       "online_security_No                        0.091980\n",
       "online_security_No internet service       0.007134\n",
       "online_security_Yes                       0.009486\n",
       "device_protection_No                      0.018831\n",
       "device_protection_No internet service     0.013232\n",
       "device_protection_Yes                     0.003374\n",
       "payment_type_Bank transfer (automatic)    0.001732\n",
       "payment_type_Credit card (automatic)      0.001312\n",
       "payment_type_Electronic check             0.077677\n",
       "payment_type_Mailed check                 0.000752\n",
       "internet_service_type_DSL                 0.010809\n",
       "internet_service_type_Fiber optic         0.107073\n",
       "internet_service_type_None                0.005922\n",
       "contract_type_Month-to-month              0.178501\n",
       "contract_type_One year                    0.017780\n",
       "contract_type_Two year                    0.064016"
      ]
     },
     "execution_count": 43,
     "metadata": {},
     "output_type": "execute_result"
    }
   ],
   "source": [
    "#Feature importance\n",
    "feat = []\n",
    "for i in range(0,len(X_train.columns)):    \n",
    "    output = {\"Column\" : X_train.columns[i],\n",
    "          \"Importance\": rf.feature_importances_[i]}\n",
    "              \n",
    "    feat.append(output)\n",
    "import2_df = pd.DataFrame(feat)              \n",
    "import2_df = import2_df.set_index('Column')\n",
    "import2_df"
   ]
  },
  {
   "cell_type": "code",
   "execution_count": 44,
   "id": "45a874e4-c2ea-4692-bb45-8dd76e5fc38f",
   "metadata": {},
   "outputs": [],
   "source": [
    "#Make prediction on train DataFrame\n",
    "y_pred2 = rf.predict(X_train)\n",
    "\n",
    "#Estimate probability\n",
    "y_pred_proba2 = rf.predict_proba(X_train)"
   ]
  },
  {
   "cell_type": "code",
   "execution_count": 45,
   "id": "35451b5e-fac8-4ab3-aafc-2b47afa9a906",
   "metadata": {},
   "outputs": [
    {
     "name": "stdout",
     "output_type": "stream",
     "text": [
      "Accuracy of Decision Tree classifier on training set: 0.79\n"
     ]
    }
   ],
   "source": [
    "#Finding the Accuracy\n",
    "print(f'Accuracy of Decision Tree classifier on training set: {rf.score(X_train, y_train):.2f}')"
   ]
  },
  {
   "cell_type": "code",
   "execution_count": 46,
   "id": "631365c7-ae32-4636-a65f-01d38ea98616",
   "metadata": {},
   "outputs": [
    {
     "name": "stdout",
     "output_type": "stream",
     "text": [
      "              precision    recall  f1-score   support\n",
      "\n",
      "           0       0.80      0.96      0.87      2897\n",
      "           1       0.74      0.33      0.46      1046\n",
      "\n",
      "    accuracy                           0.79      3943\n",
      "   macro avg       0.77      0.64      0.66      3943\n",
      "weighted avg       0.78      0.79      0.76      3943\n",
      "\n"
     ]
    }
   ],
   "source": [
    "#classification report\n",
    "print(classification_report(y_train, y_pred2))"
   ]
  },
  {
   "cell_type": "markdown",
   "id": "41c2ebe1-b3ff-42ca-b1cb-daad9f7ad780",
   "metadata": {},
   "source": [
    "### Model 3 <a class=\"anchor\" id=\"mod_3\"></a>"
   ]
  },
  {
   "cell_type": "code",
   "execution_count": 47,
   "id": "de66ab8a-8dc4-413e-9392-6b17a6a0d465",
   "metadata": {},
   "outputs": [],
   "source": [
    "#Creating the model\n",
    "knn = KNeighborsClassifier(n_neighbors=10, weights='uniform')"
   ]
  },
  {
   "cell_type": "code",
   "execution_count": 48,
   "id": "c71a4809-fde4-4510-963c-5343f221a57a",
   "metadata": {},
   "outputs": [
    {
     "data": {
      "text/plain": [
       "KNeighborsClassifier(n_neighbors=10)"
      ]
     },
     "execution_count": 48,
     "metadata": {},
     "output_type": "execute_result"
    }
   ],
   "source": [
    "#Fitting the KNN model\n",
    "knn.fit(X_train, y_train)"
   ]
  },
  {
   "cell_type": "code",
   "execution_count": 49,
   "id": "5a2944a4-5239-4e08-96a7-eb3bdb8d8bef",
   "metadata": {},
   "outputs": [],
   "source": [
    "#Creating predictions\n",
    "y_pred3 = knn.predict(X_train)"
   ]
  },
  {
   "cell_type": "code",
   "execution_count": 50,
   "id": "6c7bc29e-8b4e-4143-b6f4-b206d5e435c3",
   "metadata": {},
   "outputs": [],
   "source": [
    "#Creating probability estimates from train data\n",
    "y_pred_proba3 = knn.predict_proba(X_train)"
   ]
  },
  {
   "cell_type": "code",
   "execution_count": 51,
   "id": "83ce99ee-784a-4510-8cc8-ff4b309d16f7",
   "metadata": {},
   "outputs": [
    {
     "name": "stdout",
     "output_type": "stream",
     "text": [
      "Accuracy of Decision Tree classifier on training set: 0.81\n"
     ]
    }
   ],
   "source": [
    "#Finding the Accuracy\n",
    "print(f'Accuracy of Decision Tree classifier on training set: {knn.score(X_train, y_train):.2f}')"
   ]
  },
  {
   "cell_type": "code",
   "execution_count": 52,
   "id": "7a6e0b78-3206-4895-8a36-cfc1c3a5e17e",
   "metadata": {},
   "outputs": [
    {
     "name": "stdout",
     "output_type": "stream",
     "text": [
      "              precision    recall  f1-score   support\n",
      "\n",
      "           0       0.82      0.95      0.88      2897\n",
      "           1       0.75      0.42      0.54      1046\n",
      "\n",
      "    accuracy                           0.81      3943\n",
      "   macro avg       0.79      0.69      0.71      3943\n",
      "weighted avg       0.80      0.81      0.79      3943\n",
      "\n"
     ]
    }
   ],
   "source": [
    "#classification report\n",
    "print(classification_report(y_train, y_pred3))"
   ]
  },
  {
   "cell_type": "code",
   "execution_count": null,
   "id": "28add58f-95e1-4c6e-93e5-1255455b6cf2",
   "metadata": {},
   "outputs": [],
   "source": [
    "#Finding the best number of neighbors\n",
    "k_range = range(1, 20)\n",
    "scores = []\n",
    "for k in k_range:\n",
    "    knn = KNeighborsClassifier(n_neighbors = k)\n",
    "    knn.fit(X_train, y_train)\n",
    "\n",
    "    in_sample_accuracy = knn.score(X_train, y_train)\n",
    "    out_of_sample_accuracy = knn.score(X_val, y_val)\n",
    "\n",
    "    output = {\"max_depth\" : i, \"train_accuracy\": in_sample_accuracy, \"validate_accuracy\": out_of_sample_accuracy}\n",
    "              \n",
    "    scores.append(output)\n",
    "\n",
    "knn_df = pd.DataFrame(metrics)              \n",
    "knn_df['difference'] = knn_df.train_accuracy - knn_df.validate_accuracy    "
   ]
  },
  {
   "cell_type": "code",
   "execution_count": null,
   "id": "23be88d7-6791-40d7-803c-39039602ccda",
   "metadata": {},
   "outputs": [],
   "source": [
    "#Plotting the train versus validate scores\n",
    "plt.figure(figsize=(10,4))\n",
    "plt.plot(knn_df.max_depth, knn_df.train_accuracy, marker = 'o', label= 'Train')\n",
    "plt.plot(knn_df.max_depth, knn_df.validate_accuracy, marker = 'o', label= 'Validate')\n",
    "plt.legend()\n",
    "plt.title(\"KNN scores while adjusting n_neighbors\")\n",
    "plt.show()"
   ]
  },
  {
   "cell_type": "markdown",
   "id": "5821af27-797e-4d21-a622-585e34d8837d",
   "metadata": {},
   "source": [
    "## Conclusion <a class=\"anchor\" id=\"conclusion\"></a>"
   ]
  },
  {
   "cell_type": "markdown",
   "id": "08146521-cf0d-444c-ab80-8b6a49f0fffd",
   "metadata": {},
   "source": [
    "### Summery <a class=\"anchor\" id=\"c_summery\"></a>"
   ]
  },
  {
   "cell_type": "markdown",
   "id": "885ddb3a-1e1b-48cb-bbf6-b86624230fb0",
   "metadata": {},
   "source": [
    "Churn occurs at 26.5% in the Telco dataset. The drivers of churn are: \n",
    "- Having a month-to-month contract\n",
    "- Not having tech support or online security\n",
    "- Having fiber optic internet \n",
    "- Low tenure/being a new customer\n",
    "- Higher monthly charges"
   ]
  },
  {
   "cell_type": "markdown",
   "id": "4d9f15e6-dfb6-477a-b5e8-6089a5bf53c5",
   "metadata": {},
   "source": [
    "### Recommendations <a class=\"anchor\" id=\"c_recs\"></a>"
   ]
  },
  {
   "cell_type": "markdown",
   "id": "52b83229-ad53-4294-a2b3-9cc6b27e641e",
   "metadata": {},
   "source": [
    "- Incentivize Month-to-month and fiber optic customers to stay.\n",
    "- Evaluate pricing and quality of fiber optic internet service.\n",
    "- Evaluate pricing and impact of tech support and online security.\n",
    "- Consider lowering prices for newer customers.\n",
    "- Once churn decreases, evaluate pricing power on phone services and two year contracts."
   ]
  },
  {
   "cell_type": "markdown",
   "id": "975b79df-d0c7-4736-994b-b79f787568c2",
   "metadata": {},
   "source": [
    "### Next Steps <a class=\"anchor\" id=\"c_steps\"></a>"
   ]
  },
  {
   "cell_type": "markdown",
   "id": "c1059f4d-df5e-4688-8d87-d8cb55386339",
   "metadata": {},
   "source": [
    "- Do statistical testing on the monthly_charges and total_charges features\n",
    "- Create a way to automatically compare churn for continuous features\n",
    "- Dig in deeper on features which have greater than 10% indication of churn.\n",
    "- Add a fourth model using logistic regression to check for improved performance.\n",
    "- Evaluate fiber optic internet type to identify focus areas."
   ]
  },
  {
   "cell_type": "code",
   "execution_count": null,
   "id": "3ec4d9a4-8232-4bbe-925b-3656cd3ce84c",
   "metadata": {},
   "outputs": [],
   "source": []
  }
 ],
 "metadata": {
  "kernelspec": {
   "display_name": "Python 3 (ipykernel)",
   "language": "python",
   "name": "python3"
  },
  "language_info": {
   "codemirror_mode": {
    "name": "ipython",
    "version": 3
   },
   "file_extension": ".py",
   "mimetype": "text/x-python",
   "name": "python",
   "nbconvert_exporter": "python",
   "pygments_lexer": "ipython3",
   "version": "3.9.15"
  }
 },
 "nbformat": 4,
 "nbformat_minor": 5
}
