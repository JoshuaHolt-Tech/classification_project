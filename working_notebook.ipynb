{
 "cells": [
  {
   "cell_type": "markdown",
   "id": "e4d27872-ce5d-443b-8806-ef9890c0e44a",
   "metadata": {},
   "source": [
    "# Classification Project: Telco Churn"
   ]
  },
  {
   "cell_type": "markdown",
   "id": "c5e150c5-a22d-45f5-9182-6229b45d4976",
   "metadata": {
    "tags": []
   },
   "source": [
    "## Table of Contents"
   ]
  },
  {
   "cell_type": "markdown",
   "id": "e383a393-1fcb-48fa-83b6-e8bea60d3556",
   "metadata": {
    "jp-MarkdownHeadingCollapsed": true,
    "tags": []
   },
   "source": [
    "* [Package Imports](#packages_import)\n",
    "* [Acquire](#data_import)\n",
    "* [Prepare](#prepare)\n",
    "* [Explore Process](#explore1)\n",
    "    * [Question 1](#q_1)\n",
    "        * [Q1 Visualization](#q_1_viz)\n",
    "        * [Q1 Statistical Test](#q_1_stats)\n",
    "        * [Q1 Answer](#q_1_ans)\n",
    "    * [Question 2](#q_2)\n",
    "        * [Q2 Visualization](#q_2_viz)\n",
    "        * [Q2 Statistical Test](#q_2_stats)\n",
    "        * [Q2 Answer](#q_2_ans)    \n",
    "    * [Question 3](#q_3)\n",
    "        * [Q3 Visualization](#q_3_viz)\n",
    "        * [Q3 Statistical Test](#q_3_stats)\n",
    "        * [Q3 Answer](#q_3_ans)    \n",
    "    * [Question 4](#q_4)\n",
    "        * [Q4 Visualization](#q_4_viz)\n",
    "        * [Q4 Statistical Test](#q_4_stats)\n",
    "        * [Q4 Answer](#q_4_ans)\n",
    "* [Explore Summary](#explore2)\n",
    "* [Modeling](#modeling)\n",
    "    * [Introduction](#m_intro)\n",
    "    * [Baseline](#baseline)\n",
    "    * [Model 1](#mod_1)\n",
    "    * [Model 2](#mod_2)\n",
    "    * [Model 3](#mod_3)\n",
    "* [Conclusion](#conclusion)\n",
    "    * [Summery](#c_summery)\n",
    "    * [Recommendations](#c_recs)\n",
    "    * [Next Steps](#c_steps)\n",
    "* [ReadMe](#readme)"
   ]
  },
  {
   "cell_type": "markdown",
   "id": "9133cbfe-654c-466f-b6ac-dbb416fc7e48",
   "metadata": {
    "tags": []
   },
   "source": [
    "## Package Imports <a class=\"anchor\" id=\"packages_import\"></a>\n"
   ]
  },
  {
   "cell_type": "code",
   "execution_count": 1,
   "id": "e7beec32-88e4-4538-aef9-6b01f8e03f9b",
   "metadata": {},
   "outputs": [],
   "source": [
    "#Importing required packages and files\n",
    "import pandas as pd\n",
    "import numpy as np\n",
    "from scipy import stats\n",
    "import matplotlib.pyplot as plt\n",
    "import seaborn as sns\n",
    "from acquire import get_telco_data\n",
    "from prepare import prep_telco, train_validate\n",
    "\n",
    "pd.options.display.max_columns = None"
   ]
  },
  {
   "cell_type": "markdown",
   "id": "f9bbbece-a2de-476c-8fd2-b6f92ab4d888",
   "metadata": {
    "tags": []
   },
   "source": [
    "## Acquire<a class=\"anchor\" id=\"data_import\"></a>"
   ]
  },
  {
   "cell_type": "code",
   "execution_count": 2,
   "id": "d1040a5f-c7eb-42c9-878c-7d1dc4a87fe1",
   "metadata": {},
   "outputs": [
    {
     "data": {
      "text/plain": [
       "0.2653698707936959"
      ]
     },
     "execution_count": 2,
     "metadata": {},
     "output_type": "execute_result"
    }
   ],
   "source": [
    "#First tries to get telco data from catche or aquires new data from MySQL database and assigns it to the master Data Frame: \n",
    "master_df = get_telco_data()\n",
    "len(master_df[master_df.churn_month == '2022-01-31']) / len(master_df)\n"
   ]
  },
  {
   "cell_type": "markdown",
   "id": "82e56729-defd-45e1-bf87-e3b0239de0d7",
   "metadata": {
    "tags": []
   },
   "source": [
    "## Prepare <a class=\"anchor\" id=\"prepare\"></a>"
   ]
  },
  {
   "cell_type": "code",
   "execution_count": 3,
   "id": "4c524131-2ca0-423f-a36b-cec7f183d599",
   "metadata": {},
   "outputs": [
    {
     "data": {
      "text/html": [
       "<div>\n",
       "<style scoped>\n",
       "    .dataframe tbody tr th:only-of-type {\n",
       "        vertical-align: middle;\n",
       "    }\n",
       "\n",
       "    .dataframe tbody tr th {\n",
       "        vertical-align: top;\n",
       "    }\n",
       "\n",
       "    .dataframe thead th {\n",
       "        text-align: right;\n",
       "    }\n",
       "</style>\n",
       "<table border=\"1\" class=\"dataframe\">\n",
       "  <thead>\n",
       "    <tr style=\"text-align: right;\">\n",
       "      <th></th>\n",
       "      <th>paperless_billing</th>\n",
       "      <th>senior_citizen</th>\n",
       "      <th>partner</th>\n",
       "      <th>dependents</th>\n",
       "      <th>monthly_charges</th>\n",
       "      <th>total_charges</th>\n",
       "      <th>churn</th>\n",
       "      <th>tenure</th>\n",
       "      <th>gender_Female</th>\n",
       "      <th>gender_Male</th>\n",
       "      <th>streaming_movies_No</th>\n",
       "      <th>streaming_movies_No internet service</th>\n",
       "      <th>streaming_movies_Yes</th>\n",
       "      <th>streaming_tv_No</th>\n",
       "      <th>streaming_tv_No internet service</th>\n",
       "      <th>streaming_tv_Yes</th>\n",
       "      <th>tech_support_No</th>\n",
       "      <th>tech_support_No internet service</th>\n",
       "      <th>tech_support_Yes</th>\n",
       "      <th>multiple_lines_No</th>\n",
       "      <th>multiple_lines_No phone service</th>\n",
       "      <th>multiple_lines_Yes</th>\n",
       "      <th>online_backup_No</th>\n",
       "      <th>online_backup_No internet service</th>\n",
       "      <th>online_backup_Yes</th>\n",
       "      <th>online_security_No</th>\n",
       "      <th>online_security_No internet service</th>\n",
       "      <th>online_security_Yes</th>\n",
       "      <th>device_protection_No</th>\n",
       "      <th>device_protection_No internet service</th>\n",
       "      <th>device_protection_Yes</th>\n",
       "      <th>payment_type_Bank transfer (automatic)</th>\n",
       "      <th>payment_type_Credit card (automatic)</th>\n",
       "      <th>payment_type_Electronic check</th>\n",
       "      <th>payment_type_Mailed check</th>\n",
       "      <th>internet_service_type_DSL</th>\n",
       "      <th>internet_service_type_Fiber optic</th>\n",
       "      <th>internet_service_type_None</th>\n",
       "      <th>contract_type_Month-to-month</th>\n",
       "      <th>contract_type_One year</th>\n",
       "      <th>contract_type_Two year</th>\n",
       "    </tr>\n",
       "  </thead>\n",
       "  <tbody>\n",
       "    <tr>\n",
       "      <th>0</th>\n",
       "      <td>1</td>\n",
       "      <td>0</td>\n",
       "      <td>1</td>\n",
       "      <td>1</td>\n",
       "      <td>65.6</td>\n",
       "      <td>593.30</td>\n",
       "      <td>0</td>\n",
       "      <td>9.0</td>\n",
       "      <td>1</td>\n",
       "      <td>0</td>\n",
       "      <td>1</td>\n",
       "      <td>0</td>\n",
       "      <td>0</td>\n",
       "      <td>0</td>\n",
       "      <td>0</td>\n",
       "      <td>1</td>\n",
       "      <td>0</td>\n",
       "      <td>0</td>\n",
       "      <td>1</td>\n",
       "      <td>1</td>\n",
       "      <td>0</td>\n",
       "      <td>0</td>\n",
       "      <td>0</td>\n",
       "      <td>0</td>\n",
       "      <td>1</td>\n",
       "      <td>1</td>\n",
       "      <td>0</td>\n",
       "      <td>0</td>\n",
       "      <td>1</td>\n",
       "      <td>0</td>\n",
       "      <td>0</td>\n",
       "      <td>0</td>\n",
       "      <td>0</td>\n",
       "      <td>0</td>\n",
       "      <td>1</td>\n",
       "      <td>1</td>\n",
       "      <td>0</td>\n",
       "      <td>0</td>\n",
       "      <td>0</td>\n",
       "      <td>1</td>\n",
       "      <td>0</td>\n",
       "    </tr>\n",
       "    <tr>\n",
       "      <th>1</th>\n",
       "      <td>0</td>\n",
       "      <td>0</td>\n",
       "      <td>0</td>\n",
       "      <td>0</td>\n",
       "      <td>59.9</td>\n",
       "      <td>542.40</td>\n",
       "      <td>0</td>\n",
       "      <td>9.0</td>\n",
       "      <td>0</td>\n",
       "      <td>1</td>\n",
       "      <td>0</td>\n",
       "      <td>0</td>\n",
       "      <td>1</td>\n",
       "      <td>1</td>\n",
       "      <td>0</td>\n",
       "      <td>0</td>\n",
       "      <td>1</td>\n",
       "      <td>0</td>\n",
       "      <td>0</td>\n",
       "      <td>0</td>\n",
       "      <td>0</td>\n",
       "      <td>1</td>\n",
       "      <td>1</td>\n",
       "      <td>0</td>\n",
       "      <td>0</td>\n",
       "      <td>1</td>\n",
       "      <td>0</td>\n",
       "      <td>0</td>\n",
       "      <td>1</td>\n",
       "      <td>0</td>\n",
       "      <td>0</td>\n",
       "      <td>0</td>\n",
       "      <td>0</td>\n",
       "      <td>0</td>\n",
       "      <td>1</td>\n",
       "      <td>1</td>\n",
       "      <td>0</td>\n",
       "      <td>0</td>\n",
       "      <td>1</td>\n",
       "      <td>0</td>\n",
       "      <td>0</td>\n",
       "    </tr>\n",
       "    <tr>\n",
       "      <th>2</th>\n",
       "      <td>1</td>\n",
       "      <td>0</td>\n",
       "      <td>0</td>\n",
       "      <td>0</td>\n",
       "      <td>73.9</td>\n",
       "      <td>280.85</td>\n",
       "      <td>1</td>\n",
       "      <td>4.0</td>\n",
       "      <td>0</td>\n",
       "      <td>1</td>\n",
       "      <td>1</td>\n",
       "      <td>0</td>\n",
       "      <td>0</td>\n",
       "      <td>1</td>\n",
       "      <td>0</td>\n",
       "      <td>0</td>\n",
       "      <td>1</td>\n",
       "      <td>0</td>\n",
       "      <td>0</td>\n",
       "      <td>1</td>\n",
       "      <td>0</td>\n",
       "      <td>0</td>\n",
       "      <td>1</td>\n",
       "      <td>0</td>\n",
       "      <td>0</td>\n",
       "      <td>1</td>\n",
       "      <td>0</td>\n",
       "      <td>0</td>\n",
       "      <td>0</td>\n",
       "      <td>0</td>\n",
       "      <td>1</td>\n",
       "      <td>0</td>\n",
       "      <td>0</td>\n",
       "      <td>1</td>\n",
       "      <td>0</td>\n",
       "      <td>0</td>\n",
       "      <td>1</td>\n",
       "      <td>0</td>\n",
       "      <td>1</td>\n",
       "      <td>0</td>\n",
       "      <td>0</td>\n",
       "    </tr>\n",
       "    <tr>\n",
       "      <th>3</th>\n",
       "      <td>1</td>\n",
       "      <td>1</td>\n",
       "      <td>1</td>\n",
       "      <td>0</td>\n",
       "      <td>98.0</td>\n",
       "      <td>1237.85</td>\n",
       "      <td>1</td>\n",
       "      <td>13.0</td>\n",
       "      <td>0</td>\n",
       "      <td>1</td>\n",
       "      <td>0</td>\n",
       "      <td>0</td>\n",
       "      <td>1</td>\n",
       "      <td>0</td>\n",
       "      <td>0</td>\n",
       "      <td>1</td>\n",
       "      <td>1</td>\n",
       "      <td>0</td>\n",
       "      <td>0</td>\n",
       "      <td>1</td>\n",
       "      <td>0</td>\n",
       "      <td>0</td>\n",
       "      <td>0</td>\n",
       "      <td>0</td>\n",
       "      <td>1</td>\n",
       "      <td>1</td>\n",
       "      <td>0</td>\n",
       "      <td>0</td>\n",
       "      <td>0</td>\n",
       "      <td>0</td>\n",
       "      <td>1</td>\n",
       "      <td>0</td>\n",
       "      <td>0</td>\n",
       "      <td>1</td>\n",
       "      <td>0</td>\n",
       "      <td>0</td>\n",
       "      <td>1</td>\n",
       "      <td>0</td>\n",
       "      <td>1</td>\n",
       "      <td>0</td>\n",
       "      <td>0</td>\n",
       "    </tr>\n",
       "    <tr>\n",
       "      <th>4</th>\n",
       "      <td>1</td>\n",
       "      <td>1</td>\n",
       "      <td>1</td>\n",
       "      <td>0</td>\n",
       "      <td>83.9</td>\n",
       "      <td>267.40</td>\n",
       "      <td>1</td>\n",
       "      <td>3.0</td>\n",
       "      <td>1</td>\n",
       "      <td>0</td>\n",
       "      <td>1</td>\n",
       "      <td>0</td>\n",
       "      <td>0</td>\n",
       "      <td>0</td>\n",
       "      <td>0</td>\n",
       "      <td>1</td>\n",
       "      <td>0</td>\n",
       "      <td>0</td>\n",
       "      <td>1</td>\n",
       "      <td>1</td>\n",
       "      <td>0</td>\n",
       "      <td>0</td>\n",
       "      <td>1</td>\n",
       "      <td>0</td>\n",
       "      <td>0</td>\n",
       "      <td>1</td>\n",
       "      <td>0</td>\n",
       "      <td>0</td>\n",
       "      <td>1</td>\n",
       "      <td>0</td>\n",
       "      <td>0</td>\n",
       "      <td>0</td>\n",
       "      <td>0</td>\n",
       "      <td>0</td>\n",
       "      <td>1</td>\n",
       "      <td>0</td>\n",
       "      <td>1</td>\n",
       "      <td>0</td>\n",
       "      <td>1</td>\n",
       "      <td>0</td>\n",
       "      <td>0</td>\n",
       "    </tr>\n",
       "  </tbody>\n",
       "</table>\n",
       "</div>"
      ],
      "text/plain": [
       "   paperless_billing  senior_citizen  partner  dependents  monthly_charges  \\\n",
       "0                  1               0        1           1             65.6   \n",
       "1                  0               0        0           0             59.9   \n",
       "2                  1               0        0           0             73.9   \n",
       "3                  1               1        1           0             98.0   \n",
       "4                  1               1        1           0             83.9   \n",
       "\n",
       "   total_charges  churn  tenure  gender_Female  gender_Male  \\\n",
       "0         593.30      0     9.0              1            0   \n",
       "1         542.40      0     9.0              0            1   \n",
       "2         280.85      1     4.0              0            1   \n",
       "3        1237.85      1    13.0              0            1   \n",
       "4         267.40      1     3.0              1            0   \n",
       "\n",
       "   streaming_movies_No  streaming_movies_No internet service  \\\n",
       "0                    1                                     0   \n",
       "1                    0                                     0   \n",
       "2                    1                                     0   \n",
       "3                    0                                     0   \n",
       "4                    1                                     0   \n",
       "\n",
       "   streaming_movies_Yes  streaming_tv_No  streaming_tv_No internet service  \\\n",
       "0                     0                0                                 0   \n",
       "1                     1                1                                 0   \n",
       "2                     0                1                                 0   \n",
       "3                     1                0                                 0   \n",
       "4                     0                0                                 0   \n",
       "\n",
       "   streaming_tv_Yes  tech_support_No  tech_support_No internet service  \\\n",
       "0                 1                0                                 0   \n",
       "1                 0                1                                 0   \n",
       "2                 0                1                                 0   \n",
       "3                 1                1                                 0   \n",
       "4                 1                0                                 0   \n",
       "\n",
       "   tech_support_Yes  multiple_lines_No  multiple_lines_No phone service  \\\n",
       "0                 1                  1                                0   \n",
       "1                 0                  0                                0   \n",
       "2                 0                  1                                0   \n",
       "3                 0                  1                                0   \n",
       "4                 1                  1                                0   \n",
       "\n",
       "   multiple_lines_Yes  online_backup_No  online_backup_No internet service  \\\n",
       "0                   0                 0                                  0   \n",
       "1                   1                 1                                  0   \n",
       "2                   0                 1                                  0   \n",
       "3                   0                 0                                  0   \n",
       "4                   0                 1                                  0   \n",
       "\n",
       "   online_backup_Yes  online_security_No  online_security_No internet service  \\\n",
       "0                  1                   1                                    0   \n",
       "1                  0                   1                                    0   \n",
       "2                  0                   1                                    0   \n",
       "3                  1                   1                                    0   \n",
       "4                  0                   1                                    0   \n",
       "\n",
       "   online_security_Yes  device_protection_No  \\\n",
       "0                    0                     1   \n",
       "1                    0                     1   \n",
       "2                    0                     0   \n",
       "3                    0                     0   \n",
       "4                    0                     1   \n",
       "\n",
       "   device_protection_No internet service  device_protection_Yes  \\\n",
       "0                                      0                      0   \n",
       "1                                      0                      0   \n",
       "2                                      0                      1   \n",
       "3                                      0                      1   \n",
       "4                                      0                      0   \n",
       "\n",
       "   payment_type_Bank transfer (automatic)  \\\n",
       "0                                       0   \n",
       "1                                       0   \n",
       "2                                       0   \n",
       "3                                       0   \n",
       "4                                       0   \n",
       "\n",
       "   payment_type_Credit card (automatic)  payment_type_Electronic check  \\\n",
       "0                                     0                              0   \n",
       "1                                     0                              0   \n",
       "2                                     0                              1   \n",
       "3                                     0                              1   \n",
       "4                                     0                              0   \n",
       "\n",
       "   payment_type_Mailed check  internet_service_type_DSL  \\\n",
       "0                          1                          1   \n",
       "1                          1                          1   \n",
       "2                          0                          0   \n",
       "3                          0                          0   \n",
       "4                          1                          0   \n",
       "\n",
       "   internet_service_type_Fiber optic  internet_service_type_None  \\\n",
       "0                                  0                           0   \n",
       "1                                  0                           0   \n",
       "2                                  1                           0   \n",
       "3                                  1                           0   \n",
       "4                                  1                           0   \n",
       "\n",
       "   contract_type_Month-to-month  contract_type_One year  \\\n",
       "0                             0                       1   \n",
       "1                             1                       0   \n",
       "2                             1                       0   \n",
       "3                             1                       0   \n",
       "4                             1                       0   \n",
       "\n",
       "   contract_type_Two year  \n",
       "0                       0  \n",
       "1                       0  \n",
       "2                       0  \n",
       "3                       0  \n",
       "4                       0  "
      ]
     },
     "execution_count": 3,
     "metadata": {},
     "output_type": "execute_result"
    }
   ],
   "source": [
    "#Takes the master_df and prepares the data for statistical and machine learning analysis:\n",
    "working_df = prep_telco(master_df)\n",
    "working_df.head()"
   ]
  },
  {
   "cell_type": "code",
   "execution_count": 4,
   "id": "8cbf7a9f-d7a6-4dab-bb79-5c90358e105a",
   "metadata": {},
   "outputs": [
    {
     "data": {
      "text/plain": [
       "0.2653144016227181"
      ]
     },
     "execution_count": 4,
     "metadata": {},
     "output_type": "execute_result"
    }
   ],
   "source": [
    "#Seperate data into train(35%), validate(35%) and test(30%) Data Frames:\n",
    "#Random seed of 1969\n",
    "train_df, val_df, test_df = train_validate(working_df, stratify_col='churn')\n",
    "sum(train_df.churn) / len(train_df.churn)"
   ]
  },
  {
   "cell_type": "code",
   "execution_count": 5,
   "id": "33e004af-ac79-4413-bd55-39a3bf142e46",
   "metadata": {},
   "outputs": [
    {
     "data": {
      "text/html": [
       "<div>\n",
       "<style scoped>\n",
       "    .dataframe tbody tr th:only-of-type {\n",
       "        vertical-align: middle;\n",
       "    }\n",
       "\n",
       "    .dataframe tbody tr th {\n",
       "        vertical-align: top;\n",
       "    }\n",
       "\n",
       "    .dataframe thead th {\n",
       "        text-align: right;\n",
       "    }\n",
       "</style>\n",
       "<table border=\"1\" class=\"dataframe\">\n",
       "  <thead>\n",
       "    <tr style=\"text-align: right;\">\n",
       "      <th></th>\n",
       "      <th>paperless_billing</th>\n",
       "      <th>senior_citizen</th>\n",
       "      <th>partner</th>\n",
       "      <th>dependents</th>\n",
       "      <th>monthly_charges</th>\n",
       "      <th>total_charges</th>\n",
       "      <th>churn</th>\n",
       "      <th>tenure</th>\n",
       "      <th>gender_Female</th>\n",
       "      <th>gender_Male</th>\n",
       "      <th>streaming_movies_No</th>\n",
       "      <th>streaming_movies_No internet service</th>\n",
       "      <th>streaming_movies_Yes</th>\n",
       "      <th>streaming_tv_No</th>\n",
       "      <th>streaming_tv_No internet service</th>\n",
       "      <th>streaming_tv_Yes</th>\n",
       "      <th>tech_support_No</th>\n",
       "      <th>tech_support_No internet service</th>\n",
       "      <th>tech_support_Yes</th>\n",
       "      <th>multiple_lines_No</th>\n",
       "      <th>multiple_lines_No phone service</th>\n",
       "      <th>multiple_lines_Yes</th>\n",
       "      <th>online_backup_No</th>\n",
       "      <th>online_backup_No internet service</th>\n",
       "      <th>online_backup_Yes</th>\n",
       "      <th>online_security_No</th>\n",
       "      <th>online_security_No internet service</th>\n",
       "      <th>online_security_Yes</th>\n",
       "      <th>device_protection_No</th>\n",
       "      <th>device_protection_No internet service</th>\n",
       "      <th>device_protection_Yes</th>\n",
       "      <th>payment_type_Bank transfer (automatic)</th>\n",
       "      <th>payment_type_Credit card (automatic)</th>\n",
       "      <th>payment_type_Electronic check</th>\n",
       "      <th>payment_type_Mailed check</th>\n",
       "      <th>internet_service_type_DSL</th>\n",
       "      <th>internet_service_type_Fiber optic</th>\n",
       "      <th>internet_service_type_None</th>\n",
       "      <th>contract_type_Month-to-month</th>\n",
       "      <th>contract_type_One year</th>\n",
       "      <th>contract_type_Two year</th>\n",
       "    </tr>\n",
       "  </thead>\n",
       "  <tbody>\n",
       "    <tr>\n",
       "      <th>384</th>\n",
       "      <td>1</td>\n",
       "      <td>0</td>\n",
       "      <td>1</td>\n",
       "      <td>1</td>\n",
       "      <td>43.95</td>\n",
       "      <td>2960.10</td>\n",
       "      <td>0</td>\n",
       "      <td>67.0</td>\n",
       "      <td>1</td>\n",
       "      <td>0</td>\n",
       "      <td>0</td>\n",
       "      <td>0</td>\n",
       "      <td>1</td>\n",
       "      <td>1</td>\n",
       "      <td>0</td>\n",
       "      <td>0</td>\n",
       "      <td>1</td>\n",
       "      <td>0</td>\n",
       "      <td>0</td>\n",
       "      <td>0</td>\n",
       "      <td>1</td>\n",
       "      <td>0</td>\n",
       "      <td>1</td>\n",
       "      <td>0</td>\n",
       "      <td>0</td>\n",
       "      <td>0</td>\n",
       "      <td>0</td>\n",
       "      <td>1</td>\n",
       "      <td>0</td>\n",
       "      <td>0</td>\n",
       "      <td>1</td>\n",
       "      <td>0</td>\n",
       "      <td>1</td>\n",
       "      <td>0</td>\n",
       "      <td>0</td>\n",
       "      <td>1</td>\n",
       "      <td>0</td>\n",
       "      <td>0</td>\n",
       "      <td>0</td>\n",
       "      <td>0</td>\n",
       "      <td>1</td>\n",
       "    </tr>\n",
       "    <tr>\n",
       "      <th>6320</th>\n",
       "      <td>0</td>\n",
       "      <td>0</td>\n",
       "      <td>1</td>\n",
       "      <td>1</td>\n",
       "      <td>25.25</td>\n",
       "      <td>1573.05</td>\n",
       "      <td>0</td>\n",
       "      <td>62.0</td>\n",
       "      <td>0</td>\n",
       "      <td>1</td>\n",
       "      <td>0</td>\n",
       "      <td>1</td>\n",
       "      <td>0</td>\n",
       "      <td>0</td>\n",
       "      <td>1</td>\n",
       "      <td>0</td>\n",
       "      <td>0</td>\n",
       "      <td>1</td>\n",
       "      <td>0</td>\n",
       "      <td>0</td>\n",
       "      <td>0</td>\n",
       "      <td>1</td>\n",
       "      <td>0</td>\n",
       "      <td>1</td>\n",
       "      <td>0</td>\n",
       "      <td>0</td>\n",
       "      <td>1</td>\n",
       "      <td>0</td>\n",
       "      <td>0</td>\n",
       "      <td>1</td>\n",
       "      <td>0</td>\n",
       "      <td>0</td>\n",
       "      <td>0</td>\n",
       "      <td>0</td>\n",
       "      <td>1</td>\n",
       "      <td>0</td>\n",
       "      <td>0</td>\n",
       "      <td>1</td>\n",
       "      <td>0</td>\n",
       "      <td>0</td>\n",
       "      <td>1</td>\n",
       "    </tr>\n",
       "    <tr>\n",
       "      <th>6781</th>\n",
       "      <td>0</td>\n",
       "      <td>0</td>\n",
       "      <td>1</td>\n",
       "      <td>1</td>\n",
       "      <td>19.70</td>\n",
       "      <td>1275.85</td>\n",
       "      <td>0</td>\n",
       "      <td>65.0</td>\n",
       "      <td>0</td>\n",
       "      <td>1</td>\n",
       "      <td>0</td>\n",
       "      <td>1</td>\n",
       "      <td>0</td>\n",
       "      <td>0</td>\n",
       "      <td>1</td>\n",
       "      <td>0</td>\n",
       "      <td>0</td>\n",
       "      <td>1</td>\n",
       "      <td>0</td>\n",
       "      <td>1</td>\n",
       "      <td>0</td>\n",
       "      <td>0</td>\n",
       "      <td>0</td>\n",
       "      <td>1</td>\n",
       "      <td>0</td>\n",
       "      <td>0</td>\n",
       "      <td>1</td>\n",
       "      <td>0</td>\n",
       "      <td>0</td>\n",
       "      <td>1</td>\n",
       "      <td>0</td>\n",
       "      <td>0</td>\n",
       "      <td>0</td>\n",
       "      <td>0</td>\n",
       "      <td>1</td>\n",
       "      <td>0</td>\n",
       "      <td>0</td>\n",
       "      <td>1</td>\n",
       "      <td>0</td>\n",
       "      <td>0</td>\n",
       "      <td>1</td>\n",
       "    </tr>\n",
       "    <tr>\n",
       "      <th>3922</th>\n",
       "      <td>1</td>\n",
       "      <td>0</td>\n",
       "      <td>1</td>\n",
       "      <td>0</td>\n",
       "      <td>103.90</td>\n",
       "      <td>2254.20</td>\n",
       "      <td>1</td>\n",
       "      <td>22.0</td>\n",
       "      <td>1</td>\n",
       "      <td>0</td>\n",
       "      <td>0</td>\n",
       "      <td>0</td>\n",
       "      <td>1</td>\n",
       "      <td>0</td>\n",
       "      <td>0</td>\n",
       "      <td>1</td>\n",
       "      <td>1</td>\n",
       "      <td>0</td>\n",
       "      <td>0</td>\n",
       "      <td>0</td>\n",
       "      <td>0</td>\n",
       "      <td>1</td>\n",
       "      <td>1</td>\n",
       "      <td>0</td>\n",
       "      <td>0</td>\n",
       "      <td>0</td>\n",
       "      <td>0</td>\n",
       "      <td>1</td>\n",
       "      <td>0</td>\n",
       "      <td>0</td>\n",
       "      <td>1</td>\n",
       "      <td>0</td>\n",
       "      <td>0</td>\n",
       "      <td>1</td>\n",
       "      <td>0</td>\n",
       "      <td>0</td>\n",
       "      <td>1</td>\n",
       "      <td>0</td>\n",
       "      <td>1</td>\n",
       "      <td>0</td>\n",
       "      <td>0</td>\n",
       "    </tr>\n",
       "    <tr>\n",
       "      <th>5775</th>\n",
       "      <td>1</td>\n",
       "      <td>0</td>\n",
       "      <td>0</td>\n",
       "      <td>0</td>\n",
       "      <td>49.25</td>\n",
       "      <td>255.60</td>\n",
       "      <td>0</td>\n",
       "      <td>5.0</td>\n",
       "      <td>1</td>\n",
       "      <td>0</td>\n",
       "      <td>0</td>\n",
       "      <td>0</td>\n",
       "      <td>1</td>\n",
       "      <td>0</td>\n",
       "      <td>0</td>\n",
       "      <td>1</td>\n",
       "      <td>0</td>\n",
       "      <td>0</td>\n",
       "      <td>1</td>\n",
       "      <td>0</td>\n",
       "      <td>1</td>\n",
       "      <td>0</td>\n",
       "      <td>1</td>\n",
       "      <td>0</td>\n",
       "      <td>0</td>\n",
       "      <td>1</td>\n",
       "      <td>0</td>\n",
       "      <td>0</td>\n",
       "      <td>1</td>\n",
       "      <td>0</td>\n",
       "      <td>0</td>\n",
       "      <td>0</td>\n",
       "      <td>0</td>\n",
       "      <td>0</td>\n",
       "      <td>1</td>\n",
       "      <td>1</td>\n",
       "      <td>0</td>\n",
       "      <td>0</td>\n",
       "      <td>0</td>\n",
       "      <td>1</td>\n",
       "      <td>0</td>\n",
       "    </tr>\n",
       "  </tbody>\n",
       "</table>\n",
       "</div>"
      ],
      "text/plain": [
       "      paperless_billing  senior_citizen  partner  dependents  monthly_charges  \\\n",
       "384                   1               0        1           1            43.95   \n",
       "6320                  0               0        1           1            25.25   \n",
       "6781                  0               0        1           1            19.70   \n",
       "3922                  1               0        1           0           103.90   \n",
       "5775                  1               0        0           0            49.25   \n",
       "\n",
       "      total_charges  churn  tenure  gender_Female  gender_Male  \\\n",
       "384         2960.10      0    67.0              1            0   \n",
       "6320        1573.05      0    62.0              0            1   \n",
       "6781        1275.85      0    65.0              0            1   \n",
       "3922        2254.20      1    22.0              1            0   \n",
       "5775         255.60      0     5.0              1            0   \n",
       "\n",
       "      streaming_movies_No  streaming_movies_No internet service  \\\n",
       "384                     0                                     0   \n",
       "6320                    0                                     1   \n",
       "6781                    0                                     1   \n",
       "3922                    0                                     0   \n",
       "5775                    0                                     0   \n",
       "\n",
       "      streaming_movies_Yes  streaming_tv_No  streaming_tv_No internet service  \\\n",
       "384                      1                1                                 0   \n",
       "6320                     0                0                                 1   \n",
       "6781                     0                0                                 1   \n",
       "3922                     1                0                                 0   \n",
       "5775                     1                0                                 0   \n",
       "\n",
       "      streaming_tv_Yes  tech_support_No  tech_support_No internet service  \\\n",
       "384                  0                1                                 0   \n",
       "6320                 0                0                                 1   \n",
       "6781                 0                0                                 1   \n",
       "3922                 1                1                                 0   \n",
       "5775                 1                0                                 0   \n",
       "\n",
       "      tech_support_Yes  multiple_lines_No  multiple_lines_No phone service  \\\n",
       "384                  0                  0                                1   \n",
       "6320                 0                  0                                0   \n",
       "6781                 0                  1                                0   \n",
       "3922                 0                  0                                0   \n",
       "5775                 1                  0                                1   \n",
       "\n",
       "      multiple_lines_Yes  online_backup_No  online_backup_No internet service  \\\n",
       "384                    0                 1                                  0   \n",
       "6320                   1                 0                                  1   \n",
       "6781                   0                 0                                  1   \n",
       "3922                   1                 1                                  0   \n",
       "5775                   0                 1                                  0   \n",
       "\n",
       "      online_backup_Yes  online_security_No  \\\n",
       "384                   0                   0   \n",
       "6320                  0                   0   \n",
       "6781                  0                   0   \n",
       "3922                  0                   0   \n",
       "5775                  0                   1   \n",
       "\n",
       "      online_security_No internet service  online_security_Yes  \\\n",
       "384                                     0                    1   \n",
       "6320                                    1                    0   \n",
       "6781                                    1                    0   \n",
       "3922                                    0                    1   \n",
       "5775                                    0                    0   \n",
       "\n",
       "      device_protection_No  device_protection_No internet service  \\\n",
       "384                      0                                      0   \n",
       "6320                     0                                      1   \n",
       "6781                     0                                      1   \n",
       "3922                     0                                      0   \n",
       "5775                     1                                      0   \n",
       "\n",
       "      device_protection_Yes  payment_type_Bank transfer (automatic)  \\\n",
       "384                       1                                       0   \n",
       "6320                      0                                       0   \n",
       "6781                      0                                       0   \n",
       "3922                      1                                       0   \n",
       "5775                      0                                       0   \n",
       "\n",
       "      payment_type_Credit card (automatic)  payment_type_Electronic check  \\\n",
       "384                                      1                              0   \n",
       "6320                                     0                              0   \n",
       "6781                                     0                              0   \n",
       "3922                                     0                              1   \n",
       "5775                                     0                              0   \n",
       "\n",
       "      payment_type_Mailed check  internet_service_type_DSL  \\\n",
       "384                           0                          1   \n",
       "6320                          1                          0   \n",
       "6781                          1                          0   \n",
       "3922                          0                          0   \n",
       "5775                          1                          1   \n",
       "\n",
       "      internet_service_type_Fiber optic  internet_service_type_None  \\\n",
       "384                                   0                           0   \n",
       "6320                                  0                           1   \n",
       "6781                                  0                           1   \n",
       "3922                                  1                           0   \n",
       "5775                                  0                           0   \n",
       "\n",
       "      contract_type_Month-to-month  contract_type_One year  \\\n",
       "384                              0                       0   \n",
       "6320                             0                       0   \n",
       "6781                             0                       0   \n",
       "3922                             1                       0   \n",
       "5775                             0                       1   \n",
       "\n",
       "      contract_type_Two year  \n",
       "384                        1  \n",
       "6320                       1  \n",
       "6781                       1  \n",
       "3922                       0  \n",
       "5775                       0  "
      ]
     },
     "execution_count": 5,
     "metadata": {},
     "output_type": "execute_result"
    }
   ],
   "source": [
    "train_df.head()"
   ]
  },
  {
   "cell_type": "markdown",
   "id": "43e8c236-1d9b-49bf-beb8-d496d0413ea1",
   "metadata": {
    "tags": []
   },
   "source": [
    "## Explore process <a class=\"anchor\" id=\"explore1\"></a>"
   ]
  },
  {
   "cell_type": "code",
   "execution_count": 6,
   "id": "ba9fb6af-5396-4343-8949-72d188412c0a",
   "metadata": {},
   "outputs": [
    {
     "name": "stdout",
     "output_type": "stream",
     "text": [
      "churn_df length: 654\n",
      "no_churn length: 1811\n"
     ]
    }
   ],
   "source": [
    "#Split into a churn and not churn DataFrame to explore:\n",
    "churn_df = train_df[train_df.churn == 1]\n",
    "print(f'churn_df length: {len(churn_df)}')\n",
    "no_churn = train_df[train_df.churn == 0]\n",
    "print(f'no_churn length: {len(no_churn)}')"
   ]
  },
  {
   "cell_type": "markdown",
   "id": "90afb128-f2eb-4734-93e5-49b7d4d2acbf",
   "metadata": {},
   "source": [
    "Takeaway: there are 26.5% of people that churned and 73.5% have not churned."
   ]
  },
  {
   "cell_type": "code",
   "execution_count": 38,
   "id": "c0350035-b21c-427c-9fa6-97efaf9dc115",
   "metadata": {},
   "outputs": [
    {
     "name": "stdout",
     "output_type": "stream",
     "text": [
      "Column ------------------------------------- Churn ----- Deviation ---- Baseline --- Deviation --- No Churn\n",
      "paperless_billing                      |       75.7 % |       15.0 |       60.7% |       -5.4 |       55.3 % |\n",
      "\n",
      "senior_citizen                         |       24.5 % |        8.4 |       16.1% |       -3.0 |       13.1 % |\n",
      "\n",
      "partner                                |       36.7 % |      -12.9 |       49.6% |        4.6 |       54.2 % |\n",
      "\n",
      "dependents                             |       17.3 % |      -12.5 |       29.8% |        4.5 |       34.3 % |\n",
      "\n",
      "monthly_charges                        |     7393.9 % |      931.0 |     6462.9% |     -336.2 |     6126.7 % |\n",
      "\n",
      "total_charges                          |   156445.6 % |   -74413.3 |   230858.9% |    26872.7 |   257731.6 % |\n",
      "\n",
      "churn                                  |      100.0 % |       73.5 |       26.5% |      -26.5 |        0.0 % |\n",
      "\n",
      "tenure                                 |     1830.7 % |    -1427.2 |     3257.9% |      515.4 |     3773.3 % |\n",
      "\n",
      "gender_Female                          |       49.5 % |        0.7 |       48.8% |       -0.2 |       48.6 % |\n",
      "\n",
      "gender_Male                            |       50.5 % |       -0.7 |       51.2% |        0.2 |       51.4 % |\n",
      "\n",
      "streaming_movies_No                    |       52.4 % |       12.1 |       40.3% |       -4.4 |       35.9 % |\n",
      "\n",
      "streaming_movies_No internet service   |        5.8 % |      -15.6 |       21.4% |        5.6 |       27.0 % |\n",
      "\n",
      "streaming_movies_Yes                   |       41.7 % |        3.4 |       38.3% |       -1.2 |       37.1 % |\n",
      "\n",
      "streaming_tv_No                        |       51.8 % |       11.2 |       40.6% |       -4.0 |       36.6 % |\n",
      "\n",
      "streaming_tv_No internet service       |        5.8 % |      -15.6 |       21.4% |        5.6 |       27.0 % |\n",
      "\n",
      "streaming_tv_Yes                       |       42.4 % |        4.4 |       38.0% |       -1.6 |       36.4 % |\n",
      "\n",
      "tech_support_No                        |       79.8 % |       30.1 |       49.7% |      -10.9 |       38.8 % |\n",
      "\n",
      "tech_support_No internet service       |        5.8 % |      -15.6 |       21.4% |        5.6 |       27.0 % |\n",
      "\n",
      "tech_support_Yes                       |       14.4 % |      -14.5 |       28.9% |        5.3 |       34.2 % |\n",
      "\n",
      "multiple_lines_No                      |       44.6 % |       -3.6 |       48.2% |        1.3 |       49.5 % |\n",
      "\n",
      "multiple_lines_No phone service        |        9.5 % |       -0.7 |       10.2% |        0.2 |       10.4 % |\n",
      "\n",
      "multiple_lines_Yes                     |       45.9 % |        4.3 |       41.6% |       -1.6 |       40.0 % |\n",
      "\n",
      "online_backup_No                       |       63.6 % |       19.7 |       43.9% |       -7.1 |       36.8 % |\n",
      "\n",
      "online_backup_No internet service      |        5.8 % |      -15.6 |       21.4% |        5.6 |       27.0 % |\n",
      "\n",
      "online_backup_Yes                      |       30.6 % |       -4.1 |       34.7% |        1.5 |       36.2 % |\n",
      "\n",
      "online_security_No                     |       77.8 % |       28.8 |       49.0% |      -10.4 |       38.6 % |\n",
      "\n",
      "online_security_No internet service    |        5.8 % |      -15.6 |       21.4% |        5.6 |       27.0 % |\n",
      "\n",
      "online_security_Yes                    |       16.4 % |      -13.2 |       29.6% |        4.8 |       34.4 % |\n",
      "\n",
      "device_protection_No                   |       66.1 % |       21.9 |       44.2% |       -7.9 |       36.3 % |\n",
      "\n",
      "device_protection_No internet service  |        5.8 % |      -15.6 |       21.4% |        5.6 |       27.0 % |\n",
      "\n",
      "device_protection_Yes                  |       28.1 % |       -6.3 |       34.4% |        2.3 |       36.7 % |\n",
      "\n",
      "payment_type_Bank transfer (automatic) |       13.0 % |      -10.2 |       23.2% |        3.6 |       26.8 % |\n",
      "\n",
      "payment_type_Credit card (automatic)   |       14.2 % |       -7.5 |       21.7% |        2.7 |       24.4 % |\n",
      "\n",
      "payment_type_Electronic check          |       55.5 % |       22.9 |       32.6% |       -8.3 |       24.3 % |\n",
      "\n",
      "payment_type_Mailed check              |       17.3 % |       -5.3 |       22.6% |        1.9 |       24.5 % |\n",
      "\n",
      "internet_service_type_DSL              |       25.4 % |       -9.4 |       34.8% |        3.4 |       38.2 % |\n",
      "\n",
      "internet_service_type_Fiber optic      |       68.8 % |       25.0 |       43.8% |       -9.0 |       34.8 % |\n",
      "\n",
      "internet_service_type_None             |        5.8 % |      -15.6 |       21.4% |        5.6 |       27.0 % |\n",
      "\n",
      "contract_type_Month-to-month           |       88.1 % |       33.6 |       54.5% |      -12.1 |       42.4 % |\n",
      "\n",
      "contract_type_One year                 |        8.9 % |      -12.2 |       21.1% |        4.4 |       25.5 % |\n",
      "\n",
      "contract_type_Two year                 |        3.1 % |      -21.3 |       24.4% |        7.7 |       32.1 % |\n",
      "\n"
     ]
    }
   ],
   "source": [
    "#Printing a comparison between the baseline and two DataFrames:\n",
    "print('Column ------------------------------------- Churn ----- Deviation ---- Baseline --- Deviation --- No Churn')\n",
    "for item in churn_df:\n",
    "    bl = round(sum(train_df[item]) / len(train_df[item]) * 100,1)\n",
    "    churn = round(sum(churn_df[item]) / len(churn_df[item]) * 100,1)\n",
    "    no_c = round(sum(no_churn[item]) / len(no_churn[item]) * 100,1)\n",
    "    \n",
    "    \n",
    "    print(f'{item:38} | {churn:10} % | {churn - bl:10.1f} | {bl:10}% | {no_c - bl:10.1f} | {no_c:10} % |')\n",
    "    print('')"
   ]
  },
  {
   "cell_type": "markdown",
   "id": "f42ea002-69cb-4832-b487-0150150c79cb",
   "metadata": {},
   "source": [
    "Features with a high or low deviation from the baseline to focus on: \n",
    "1. contract_type_Month-to-month (high) 33.6%\n",
    "- internet_service_type_Fiber optic (high) 25.0%\n",
    "- payment_type_Electronic check (high) 22.9%\n",
    "- device_protection_No internet service (low) -15.6%\n",
    "- online_security_No internet service (low) -15.6%\n",
    "- online_backup_No internet service (low) -15.6%\n",
    "- tech_support_No internet service (low) -15.6%\n",
    "- streaming_tv_No internet service (low) -15.6%\n",
    "- streaming_movies_No internet service (low) -15.6%\n",
    "- dependents (low) -12.5%\n",
    "- paperless_billing (high) 15.0%"
   ]
  },
  {
   "cell_type": "code",
   "execution_count": 13,
   "id": "ca50e98b-bf75-4c24-8398-4a861123eb94",
   "metadata": {},
   "outputs": [
    {
     "data": {
      "text/plain": [
       "count    654.000000\n",
       "mean      73.938838\n",
       "std       24.614680\n",
       "min       18.850000\n",
       "25%       55.312500\n",
       "50%       78.950000\n",
       "75%       93.850000\n",
       "max      116.200000\n",
       "Name: monthly_charges, dtype: float64"
      ]
     },
     "execution_count": 13,
     "metadata": {},
     "output_type": "execute_result"
    }
   ],
   "source": [
    "churn_df.monthly_charges.describe()"
   ]
  },
  {
   "cell_type": "code",
   "execution_count": 15,
   "id": "3296305e-302a-4b2a-a711-52fff610221e",
   "metadata": {},
   "outputs": [
    {
     "data": {
      "text/plain": [
       "count    1811.000000\n",
       "mean       61.266759\n",
       "std        31.084016\n",
       "min        18.400000\n",
       "25%        25.150000\n",
       "50%        64.450000\n",
       "75%        87.475000\n",
       "max       118.600000\n",
       "Name: monthly_charges, dtype: float64"
      ]
     },
     "execution_count": 15,
     "metadata": {},
     "output_type": "execute_result"
    }
   ],
   "source": [
    "no_churn.monthly_charges.describe()"
   ]
  },
  {
   "cell_type": "code",
   "execution_count": 14,
   "id": "f5ba0043-13f9-4739-a57d-694919827327",
   "metadata": {},
   "outputs": [
    {
     "data": {
      "text/plain": [
       "count     654.000000\n",
       "mean     1564.455887\n",
       "std      1939.229536\n",
       "min        18.850000\n",
       "25%       113.912500\n",
       "50%       658.400000\n",
       "75%      2413.112500\n",
       "max      8109.800000\n",
       "Name: total_charges, dtype: float64"
      ]
     },
     "execution_count": 14,
     "metadata": {},
     "output_type": "execute_result"
    }
   ],
   "source": [
    "churn_df.total_charges.describe()"
   ]
  },
  {
   "cell_type": "code",
   "execution_count": 16,
   "id": "90ee74bd-7b4e-42a0-a5d4-84984d8af905",
   "metadata": {},
   "outputs": [
    {
     "data": {
      "text/plain": [
       "count    1811.000000\n",
       "mean     2577.315737\n",
       "std      2338.554452\n",
       "min         0.000000\n",
       "25%       564.500000\n",
       "50%      1752.450000\n",
       "75%      4329.100000\n",
       "max      8670.100000\n",
       "Name: total_charges, dtype: float64"
      ]
     },
     "execution_count": 16,
     "metadata": {},
     "output_type": "execute_result"
    }
   ],
   "source": [
    "no_churn.total_charges.describe()"
   ]
  },
  {
   "cell_type": "code",
   "execution_count": 8,
   "id": "1e225ee2-9304-4579-853d-205a79c7e064",
   "metadata": {},
   "outputs": [],
   "source": [
    "#Split, Apply, Combine.\n",
    "#Split using a single column train_df = train_df.groupby(['column'])\n",
    "#get the new group new_group.get_group('group')\n",
    "\n",
    "#Useful bc you don't need a filter every time:\n",
    "#new_group['column'].value_counts().loc['any_group']\n",
    "#To see percentages versus numbers:\n",
    "#new_group['column'].value_counts(normalize=True).loc['any_group']\n",
    "\n",
    "\n",
    "#Alt way:\n",
    "#filt = df['column'] == 'group'\n",
    "#df.loc[filt]"
   ]
  },
  {
   "cell_type": "markdown",
   "id": "13a7a3da-94a6-408a-9137-16fb44c3277f",
   "metadata": {},
   "source": [
    "### Question 1 <a class=\"anchor\" id=\"q_1\"></a>"
   ]
  },
  {
   "cell_type": "markdown",
   "id": "9107f19c-9fda-48fa-bfb0-9b533aeab9a0",
   "metadata": {},
   "source": [
    "#### Q1 Visualization <a class=\"anchor\" id=\"q_1_viz\"></a>"
   ]
  },
  {
   "cell_type": "markdown",
   "id": "72803191-c7a9-40de-a99a-161473270279",
   "metadata": {},
   "source": [
    "#### Q1 Statistical Test <a class=\"anchor\" id=\"q_1_stats\"></a>"
   ]
  },
  {
   "cell_type": "markdown",
   "id": "fa653c8b-64e1-43e6-aa0d-3f26349d3c71",
   "metadata": {},
   "source": [
    "#### Q1 Answer <a class=\"anchor\" id=\"q_1_ans\"></a>"
   ]
  },
  {
   "cell_type": "markdown",
   "id": "d7f50487-e2e4-48a6-ab84-365256901d55",
   "metadata": {
    "tags": []
   },
   "source": [
    "### Question 2 <a class=\"anchor\" id=\"q_2\"></a>"
   ]
  },
  {
   "cell_type": "markdown",
   "id": "21704ac9-d833-40d7-9a7f-faff48974274",
   "metadata": {},
   "source": [
    "#### Q2 Visualization <a class=\"anchor\" id=\"q_2_viz\"></a>"
   ]
  },
  {
   "cell_type": "markdown",
   "id": "ad88babc-eda1-4d86-af9d-82fda2f6db3c",
   "metadata": {},
   "source": [
    "#### Q2 Statistical Test <a class=\"anchor\" id=\"q_2_stats\"></a>"
   ]
  },
  {
   "cell_type": "markdown",
   "id": "85e896d4-ea08-42ee-bf2d-f4739fcd3248",
   "metadata": {},
   "source": [
    "#### Q2 Answer <a class=\"anchor\" id=\"q_2_ans\"></a>"
   ]
  },
  {
   "cell_type": "markdown",
   "id": "0e76b94f-568b-467c-8fa6-6374f080bbc2",
   "metadata": {},
   "source": [
    "### Question 3 <a class=\"anchor\" id=\"q_3\"></a>"
   ]
  },
  {
   "cell_type": "markdown",
   "id": "59f03859-7917-40fa-852f-c19a17b816ab",
   "metadata": {},
   "source": [
    "#### Q3 Visualization <a class=\"anchor\" id=\"q_3_viz\"></a>"
   ]
  },
  {
   "cell_type": "markdown",
   "id": "4de1d165-5a61-4a80-b921-27d96c56f749",
   "metadata": {},
   "source": [
    "#### Q3 Statistical Test <a class=\"anchor\" id=\"q_3_stats\"></a>"
   ]
  },
  {
   "cell_type": "markdown",
   "id": "66f9719e-14a6-44aa-b680-d769c95e48c7",
   "metadata": {},
   "source": [
    "#### Q3 Answer <a class=\"anchor\" id=\"q_3_ans\"></a>"
   ]
  },
  {
   "cell_type": "markdown",
   "id": "58e36f34-7b37-474c-a91f-1e87c5ddbe9c",
   "metadata": {},
   "source": [
    "### Question 4 <a class=\"anchor\" id=\"q_4\"></a>"
   ]
  },
  {
   "cell_type": "markdown",
   "id": "1ef53f71-f308-4fcd-b395-ba624049572e",
   "metadata": {},
   "source": [
    "#### Q4 Visualization <a class=\"anchor\" id=\"q_4_viz\"></a>"
   ]
  },
  {
   "cell_type": "markdown",
   "id": "4de85212-4e22-43ee-940d-b14716cc4d74",
   "metadata": {},
   "source": [
    "#### Q4 Statistical Test <a class=\"anchor\" id=\"q_4_stats\"></a>"
   ]
  },
  {
   "cell_type": "markdown",
   "id": "01a09f03-5a1d-4bff-b071-2b13f26abd1b",
   "metadata": {},
   "source": [
    "#### Q4 Answer <a class=\"anchor\" id=\"q_4_ans\"></a>"
   ]
  },
  {
   "cell_type": "markdown",
   "id": "6e69a5bd-9e53-4fcb-85fc-12a4e1f743fb",
   "metadata": {
    "tags": []
   },
   "source": [
    "## Explore summary <a class=\"anchor\" id=\"explore2\"></a>"
   ]
  },
  {
   "cell_type": "markdown",
   "id": "7588c745-69e2-47d4-a4c9-aa52cadba7f7",
   "metadata": {},
   "source": [
    "## Modeling <a class=\"anchor\" id=\"modeling\"></a>"
   ]
  },
  {
   "cell_type": "markdown",
   "id": "6d6b595c-5434-4bdd-8a5d-3fc9b1c6a570",
   "metadata": {},
   "source": [
    "### Introduction <a class=\"anchor\" id=\"m_intro\"></a>"
   ]
  },
  {
   "cell_type": "markdown",
   "id": "c4789371-a1c2-42fc-a269-908883997e9d",
   "metadata": {},
   "source": [
    "### Baseline <a class=\"anchor\" id=\"baseline\"></a>"
   ]
  },
  {
   "cell_type": "markdown",
   "id": "d82a1d76-d892-4568-bab9-5278742f5ae9",
   "metadata": {},
   "source": [
    "### Model 1 <a class=\"anchor\" id=\"mod_1\"></a>"
   ]
  },
  {
   "cell_type": "markdown",
   "id": "1f561660-a9dc-4f7a-95c2-731ef8be1971",
   "metadata": {},
   "source": [
    "### Model 2 <a class=\"anchor\" id=\"mod_2\"></a>"
   ]
  },
  {
   "cell_type": "markdown",
   "id": "41c2ebe1-b3ff-42ca-b1cb-daad9f7ad780",
   "metadata": {},
   "source": [
    "### Model 3 <a class=\"anchor\" id=\"mod_3\"></a>"
   ]
  },
  {
   "cell_type": "markdown",
   "id": "5821af27-797e-4d21-a622-585e34d8837d",
   "metadata": {},
   "source": [
    "## Conclusion <a class=\"anchor\" id=\"conclusion\"></a>"
   ]
  },
  {
   "cell_type": "markdown",
   "id": "08146521-cf0d-444c-ab80-8b6a49f0fffd",
   "metadata": {},
   "source": [
    "### Summery <a class=\"anchor\" id=\"c_summery\"></a>"
   ]
  },
  {
   "cell_type": "markdown",
   "id": "4d9f15e6-dfb6-477a-b5e8-6089a5bf53c5",
   "metadata": {},
   "source": [
    "### Recommendations <a class=\"anchor\" id=\"c_recs\"></a>"
   ]
  },
  {
   "cell_type": "markdown",
   "id": "975b79df-d0c7-4736-994b-b79f787568c2",
   "metadata": {},
   "source": [
    "### Next Steps <a class=\"anchor\" id=\"c_steps\"></a>"
   ]
  },
  {
   "cell_type": "markdown",
   "id": "9c4963c6-3a98-4ca2-9e8c-22e29986b323",
   "metadata": {
    "tags": []
   },
   "source": [
    "## ReadMe <a class=\"anchor\" id=\"readme\"></a>"
   ]
  },
  {
   "cell_type": "markdown",
   "id": "0ee8a8b0-2725-4c39-a578-42385d0c39de",
   "metadata": {
    "tags": []
   },
   "source": [
    "Your README should contain all of the following elements:\n",
    "\n",
    "* **Title** Gives the name of your project\n",
    "* **Project Description** Describes what your project is and why it is important \n",
    "* **Project Goal** Clearly states what your project sets out to do and how the information gained can be applied to the real world\n",
    "* **Initial Hypotheses** Initial questions used to focus your project \n",
    "* **Project Plan** Guides the reader through the different stages of the pipeline as they relate to your project\n",
    "* **Data Dictionary** Gives a definition for each of the features used in your report and the units they are measured in, if applicable\n",
    "* **Steps to Reproduce** Gives instructions for reproducing your work. i.e. Running your notebook on someone else's computer."
   ]
  },
  {
   "cell_type": "code",
   "execution_count": null,
   "id": "d8f58811-0a53-4fe6-94c2-cfb7debc63ab",
   "metadata": {},
   "outputs": [],
   "source": []
  },
  {
   "cell_type": "code",
   "execution_count": null,
   "id": "54df4856-acb2-4061-ad94-981ae74283cc",
   "metadata": {},
   "outputs": [],
   "source": []
  },
  {
   "cell_type": "code",
   "execution_count": null,
   "id": "3ec4d9a4-8232-4bbe-925b-3656cd3ce84c",
   "metadata": {},
   "outputs": [],
   "source": []
  }
 ],
 "metadata": {
  "kernelspec": {
   "display_name": "Python 3 (ipykernel)",
   "language": "python",
   "name": "python3"
  },
  "language_info": {
   "codemirror_mode": {
    "name": "ipython",
    "version": 3
   },
   "file_extension": ".py",
   "mimetype": "text/x-python",
   "name": "python",
   "nbconvert_exporter": "python",
   "pygments_lexer": "ipython3",
   "version": "3.9.15"
  }
 },
 "nbformat": 4,
 "nbformat_minor": 5
}
