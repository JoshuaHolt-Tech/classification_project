{
 "cells": [
  {
   "cell_type": "markdown",
   "id": "0ed6baa7-0e63-4608-b0f4-21c551604019",
   "metadata": {},
   "source": [
    "# Classification Project: Telco Churn"
   ]
  },
  {
   "cell_type": "markdown",
   "id": "2ffe15ca-cf8a-42c4-bca4-14965b4348fb",
   "metadata": {},
   "source": [
    "## Goal:"
   ]
  },
  {
   "cell_type": "markdown",
   "id": "40d3fd8e-bca9-4d26-bed8-7bc604ac3b1c",
   "metadata": {},
   "source": [
    "- Discover the drivers causing customers to churn.\n",
    "- Use drivers to develop a machine learning model to classify customers as likely or unlikely to churn."
   ]
  },
  {
   "cell_type": "markdown",
   "id": "3b2523cc-bfee-4467-8e76-982690312b4d",
   "metadata": {
    "tags": []
   },
   "source": [
    "## Package Imports <a class=\"anchor\" id=\"packages_import\"></a>\n"
   ]
  },
  {
   "cell_type": "code",
   "execution_count": 1,
   "id": "abb03a08-020e-4a57-b50f-bf61c8759100",
   "metadata": {},
   "outputs": [],
   "source": [
    "#Importing required packages and files\n",
    "import pandas as pd\n",
    "import numpy as np\n",
    "from scipy import stats\n",
    "import matplotlib.pyplot as plt\n",
    "import seaborn as sns\n",
    "\n",
    "#These imports were constructed\n",
    "from acquire import get_telco_data\n",
    "from prepare import prep_telco, train_validate\n",
    "\n",
    "#Tools to build machine learning models and reports\n",
    "from sklearn.metrics import classification_report, confusion_matrix\n",
    "from sklearn.model_selection import train_test_split\n",
    "from sklearn.tree import DecisionTreeClassifier, plot_tree\n",
    "from sklearn.ensemble import RandomForestClassifier\n",
    "from sklearn.neighbors import KNeighborsClassifier\n",
    "from sklearn.linear_model import LogisticRegression\n",
    "\n",
    "#Removes warnings and imporves asthenics\n",
    "import warnings\n",
    "warnings.filterwarnings(\"ignore\")\n",
    "\n",
    "#Sets an option to show all columns\n",
    "pd.options.display.max_columns = None"
   ]
  },
  {
   "cell_type": "markdown",
   "id": "02c71b6f-cb0a-45eb-bb25-4c323b9df712",
   "metadata": {
    "tags": []
   },
   "source": [
    "## Acquire<a class=\"anchor\" id=\"data_import\"></a>"
   ]
  },
  {
   "cell_type": "markdown",
   "id": "edc7ed87-fbeb-45a0-bf5d-ad9415a0c1b8",
   "metadata": {},
   "source": [
    "- Data acquired from Codeup's SQL telco_churn database.\n",
    "- The query resulted in 24 columns and 7043 rows before cleaning.\n",
    "- Each row represents a record about a customer.\n",
    "- Each column represents a feature associated with that customer."
   ]
  },
  {
   "cell_type": "markdown",
   "id": "7153dd8d-f397-4497-bb55-480280416e86",
   "metadata": {
    "tags": []
   },
   "source": [
    "## Prepare <a class=\"anchor\" id=\"prepare\"></a>"
   ]
  },
  {
   "cell_type": "markdown",
   "id": "75ca578a-f120-47df-97df-06a91b77ff47",
   "metadata": {},
   "source": [
    "### Prepare Actions:\n",
    "1. Checked for nulls and replaced with 0 for total_charges.\n",
    "2. Changed column data types to a usable format.\n",
    "3. Created 'tenure' column since the provided one seemed suspect.\n",
    "4. Created dummy columns for categorical fields and encoded variables.\n",
    "5. Dropped unused or redundant columns.\n",
    "6. Split data into Train, Validate and Test sets (approx. 80/14/6), stratifying on 'churn'."
   ]
  },
  {
   "cell_type": "markdown",
   "id": "96efc403-03f8-431c-9ef1-5cbd5309982f",
   "metadata": {},
   "source": [
    "## Data Dictionary:"
   ]
  },
  {
   "cell_type": "markdown",
   "id": "78dfa1f9-d140-4590-a3f8-fe4e849bd1e4",
   "metadata": {},
   "source": [
    "\n",
    "| Feature |\tDefinition |\n",
    "|:--------|:-----------|\n",
    "|phone_service| Indicates if a customer is subscribed for phone service |\n",
    "|multiple_lines| If a customer subscribed for phone service has multiple lines.|\n",
    "|online_security| If a customer is subscribed for online security service |\n",
    "|online_backup|  If a customer is subscribed for online backup service |\n",
    "|device_protection|  If a customer is subscribed for device protection service |\n",
    "|tech_support|  If a customer is subscribed for technical support service |\n",
    "|streaming_tv|  If a customer is subscribed for streaming TV service |\n",
    "|streaming_movies|  If a customer is subscribed for streaming movie service |\n",
    "|churn_month|  If a customer has churned, this is the month they cancelled their service |\n",
    "|paperless_billing| Indicates 1 if the customer subscribe to paperless_billing. |\n",
    "|gender| The customer's biological sex |\n",
    "|senior_citizen| Indicates 1 if the customer is described as a senior citizen. Cutoff age is unknown. |\n",
    "|partner| Indicates 1 if the customer has a spouse. |\n",
    "|dependents| Indicates 1 if the customer is relied upon by another human for financial support. |\n",
    "|monthly_charges| Total charges on a monthly basis for all the services a customer is subscribed to.|\n",
    "|total_charges| This is a sum of all the monthly charges a customer has paid during their tenure.|\n",
    "|signup_date| The date on which the customer first signed up for services. |\n",
    "|contract_type| Month-to-month, yearly and two-year contracts|\n",
    "|internet_service_type| None, DSL and fiber optic |\n",
    "|payment_type| Mailed check, electronic check, bank transfer and credit card. |\n",
    "|churn (target)| Indicates 1 if the customer has cancelled all their subscriptions with Telco. |\n",
    "|tenure| The number of months that a customer has been subscribed for services. |"
   ]
  },
  {
   "cell_type": "code",
   "execution_count": null,
   "id": "193071e2-ef84-48af-9920-609bfb17e948",
   "metadata": {},
   "outputs": [],
   "source": []
  }
 ],
 "metadata": {
  "kernelspec": {
   "display_name": "Python 3 (ipykernel)",
   "language": "python",
   "name": "python3"
  },
  "language_info": {
   "codemirror_mode": {
    "name": "ipython",
    "version": 3
   },
   "file_extension": ".py",
   "mimetype": "text/x-python",
   "name": "python",
   "nbconvert_exporter": "python",
   "pygments_lexer": "ipython3",
   "version": "3.9.15"
  }
 },
 "nbformat": 4,
 "nbformat_minor": 5
}
